{
  "nbformat": 4,
  "nbformat_minor": 0,
  "metadata": {
    "colab": {
      "name": "Crossselling_Upselling_OnlineRetail.ipynb",
      "provenance": [],
      "collapsed_sections": []
    },
    "kernelspec": {
      "name": "python3",
      "display_name": "Python 3"
    },
    "accelerator": "GPU",
    "widgets": {
      "application/vnd.jupyter.widget-state+json": {
        "faf41c418ff44172a53cc9f55c1593e5": {
          "model_module": "@jupyter-widgets/controls",
          "model_name": "HBoxModel",
          "state": {
            "_view_name": "HBoxView",
            "_dom_classes": [],
            "_model_name": "HBoxModel",
            "_view_module": "@jupyter-widgets/controls",
            "_model_module_version": "1.5.0",
            "_view_count": null,
            "_view_module_version": "1.5.0",
            "box_style": "",
            "layout": "IPY_MODEL_afa7a98f16b74a1c847a3645b2e72e44",
            "_model_module": "@jupyter-widgets/controls",
            "children": [
              "IPY_MODEL_28e9be3541fc4ddca2f14b9fc9ec97f9",
              "IPY_MODEL_4a450ade6bf6486f978a240bbc051eb2"
            ]
          }
        },
        "afa7a98f16b74a1c847a3645b2e72e44": {
          "model_module": "@jupyter-widgets/base",
          "model_name": "LayoutModel",
          "state": {
            "_view_name": "LayoutView",
            "grid_template_rows": null,
            "right": null,
            "justify_content": null,
            "_view_module": "@jupyter-widgets/base",
            "overflow": null,
            "_model_module_version": "1.2.0",
            "_view_count": null,
            "flex_flow": null,
            "width": null,
            "min_width": null,
            "border": null,
            "align_items": null,
            "bottom": null,
            "_model_module": "@jupyter-widgets/base",
            "top": null,
            "grid_column": null,
            "overflow_y": null,
            "overflow_x": null,
            "grid_auto_flow": null,
            "grid_area": null,
            "grid_template_columns": null,
            "flex": null,
            "_model_name": "LayoutModel",
            "justify_items": null,
            "grid_row": null,
            "max_height": null,
            "align_content": null,
            "visibility": null,
            "align_self": null,
            "height": null,
            "min_height": null,
            "padding": null,
            "grid_auto_rows": null,
            "grid_gap": null,
            "max_width": null,
            "order": null,
            "_view_module_version": "1.2.0",
            "grid_template_areas": null,
            "object_position": null,
            "object_fit": null,
            "grid_auto_columns": null,
            "margin": null,
            "display": null,
            "left": null
          }
        },
        "28e9be3541fc4ddca2f14b9fc9ec97f9": {
          "model_module": "@jupyter-widgets/controls",
          "model_name": "FloatProgressModel",
          "state": {
            "_view_name": "ProgressView",
            "style": "IPY_MODEL_054ac6cd9d8a478bb20d2ead96c9705c",
            "_dom_classes": [],
            "description": "100%",
            "_model_name": "FloatProgressModel",
            "bar_style": "success",
            "max": 80,
            "_view_module": "@jupyter-widgets/controls",
            "_model_module_version": "1.5.0",
            "value": 80,
            "_view_count": null,
            "_view_module_version": "1.5.0",
            "orientation": "horizontal",
            "min": 0,
            "description_tooltip": null,
            "_model_module": "@jupyter-widgets/controls",
            "layout": "IPY_MODEL_2715ce3094344feda1a3e5c3a96324cf"
          }
        },
        "4a450ade6bf6486f978a240bbc051eb2": {
          "model_module": "@jupyter-widgets/controls",
          "model_name": "HTMLModel",
          "state": {
            "_view_name": "HTMLView",
            "style": "IPY_MODEL_88a03c6ccd3f45f1aeee2829bbc1e24a",
            "_dom_classes": [],
            "description": "",
            "_model_name": "HTMLModel",
            "placeholder": "​",
            "_view_module": "@jupyter-widgets/controls",
            "_model_module_version": "1.5.0",
            "value": " 80/80 [00:24&lt;00:00,  3.28it/s]",
            "_view_count": null,
            "_view_module_version": "1.5.0",
            "description_tooltip": null,
            "_model_module": "@jupyter-widgets/controls",
            "layout": "IPY_MODEL_5bb08de4ef364ac9a8aded669c2024b5"
          }
        },
        "054ac6cd9d8a478bb20d2ead96c9705c": {
          "model_module": "@jupyter-widgets/controls",
          "model_name": "ProgressStyleModel",
          "state": {
            "_view_name": "StyleView",
            "_model_name": "ProgressStyleModel",
            "description_width": "initial",
            "_view_module": "@jupyter-widgets/base",
            "_model_module_version": "1.5.0",
            "_view_count": null,
            "_view_module_version": "1.2.0",
            "bar_color": null,
            "_model_module": "@jupyter-widgets/controls"
          }
        },
        "2715ce3094344feda1a3e5c3a96324cf": {
          "model_module": "@jupyter-widgets/base",
          "model_name": "LayoutModel",
          "state": {
            "_view_name": "LayoutView",
            "grid_template_rows": null,
            "right": null,
            "justify_content": null,
            "_view_module": "@jupyter-widgets/base",
            "overflow": null,
            "_model_module_version": "1.2.0",
            "_view_count": null,
            "flex_flow": null,
            "width": null,
            "min_width": null,
            "border": null,
            "align_items": null,
            "bottom": null,
            "_model_module": "@jupyter-widgets/base",
            "top": null,
            "grid_column": null,
            "overflow_y": null,
            "overflow_x": null,
            "grid_auto_flow": null,
            "grid_area": null,
            "grid_template_columns": null,
            "flex": null,
            "_model_name": "LayoutModel",
            "justify_items": null,
            "grid_row": null,
            "max_height": null,
            "align_content": null,
            "visibility": null,
            "align_self": null,
            "height": null,
            "min_height": null,
            "padding": null,
            "grid_auto_rows": null,
            "grid_gap": null,
            "max_width": null,
            "order": null,
            "_view_module_version": "1.2.0",
            "grid_template_areas": null,
            "object_position": null,
            "object_fit": null,
            "grid_auto_columns": null,
            "margin": null,
            "display": null,
            "left": null
          }
        },
        "88a03c6ccd3f45f1aeee2829bbc1e24a": {
          "model_module": "@jupyter-widgets/controls",
          "model_name": "DescriptionStyleModel",
          "state": {
            "_view_name": "StyleView",
            "_model_name": "DescriptionStyleModel",
            "description_width": "",
            "_view_module": "@jupyter-widgets/base",
            "_model_module_version": "1.5.0",
            "_view_count": null,
            "_view_module_version": "1.2.0",
            "_model_module": "@jupyter-widgets/controls"
          }
        },
        "5bb08de4ef364ac9a8aded669c2024b5": {
          "model_module": "@jupyter-widgets/base",
          "model_name": "LayoutModel",
          "state": {
            "_view_name": "LayoutView",
            "grid_template_rows": null,
            "right": null,
            "justify_content": null,
            "_view_module": "@jupyter-widgets/base",
            "overflow": null,
            "_model_module_version": "1.2.0",
            "_view_count": null,
            "flex_flow": null,
            "width": null,
            "min_width": null,
            "border": null,
            "align_items": null,
            "bottom": null,
            "_model_module": "@jupyter-widgets/base",
            "top": null,
            "grid_column": null,
            "overflow_y": null,
            "overflow_x": null,
            "grid_auto_flow": null,
            "grid_area": null,
            "grid_template_columns": null,
            "flex": null,
            "_model_name": "LayoutModel",
            "justify_items": null,
            "grid_row": null,
            "max_height": null,
            "align_content": null,
            "visibility": null,
            "align_self": null,
            "height": null,
            "min_height": null,
            "padding": null,
            "grid_auto_rows": null,
            "grid_gap": null,
            "max_width": null,
            "order": null,
            "_view_module_version": "1.2.0",
            "grid_template_areas": null,
            "object_position": null,
            "object_fit": null,
            "grid_auto_columns": null,
            "margin": null,
            "display": null,
            "left": null
          }
        }
      }
    }
  },
  "cells": [
    {
      "cell_type": "markdown",
      "metadata": {
        "id": "o_aBku9I9o_3",
        "colab_type": "text"
      },
      "source": [
        "\n",
        "\n",
        "## **Buisness Problem**: Retail Analysis (Cross-sell & Up-sell)\n",
        "\n"
      ]
    },
    {
      "cell_type": "markdown",
      "metadata": {
        "id": "MMyO-JZ3-hEz",
        "colab_type": "text"
      },
      "source": [
        "# **Dataset** \n",
        "(Online Retail.xlsx)"
      ]
    },
    {
      "cell_type": "code",
      "metadata": {
        "id": "hILJ-LZaMwb0",
        "colab_type": "code",
        "colab": {}
      },
      "source": [
        "import numpy as np\n",
        "import pandas as pd"
      ],
      "execution_count": null,
      "outputs": []
    },
    {
      "cell_type": "code",
      "metadata": {
        "id": "g_P1j59pN8ZP",
        "colab_type": "code",
        "colab": {
          "base_uri": "https://localhost:8080/",
          "height": 119
        },
        "outputId": "98fc7061-b585-434f-d25e-f11d2b249f1a"
      },
      "source": [
        "! git clone https://github.com/Swapnil-Damate/Upselling-and-cross-selling-.git\n",
        "#written by Swapnil\n"
      ],
      "execution_count": null,
      "outputs": [
        {
          "output_type": "stream",
          "text": [
            "Cloning into 'Upselling-and-cross-selling-'...\n",
            "remote: Enumerating objects: 19, done.\u001b[K\n",
            "remote: Counting objects: 100% (19/19), done.\u001b[K\n",
            "remote: Compressing objects: 100% (17/17), done.\u001b[K\n",
            "remote: Total 19 (delta 4), reused 0 (delta 0), pack-reused 0\u001b[K\n",
            "Unpacking objects: 100% (19/19), done.\n"
          ],
          "name": "stdout"
        }
      ]
    },
    {
      "cell_type": "code",
      "metadata": {
        "id": "UqU0k0uKOKGR",
        "colab_type": "code",
        "colab": {}
      },
      "source": [
        "dataset = pd.read_excel('/content/Upselling-and-cross-selling-/Online Retail.xlsx')\n",
        "df = dataset.copy()\n",
        "#written By Swapnil"
      ],
      "execution_count": null,
      "outputs": []
    },
    {
      "cell_type": "markdown",
      "metadata": {
        "id": "Jf7fECGKQzZ7",
        "colab_type": "text"
      },
      "source": [
        "## **Exploratory Data Analysis (EDA)**"
      ]
    },
    {
      "cell_type": "code",
      "metadata": {
        "id": "iW1iPS0JHpPg",
        "colab_type": "code",
        "colab": {
          "base_uri": "https://localhost:8080/",
          "height": 204
        },
        "outputId": "2b274be2-8e04-42ec-88ac-cc80591509f3"
      },
      "source": [
        "df.head()"
      ],
      "execution_count": null,
      "outputs": [
        {
          "output_type": "execute_result",
          "data": {
            "text/html": [
              "<div>\n",
              "<style scoped>\n",
              "    .dataframe tbody tr th:only-of-type {\n",
              "        vertical-align: middle;\n",
              "    }\n",
              "\n",
              "    .dataframe tbody tr th {\n",
              "        vertical-align: top;\n",
              "    }\n",
              "\n",
              "    .dataframe thead th {\n",
              "        text-align: right;\n",
              "    }\n",
              "</style>\n",
              "<table border=\"1\" class=\"dataframe\">\n",
              "  <thead>\n",
              "    <tr style=\"text-align: right;\">\n",
              "      <th></th>\n",
              "      <th>InvoiceNo</th>\n",
              "      <th>StockCode</th>\n",
              "      <th>Description</th>\n",
              "      <th>Quantity</th>\n",
              "      <th>InvoiceDate</th>\n",
              "      <th>UnitPrice</th>\n",
              "      <th>CustomerID</th>\n",
              "      <th>Country</th>\n",
              "    </tr>\n",
              "  </thead>\n",
              "  <tbody>\n",
              "    <tr>\n",
              "      <th>0</th>\n",
              "      <td>536365</td>\n",
              "      <td>85123A</td>\n",
              "      <td>WHITE HANGING HEART T-LIGHT HOLDER</td>\n",
              "      <td>6</td>\n",
              "      <td>2010-12-01 08:26:00</td>\n",
              "      <td>2.55</td>\n",
              "      <td>17850.0</td>\n",
              "      <td>United Kingdom</td>\n",
              "    </tr>\n",
              "    <tr>\n",
              "      <th>1</th>\n",
              "      <td>536365</td>\n",
              "      <td>71053</td>\n",
              "      <td>WHITE METAL LANTERN</td>\n",
              "      <td>6</td>\n",
              "      <td>2010-12-01 08:26:00</td>\n",
              "      <td>3.39</td>\n",
              "      <td>17850.0</td>\n",
              "      <td>United Kingdom</td>\n",
              "    </tr>\n",
              "    <tr>\n",
              "      <th>2</th>\n",
              "      <td>536365</td>\n",
              "      <td>84406B</td>\n",
              "      <td>CREAM CUPID HEARTS COAT HANGER</td>\n",
              "      <td>8</td>\n",
              "      <td>2010-12-01 08:26:00</td>\n",
              "      <td>2.75</td>\n",
              "      <td>17850.0</td>\n",
              "      <td>United Kingdom</td>\n",
              "    </tr>\n",
              "    <tr>\n",
              "      <th>3</th>\n",
              "      <td>536365</td>\n",
              "      <td>84029G</td>\n",
              "      <td>KNITTED UNION FLAG HOT WATER BOTTLE</td>\n",
              "      <td>6</td>\n",
              "      <td>2010-12-01 08:26:00</td>\n",
              "      <td>3.39</td>\n",
              "      <td>17850.0</td>\n",
              "      <td>United Kingdom</td>\n",
              "    </tr>\n",
              "    <tr>\n",
              "      <th>4</th>\n",
              "      <td>536365</td>\n",
              "      <td>84029E</td>\n",
              "      <td>RED WOOLLY HOTTIE WHITE HEART.</td>\n",
              "      <td>6</td>\n",
              "      <td>2010-12-01 08:26:00</td>\n",
              "      <td>3.39</td>\n",
              "      <td>17850.0</td>\n",
              "      <td>United Kingdom</td>\n",
              "    </tr>\n",
              "  </tbody>\n",
              "</table>\n",
              "</div>"
            ],
            "text/plain": [
              "  InvoiceNo StockCode  ... CustomerID         Country\n",
              "0    536365    85123A  ...    17850.0  United Kingdom\n",
              "1    536365     71053  ...    17850.0  United Kingdom\n",
              "2    536365    84406B  ...    17850.0  United Kingdom\n",
              "3    536365    84029G  ...    17850.0  United Kingdom\n",
              "4    536365    84029E  ...    17850.0  United Kingdom\n",
              "\n",
              "[5 rows x 8 columns]"
            ]
          },
          "metadata": {
            "tags": []
          },
          "execution_count": 4
        }
      ]
    },
    {
      "cell_type": "code",
      "metadata": {
        "id": "BodJhoqqEmga",
        "colab_type": "code",
        "colab": {}
      },
      "source": [
        " df=df[['CustomerID','InvoiceNo','StockCode','Quantity','UnitPrice','Description','InvoiceDate','Country']]"
      ],
      "execution_count": null,
      "outputs": []
    },
    {
      "cell_type": "code",
      "metadata": {
        "id": "3kV2DIz3qDL9",
        "colab_type": "code",
        "colab": {
          "base_uri": "https://localhost:8080/",
          "height": 204
        },
        "outputId": "5bc9e2c1-61ed-403e-950f-6b72468f1fda"
      },
      "source": [
        "       #Creating Total amount variable and adding it to dataset\n",
        "TotalAmount=df['Quantity']*df['UnitPrice']\n",
        "df.insert(loc=6,column='TotalAmount',value=TotalAmount)\n",
        "df=df[['CustomerID','InvoiceNo','StockCode','Quantity','UnitPrice','TotalAmount','Description','InvoiceDate','Country']]\n",
        "df.head()"
      ],
      "execution_count": null,
      "outputs": [
        {
          "output_type": "execute_result",
          "data": {
            "text/html": [
              "<div>\n",
              "<style scoped>\n",
              "    .dataframe tbody tr th:only-of-type {\n",
              "        vertical-align: middle;\n",
              "    }\n",
              "\n",
              "    .dataframe tbody tr th {\n",
              "        vertical-align: top;\n",
              "    }\n",
              "\n",
              "    .dataframe thead th {\n",
              "        text-align: right;\n",
              "    }\n",
              "</style>\n",
              "<table border=\"1\" class=\"dataframe\">\n",
              "  <thead>\n",
              "    <tr style=\"text-align: right;\">\n",
              "      <th></th>\n",
              "      <th>CustomerID</th>\n",
              "      <th>InvoiceNo</th>\n",
              "      <th>StockCode</th>\n",
              "      <th>Quantity</th>\n",
              "      <th>UnitPrice</th>\n",
              "      <th>TotalAmount</th>\n",
              "      <th>Description</th>\n",
              "      <th>InvoiceDate</th>\n",
              "      <th>Country</th>\n",
              "    </tr>\n",
              "  </thead>\n",
              "  <tbody>\n",
              "    <tr>\n",
              "      <th>0</th>\n",
              "      <td>17850.0</td>\n",
              "      <td>536365</td>\n",
              "      <td>85123A</td>\n",
              "      <td>6</td>\n",
              "      <td>2.55</td>\n",
              "      <td>15.30</td>\n",
              "      <td>WHITE HANGING HEART T-LIGHT HOLDER</td>\n",
              "      <td>2010-12-01 08:26:00</td>\n",
              "      <td>United Kingdom</td>\n",
              "    </tr>\n",
              "    <tr>\n",
              "      <th>1</th>\n",
              "      <td>17850.0</td>\n",
              "      <td>536365</td>\n",
              "      <td>71053</td>\n",
              "      <td>6</td>\n",
              "      <td>3.39</td>\n",
              "      <td>20.34</td>\n",
              "      <td>WHITE METAL LANTERN</td>\n",
              "      <td>2010-12-01 08:26:00</td>\n",
              "      <td>United Kingdom</td>\n",
              "    </tr>\n",
              "    <tr>\n",
              "      <th>2</th>\n",
              "      <td>17850.0</td>\n",
              "      <td>536365</td>\n",
              "      <td>84406B</td>\n",
              "      <td>8</td>\n",
              "      <td>2.75</td>\n",
              "      <td>22.00</td>\n",
              "      <td>CREAM CUPID HEARTS COAT HANGER</td>\n",
              "      <td>2010-12-01 08:26:00</td>\n",
              "      <td>United Kingdom</td>\n",
              "    </tr>\n",
              "    <tr>\n",
              "      <th>3</th>\n",
              "      <td>17850.0</td>\n",
              "      <td>536365</td>\n",
              "      <td>84029G</td>\n",
              "      <td>6</td>\n",
              "      <td>3.39</td>\n",
              "      <td>20.34</td>\n",
              "      <td>KNITTED UNION FLAG HOT WATER BOTTLE</td>\n",
              "      <td>2010-12-01 08:26:00</td>\n",
              "      <td>United Kingdom</td>\n",
              "    </tr>\n",
              "    <tr>\n",
              "      <th>4</th>\n",
              "      <td>17850.0</td>\n",
              "      <td>536365</td>\n",
              "      <td>84029E</td>\n",
              "      <td>6</td>\n",
              "      <td>3.39</td>\n",
              "      <td>20.34</td>\n",
              "      <td>RED WOOLLY HOTTIE WHITE HEART.</td>\n",
              "      <td>2010-12-01 08:26:00</td>\n",
              "      <td>United Kingdom</td>\n",
              "    </tr>\n",
              "  </tbody>\n",
              "</table>\n",
              "</div>"
            ],
            "text/plain": [
              "   CustomerID InvoiceNo  ...         InvoiceDate         Country\n",
              "0     17850.0    536365  ... 2010-12-01 08:26:00  United Kingdom\n",
              "1     17850.0    536365  ... 2010-12-01 08:26:00  United Kingdom\n",
              "2     17850.0    536365  ... 2010-12-01 08:26:00  United Kingdom\n",
              "3     17850.0    536365  ... 2010-12-01 08:26:00  United Kingdom\n",
              "4     17850.0    536365  ... 2010-12-01 08:26:00  United Kingdom\n",
              "\n",
              "[5 rows x 9 columns]"
            ]
          },
          "metadata": {
            "tags": []
          },
          "execution_count": 6
        }
      ]
    },
    {
      "cell_type": "code",
      "metadata": {
        "id": "EPdVFXitqJ8q",
        "colab_type": "code",
        "colab": {
          "base_uri": "https://localhost:8080/",
          "height": 390
        },
        "outputId": "de1c946d-3a7c-4399-e120-5fa38a15c562"
      },
      "source": [
        "                                                  #Total amount of purchases for each customer\n",
        "new_df=df.groupby(['CustomerID']).sum()\n",
        "new_df.sort_values('TotalAmount',ascending=False,inplace=True)\n",
        "final_df = new_df[(new_df['Quantity']>0) & (new_df['TotalAmount'] > 0)]\n",
        "final_df.head(10)"
      ],
      "execution_count": null,
      "outputs": [
        {
          "output_type": "execute_result",
          "data": {
            "text/html": [
              "<div>\n",
              "<style scoped>\n",
              "    .dataframe tbody tr th:only-of-type {\n",
              "        vertical-align: middle;\n",
              "    }\n",
              "\n",
              "    .dataframe tbody tr th {\n",
              "        vertical-align: top;\n",
              "    }\n",
              "\n",
              "    .dataframe thead th {\n",
              "        text-align: right;\n",
              "    }\n",
              "</style>\n",
              "<table border=\"1\" class=\"dataframe\">\n",
              "  <thead>\n",
              "    <tr style=\"text-align: right;\">\n",
              "      <th></th>\n",
              "      <th>Quantity</th>\n",
              "      <th>UnitPrice</th>\n",
              "      <th>TotalAmount</th>\n",
              "    </tr>\n",
              "    <tr>\n",
              "      <th>CustomerID</th>\n",
              "      <th></th>\n",
              "      <th></th>\n",
              "      <th></th>\n",
              "    </tr>\n",
              "  </thead>\n",
              "  <tbody>\n",
              "    <tr>\n",
              "      <th>14646.0</th>\n",
              "      <td>196719</td>\n",
              "      <td>5400.21</td>\n",
              "      <td>279489.02</td>\n",
              "    </tr>\n",
              "    <tr>\n",
              "      <th>18102.0</th>\n",
              "      <td>64122</td>\n",
              "      <td>5159.73</td>\n",
              "      <td>256438.49</td>\n",
              "    </tr>\n",
              "    <tr>\n",
              "      <th>17450.0</th>\n",
              "      <td>69029</td>\n",
              "      <td>3320.09</td>\n",
              "      <td>187482.17</td>\n",
              "    </tr>\n",
              "    <tr>\n",
              "      <th>14911.0</th>\n",
              "      <td>77180</td>\n",
              "      <td>31060.66</td>\n",
              "      <td>132572.62</td>\n",
              "    </tr>\n",
              "    <tr>\n",
              "      <th>12415.0</th>\n",
              "      <td>77242</td>\n",
              "      <td>2499.82</td>\n",
              "      <td>123725.45</td>\n",
              "    </tr>\n",
              "    <tr>\n",
              "      <th>14156.0</th>\n",
              "      <td>57025</td>\n",
              "      <td>6544.29</td>\n",
              "      <td>113384.14</td>\n",
              "    </tr>\n",
              "    <tr>\n",
              "      <th>17511.0</th>\n",
              "      <td>63012</td>\n",
              "      <td>2607.08</td>\n",
              "      <td>88125.38</td>\n",
              "    </tr>\n",
              "    <tr>\n",
              "      <th>16684.0</th>\n",
              "      <td>49390</td>\n",
              "      <td>709.93</td>\n",
              "      <td>65892.08</td>\n",
              "    </tr>\n",
              "    <tr>\n",
              "      <th>13694.0</th>\n",
              "      <td>61803</td>\n",
              "      <td>1163.81</td>\n",
              "      <td>62653.10</td>\n",
              "    </tr>\n",
              "    <tr>\n",
              "      <th>15311.0</th>\n",
              "      <td>37720</td>\n",
              "      <td>6267.75</td>\n",
              "      <td>59419.34</td>\n",
              "    </tr>\n",
              "  </tbody>\n",
              "</table>\n",
              "</div>"
            ],
            "text/plain": [
              "            Quantity  UnitPrice  TotalAmount\n",
              "CustomerID                                  \n",
              "14646.0       196719    5400.21    279489.02\n",
              "18102.0        64122    5159.73    256438.49\n",
              "17450.0        69029    3320.09    187482.17\n",
              "14911.0        77180   31060.66    132572.62\n",
              "12415.0        77242    2499.82    123725.45\n",
              "14156.0        57025    6544.29    113384.14\n",
              "17511.0        63012    2607.08     88125.38\n",
              "16684.0        49390     709.93     65892.08\n",
              "13694.0        61803    1163.81     62653.10\n",
              "15311.0        37720    6267.75     59419.34"
            ]
          },
          "metadata": {
            "tags": []
          },
          "execution_count": 7
        }
      ]
    },
    {
      "cell_type": "code",
      "metadata": {
        "id": "uWyULHkaJjHX",
        "colab_type": "code",
        "colab": {}
      },
      "source": [
        "dff = df.copy()\n",
        "dff = dff.drop('CustomerID',axis=1)"
      ],
      "execution_count": null,
      "outputs": []
    },
    {
      "cell_type": "code",
      "metadata": {
        "id": "wPp-q9Bgft-w",
        "colab_type": "code",
        "colab": {}
      },
      "source": [
        "import seaborn as sns\n",
        "sns.heatmap(dff.corr(),annot=True,cmap='viridis')"
      ],
      "execution_count": null,
      "outputs": []
    },
    {
      "cell_type": "code",
      "metadata": {
        "id": "iNy1pvk3qUko",
        "colab_type": "code",
        "colab": {}
      },
      "source": [
        "                                                             #Customer who paid most and least\n",
        "print('Customer ID {} had paid maximum amount of {}'.format(int(final_df['TotalAmount'].argmax()),final_df['TotalAmount'].max()))\n",
        "print('Customer ID {} had paid minimum amount of {}'.format(int(final_df['TotalAmount'].argmin()),final_df['TotalAmount'].min()))"
      ],
      "execution_count": null,
      "outputs": []
    },
    {
      "cell_type": "code",
      "metadata": {
        "id": "czo3q8SvUiqW",
        "colab_type": "code",
        "colab": {}
      },
      "source": [
        "                                                            #Maximum and Minimum no. of quantity and it's corresponding customer ID \n",
        "print('The maximum number of products has been bought is {} by customer id {}'.format(final_df['Quantity'].max(),final_df['Quantity'].argmax()))\n",
        "print('The minimum number of product has been bought is {} by customer id {}'.format(final_df['Quantity'].min(),final_df['Quantity'].argmin()))"
      ],
      "execution_count": null,
      "outputs": []
    },
    {
      "cell_type": "code",
      "metadata": {
        "id": "Kjb_YvsaqkK2",
        "colab_type": "code",
        "colab": {}
      },
      "source": [
        "                                            #Total sales at each country and how many quantities sold at each country\n",
        "country=df.groupby(['Country']).sum()\n",
        "country.sort_values('TotalAmount',ascending=False,inplace=True)\n",
        "country.drop('CustomerID',axis=1,inplace=True)\n",
        "country.head()"
      ],
      "execution_count": null,
      "outputs": []
    },
    {
      "cell_type": "markdown",
      "metadata": {
        "id": "aarS8294---Z",
        "colab_type": "text"
      },
      "source": [
        "# **Data Cleaning / Data Preprocessing**"
      ]
    },
    {
      "cell_type": "code",
      "metadata": {
        "id": "j3z1l_9lUC1s",
        "colab_type": "code",
        "colab": {}
      },
      "source": [
        "df.shape"
      ],
      "execution_count": null,
      "outputs": []
    },
    {
      "cell_type": "code",
      "metadata": {
        "id": "6Z_g0SmAPsql",
        "colab_type": "code",
        "colab": {}
      },
      "source": [
        "df.describe()"
      ],
      "execution_count": null,
      "outputs": []
    },
    {
      "cell_type": "code",
      "metadata": {
        "id": "mXfp0PtgRRFI",
        "colab_type": "code",
        "colab": {}
      },
      "source": [
        "#To remove extra spaces in Description if present\n",
        "df['Description'] = df['Description'].str.strip()"
      ],
      "execution_count": null,
      "outputs": []
    },
    {
      "cell_type": "code",
      "metadata": {
        "id": "Y9GFm32GSYBd",
        "colab_type": "code",
        "colab": {
          "base_uri": "https://localhost:8080/",
          "height": 34
        },
        "outputId": "68f911b4-1440-4898-9fc9-d716a4aae6b2"
      },
      "source": [
        "#Drop NaN Entries\n",
        "df.dropna()\n",
        "df['InvoiceNo'] = df['InvoiceNo'].astype('str')\n",
        "df['StockCode'] = df['StockCode'].astype('str')\n",
        "df.shape"
      ],
      "execution_count": null,
      "outputs": [
        {
          "output_type": "execute_result",
          "data": {
            "text/plain": [
              "(541909, 9)"
            ]
          },
          "metadata": {
            "tags": []
          },
          "execution_count": 10
        }
      ]
    },
    {
      "cell_type": "code",
      "metadata": {
        "id": "axAeXX4yT_I0",
        "colab_type": "code",
        "colab": {}
      },
      "source": [
        "#Remove cancelled/Retured Transaction\n",
        "df = df[~df['InvoiceNo'].str.contains('C')]\n",
        "\n",
        "df = df[~df['InvoiceNo'].str.contains('A')]\n"
      ],
      "execution_count": null,
      "outputs": []
    },
    {
      "cell_type": "markdown",
      "metadata": {
        "id": "m8JhPKUzEryI",
        "colab_type": "text"
      },
      "source": [
        "# **Feature Engineering**"
      ]
    },
    {
      "cell_type": "code",
      "metadata": {
        "id": "_mABIk15E1_v",
        "colab_type": "code",
        "colab": {
          "base_uri": "https://localhost:8080/",
          "height": 221
        },
        "outputId": "4adb417f-a48a-4cc7-f738-340db2536fc9"
      },
      "source": [
        "\n",
        "df['InvoiceDate']=pd.to_datetime(df['InvoiceDate'])\n",
        "df['InvoiceDate']"
      ],
      "execution_count": null,
      "outputs": [
        {
          "output_type": "execute_result",
          "data": {
            "text/plain": [
              "0        2010-12-01 08:26:00\n",
              "1        2010-12-01 08:26:00\n",
              "2        2010-12-01 08:26:00\n",
              "3        2010-12-01 08:26:00\n",
              "4        2010-12-01 08:26:00\n",
              "                 ...        \n",
              "541904   2011-12-09 12:50:00\n",
              "541905   2011-12-09 12:50:00\n",
              "541906   2011-12-09 12:50:00\n",
              "541907   2011-12-09 12:50:00\n",
              "541908   2011-12-09 12:50:00\n",
              "Name: InvoiceDate, Length: 532618, dtype: datetime64[ns]"
            ]
          },
          "metadata": {
            "tags": []
          },
          "execution_count": 12
        }
      ]
    },
    {
      "cell_type": "code",
      "metadata": {
        "id": "8P-AWXPEoN0f",
        "colab_type": "code",
        "colab": {}
      },
      "source": [
        "df['year']=df['InvoiceDate'].apply(lambda date:date.year)\n",
        "df['month']=df['InvoiceDate'].apply(lambda date:date.month)"
      ],
      "execution_count": null,
      "outputs": []
    },
    {
      "cell_type": "markdown",
      "metadata": {
        "id": "e_0iIgU2EYrs",
        "colab_type": "text"
      },
      "source": [
        "# **Evaluate Algorithm**"
      ]
    },
    {
      "cell_type": "code",
      "metadata": {
        "id": "yHwWQvmJD8Kc",
        "colab_type": "code",
        "colab": {}
      },
      "source": [
        "!pip install mlxtend==0.17.0\n",
        "from mlxtend.frequent_patterns import fpgrowth\n",
        "from mlxtend.frequent_patterns import association_rules\n",
        "from mlxtend.frequent_patterns import apriori"
      ],
      "execution_count": null,
      "outputs": []
    },
    {
      "cell_type": "code",
      "metadata": {
        "id": "3ZlvjRs8erwu",
        "colab_type": "code",
        "colab": {}
      },
      "source": [
        "basket_Germany = (df[df['Country'] == 'Germany']\n",
        "             .groupby(['InvoiceNo', 'Description'])['Quantity'].sum().unstack().reset_index().fillna(0).set_index('InvoiceNo'))\n",
        "basket_Germany.head()"
      ],
      "execution_count": null,
      "outputs": []
    },
    {
      "cell_type": "code",
      "metadata": {
        "id": "aZECvPMCevej",
        "colab_type": "code",
        "colab": {}
      },
      "source": [
        "def encode_units(x):\n",
        "    if x <= 0:\n",
        "        return 0\n",
        "    if x >= 1:\n",
        "        return 1\n",
        "\n",
        "basket_sets = basket_Germany.applymap(encode_units)\n",
        "basket_sets.drop('POSTAGE', inplace=True, axis=1)"
      ],
      "execution_count": null,
      "outputs": []
    },
    {
      "cell_type": "markdown",
      "metadata": {
        "id": "UTLdauE131nB",
        "colab_type": "text"
      },
      "source": [
        "## Apriori Algorithm"
      ]
    },
    {
      "cell_type": "code",
      "metadata": {
        "id": "FXoZwQcu4n9R",
        "colab_type": "code",
        "colab": {}
      },
      "source": [
        "frequent_items = apriori(basket_sets, min_support=0.02, use_colnames=True)\n",
        "rules = association_rules(frequent_items, metric='lift', min_threshold=0.7)\n",
        "rules.head()"
      ],
      "execution_count": null,
      "outputs": []
    },
    {
      "cell_type": "code",
      "metadata": {
        "id": "2hneVsnLKF4l",
        "colab_type": "code",
        "colab": {}
      },
      "source": [
        "rules[ (rules['lift'] >= 6) &\n",
        "       (rules['confidence'] >= 0.80) ]"
      ],
      "execution_count": null,
      "outputs": []
    },
    {
      "cell_type": "markdown",
      "metadata": {
        "id": "kY9T282gCEP5",
        "colab_type": "text"
      },
      "source": [
        "# FpGrowth Algorithm"
      ]
    },
    {
      "cell_type": "code",
      "metadata": {
        "id": "q9XrtZq70HSG",
        "colab_type": "code",
        "colab": {}
      },
      "source": [
        "frequent_items2 = fpgrowth(basket_sets,\n",
        "                          min_support = 0.02, use_colnames = True)\n",
        "rules2 = association_rules(frequent_items2, metric=\"lift\", min_threshold=1)\n",
        "rules2.head()"
      ],
      "execution_count": null,
      "outputs": []
    },
    {
      "cell_type": "code",
      "metadata": {
        "id": "WTOhUCHPC-bW",
        "colab_type": "code",
        "colab": {}
      },
      "source": [
        "Rules = rules2[ (rules2['lift'] >= 6) &\n",
        "       (rules2['confidence'] >= 0.80) ]\n",
        "Rules.head()"
      ],
      "execution_count": null,
      "outputs": []
    },
    {
      "cell_type": "markdown",
      "metadata": {
        "id": "jIrzvuKKla3V",
        "colab_type": "text"
      },
      "source": [
        "# Result Visualization"
      ]
    },
    {
      "cell_type": "code",
      "metadata": {
        "id": "j5b6ZgJFnzo8",
        "colab_type": "code",
        "colab": {}
      },
      "source": [
        "#result.to_excel('/content/drive/My Drive/Internship Model Result/Final_retail_result.xlsx')\n",
        "final_Table = pd.read_excel('/content/Upselling-and-cross-selling-/Final_onlineretail_result.xlsx')\n",
        "final_Table = final_Table.drop('Unnamed: 0', axis=1)\n",
        "final_Table = final_Table.drop('Unnamed: 0.1', axis=1)\n",
        "final_Table = final_Table.replace()\n",
        "final_Table"
      ],
      "execution_count": null,
      "outputs": []
    },
    {
      "cell_type": "markdown",
      "metadata": {
        "id": "iksc9S2y5Kum",
        "colab_type": "text"
      },
      "source": [
        "##**MODEL**"
      ]
    },
    {
      "cell_type": "markdown",
      "metadata": {
        "id": "459PFT1Xy1yq",
        "colab_type": "text"
      },
      "source": [
        "# CROSS-SELL"
      ]
    },
    {
      "cell_type": "markdown",
      "metadata": {
        "id": "1k0lwKYDvzGw",
        "colab_type": "text"
      },
      "source": [
        "1."
      ]
    },
    {
      "cell_type": "code",
      "metadata": {
        "id": "NSCSV_Lxatl7",
        "colab_type": "code",
        "colab": {}
      },
      "source": [
        "basket_Germany=basket_Germany.reset_index()\n",
        "basket_Germany.head()"
      ],
      "execution_count": null,
      "outputs": []
    },
    {
      "cell_type": "code",
      "metadata": {
        "id": "gV1hnjZJatUt",
        "colab_type": "code",
        "colab": {}
      },
      "source": [
        "data_ib = basket_Germany.drop(\"InvoiceNo\", axis=1)"
      ],
      "execution_count": null,
      "outputs": []
    },
    {
      "cell_type": "code",
      "metadata": {
        "id": "YBYlasDJcSu2",
        "colab_type": "code",
        "colab": {}
      },
      "source": [
        "# Create a placeholder dataframe listing item vs. item\n",
        "data_ibs = pd.DataFrame(index=data_ib.columns,\n",
        "                        columns=data_ib.columns)\n",
        "data_ibs.head()"
      ],
      "execution_count": null,
      "outputs": []
    },
    {
      "cell_type": "code",
      "metadata": {
        "id": "mayttHqommkq",
        "colab_type": "code",
        "colab": {}
      },
      "source": [
        ""
      ],
      "execution_count": null,
      "outputs": []
    },
    {
      "cell_type": "code",
      "metadata": {
        "id": "GLNW-rSlcT8W",
        "colab_type": "code",
        "colab": {}
      },
      "source": [
        "data_neighbours = pd.DataFrame(index=data_ibs.columns,columns=range(1,5))\n",
        " \n",
        "# Loop through our similarity dataframe and fill in neighbouring item names\n",
        "for i in range(0,len(data_ibs.columns)):\n",
        "    data_neighbours.iloc[i,:4] = data_ibs.iloc[0:,i].sort_values(ascending=True)[:4].index\n",
        "data_neighbours.head()"
      ],
      "execution_count": null,
      "outputs": []
    },
    {
      "cell_type": "code",
      "metadata": {
        "id": "HFkJYbtOmqoY",
        "colab_type": "code",
        "colab": {}
      },
      "source": [
        "data_neighbours.shape"
      ],
      "execution_count": null,
      "outputs": []
    },
    {
      "cell_type": "markdown",
      "metadata": {
        "id": "JE5Is2L2v28G",
        "colab_type": "text"
      },
      "source": [
        "2."
      ]
    },
    {
      "cell_type": "code",
      "metadata": {
        "id": "p7pdZlYx_qwA",
        "colab_type": "code",
        "colab": {
          "base_uri": "https://localhost:8080/",
          "height": 258
        },
        "outputId": "84aa93aa-19db-4b5c-cfc0-42b04a3fafe8"
      },
      "source": [
        "!pip install implicit\n",
        "from scipy import sparse\n",
        "import scipy\n",
        "import random\n",
        "import implicit"
      ],
      "execution_count": null,
      "outputs": [
        {
          "output_type": "stream",
          "text": [
            "Collecting implicit\n",
            "\u001b[?25l  Downloading https://files.pythonhosted.org/packages/5a/d8/6b4f1374ffa2647b72ac76960c71b984c6f3238090359fb419d03827d87a/implicit-0.4.2.tar.gz (1.1MB)\n",
            "\u001b[K     |████████████████████████████████| 1.1MB 3.5MB/s \n",
            "\u001b[?25hRequirement already satisfied: numpy in /usr/local/lib/python3.6/dist-packages (from implicit) (1.18.5)\n",
            "Requirement already satisfied: scipy>=0.16 in /usr/local/lib/python3.6/dist-packages (from implicit) (1.4.1)\n",
            "Requirement already satisfied: tqdm>=4.27 in /usr/local/lib/python3.6/dist-packages (from implicit) (4.41.1)\n",
            "Building wheels for collected packages: implicit\n",
            "  Building wheel for implicit (setup.py) ... \u001b[?25l\u001b[?25hdone\n",
            "  Created wheel for implicit: filename=implicit-0.4.2-cp36-cp36m-linux_x86_64.whl size=3420226 sha256=a4c3e3d50e67637325ea1682676c75632b310f877d8ae5f5748c2ab04089ec0c\n",
            "  Stored in directory: /root/.cache/pip/wheels/1b/48/b1/1aebe3acc3afb5589e72d3e7c3ffc3f637dc4721c1a974dff7\n",
            "Successfully built implicit\n",
            "Installing collected packages: implicit\n",
            "Successfully installed implicit-0.4.2\n"
          ],
          "name": "stdout"
        }
      ]
    },
    {
      "cell_type": "code",
      "metadata": {
        "id": "-zp4-3A997aR",
        "colab_type": "code",
        "colab": {
          "base_uri": "https://localhost:8080/",
          "height": 204
        },
        "outputId": "1b9e76d5-94b3-4609-bad1-f9b5edfdb57d"
      },
      "source": [
        "recData = df.groupby(['CustomerID','StockCode','Description'], as_index = False).agg({'InvoiceNo': 'nunique'})\n",
        "\n",
        "recData.rename(columns = {'InvoiceNo':'score'}, inplace = True)\n",
        "recData.head()"
      ],
      "execution_count": null,
      "outputs": [
        {
          "output_type": "execute_result",
          "data": {
            "text/html": [
              "<div>\n",
              "<style scoped>\n",
              "    .dataframe tbody tr th:only-of-type {\n",
              "        vertical-align: middle;\n",
              "    }\n",
              "\n",
              "    .dataframe tbody tr th {\n",
              "        vertical-align: top;\n",
              "    }\n",
              "\n",
              "    .dataframe thead th {\n",
              "        text-align: right;\n",
              "    }\n",
              "</style>\n",
              "<table border=\"1\" class=\"dataframe\">\n",
              "  <thead>\n",
              "    <tr style=\"text-align: right;\">\n",
              "      <th></th>\n",
              "      <th>CustomerID</th>\n",
              "      <th>StockCode</th>\n",
              "      <th>Description</th>\n",
              "      <th>score</th>\n",
              "    </tr>\n",
              "  </thead>\n",
              "  <tbody>\n",
              "    <tr>\n",
              "      <th>0</th>\n",
              "      <td>12346.0</td>\n",
              "      <td>23166</td>\n",
              "      <td>MEDIUM CERAMIC TOP STORAGE JAR</td>\n",
              "      <td>1</td>\n",
              "    </tr>\n",
              "    <tr>\n",
              "      <th>1</th>\n",
              "      <td>12347.0</td>\n",
              "      <td>16008</td>\n",
              "      <td>SMALL FOLDING SCISSOR(POINTED EDGE)</td>\n",
              "      <td>1</td>\n",
              "    </tr>\n",
              "    <tr>\n",
              "      <th>2</th>\n",
              "      <td>12347.0</td>\n",
              "      <td>17021</td>\n",
              "      <td>NAMASTE SWAGAT INCENSE</td>\n",
              "      <td>1</td>\n",
              "    </tr>\n",
              "    <tr>\n",
              "      <th>3</th>\n",
              "      <td>12347.0</td>\n",
              "      <td>20665</td>\n",
              "      <td>RED RETROSPOT PURSE</td>\n",
              "      <td>1</td>\n",
              "    </tr>\n",
              "    <tr>\n",
              "      <th>4</th>\n",
              "      <td>12347.0</td>\n",
              "      <td>20719</td>\n",
              "      <td>WOODLAND CHARLOTTE BAG</td>\n",
              "      <td>4</td>\n",
              "    </tr>\n",
              "  </tbody>\n",
              "</table>\n",
              "</div>"
            ],
            "text/plain": [
              "   CustomerID StockCode                          Description  score\n",
              "0     12346.0     23166       MEDIUM CERAMIC TOP STORAGE JAR      1\n",
              "1     12347.0     16008  SMALL FOLDING SCISSOR(POINTED EDGE)      1\n",
              "2     12347.0     17021               NAMASTE SWAGAT INCENSE      1\n",
              "3     12347.0     20665                  RED RETROSPOT PURSE      1\n",
              "4     12347.0     20719               WOODLAND CHARLOTTE BAG      4"
            ]
          },
          "metadata": {
            "tags": []
          },
          "execution_count": 19
        }
      ]
    },
    {
      "cell_type": "code",
      "metadata": {
        "id": "PazlZfF__aL7",
        "colab_type": "code",
        "colab": {
          "base_uri": "https://localhost:8080/",
          "height": 34
        },
        "outputId": "80ee0082-0b29-4e1b-d876-55c5f8b7e42f"
      },
      "source": [
        "pivotData = pd.pivot_table(recData, values = 'score', index = 'CustomerID', \n",
        "                            columns = 'Description', aggfunc = np.sum)\n",
        "masked = np.ma.masked_invalid(pivotData)\n",
        "mc = masked.compressed()\n",
        "print(1 - mc.shape[0]/np.prod(pivotData.shape))\n",
        "\n",
        "# The maximum recommended sparsity is 99.5%"
      ],
      "execution_count": null,
      "outputs": [
        {
          "output_type": "stream",
          "text": [
            "0.9840132452842022\n"
          ],
          "name": "stdout"
        }
      ]
    },
    {
      "cell_type": "code",
      "metadata": {
        "id": "EVVETNPWwPi9",
        "colab_type": "code",
        "colab": {
          "base_uri": "https://localhost:8080/",
          "height": 66,
          "referenced_widgets": [
            "faf41c418ff44172a53cc9f55c1593e5",
            "afa7a98f16b74a1c847a3645b2e72e44",
            "28e9be3541fc4ddca2f14b9fc9ec97f9",
            "4a450ade6bf6486f978a240bbc051eb2",
            "054ac6cd9d8a478bb20d2ead96c9705c",
            "2715ce3094344feda1a3e5c3a96324cf",
            "88a03c6ccd3f45f1aeee2829bbc1e24a",
            "5bb08de4ef364ac9a8aded669c2024b5"
          ]
        },
        "outputId": "bcb8a8d9-dae6-4c9a-e409-d05172f0ffc8"
      },
      "source": [
        "recData['CustomerID'] = recData['CustomerID'].astype(\"category\")\n",
        "recData['StockCode'] = recData['StockCode'].astype(\"category\")\n",
        "recData['user'] = recData['CustomerID'].cat.codes\n",
        "recData['item_code'] = recData['StockCode'].cat.codes\n",
        "\n",
        "# The implicit library expects data as a item-user matrix so we\n",
        "# create two matricies, one for fitting the model (item-user) \n",
        "# and one for recommendations (user-item)\n",
        "sparseItemUser = scipy.sparse.csr_matrix((recData['score'].astype(float), (recData['item_code'], recData['user'])))\n",
        "sparseUserItem = scipy.sparse.csr_matrix((recData['score'].astype(float), (recData['user'], recData['item_code'])))\n",
        "\n",
        "# Initialize the als model and fit it using the sparse item-user matrix\n",
        "model_crosssell = implicit.als.AlternatingLeastSquares(factors=32, regularization=0.1, iterations=80)\n",
        "\n",
        "# Calculate the confidence by multiplying it by alpha value, based on the methodologies of \n",
        "# http://yifanhu.net/PUB/cf.pdf\n",
        "alphaVal = 15\n",
        "dataConf = (sparseItemUser * alphaVal).astype('double')\n",
        "\n",
        "#Fit the model\n",
        "model_crosssell.fit(dataConf)"
      ],
      "execution_count": null,
      "outputs": [
        {
          "output_type": "display_data",
          "data": {
            "application/vnd.jupyter.widget-view+json": {
              "model_id": "faf41c418ff44172a53cc9f55c1593e5",
              "version_minor": 0,
              "version_major": 2
            },
            "text/plain": [
              "HBox(children=(FloatProgress(value=0.0, max=80.0), HTML(value='')))"
            ]
          },
          "metadata": {
            "tags": []
          }
        },
        {
          "output_type": "stream",
          "text": [
            "\n"
          ],
          "name": "stdout"
        }
      ]
    },
    {
      "cell_type": "code",
      "metadata": {
        "id": "MlnB3CI3MX-L",
        "colab_type": "code",
        "colab": {
          "base_uri": "https://localhost:8080/",
          "height": 419
        },
        "outputId": "043936c7-a279-411e-acfb-18383f8c2766"
      },
      "source": [
        "recData.dropna()"
      ],
      "execution_count": null,
      "outputs": [
        {
          "output_type": "execute_result",
          "data": {
            "text/html": [
              "<div>\n",
              "<style scoped>\n",
              "    .dataframe tbody tr th:only-of-type {\n",
              "        vertical-align: middle;\n",
              "    }\n",
              "\n",
              "    .dataframe tbody tr th {\n",
              "        vertical-align: top;\n",
              "    }\n",
              "\n",
              "    .dataframe thead th {\n",
              "        text-align: right;\n",
              "    }\n",
              "</style>\n",
              "<table border=\"1\" class=\"dataframe\">\n",
              "  <thead>\n",
              "    <tr style=\"text-align: right;\">\n",
              "      <th></th>\n",
              "      <th>CustomerID</th>\n",
              "      <th>StockCode</th>\n",
              "      <th>Description</th>\n",
              "      <th>score</th>\n",
              "      <th>user</th>\n",
              "      <th>item_code</th>\n",
              "    </tr>\n",
              "  </thead>\n",
              "  <tbody>\n",
              "    <tr>\n",
              "      <th>0</th>\n",
              "      <td>12346.0</td>\n",
              "      <td>23166</td>\n",
              "      <td>MEDIUM CERAMIC TOP STORAGE JAR</td>\n",
              "      <td>1</td>\n",
              "      <td>0</td>\n",
              "      <td>1997</td>\n",
              "    </tr>\n",
              "    <tr>\n",
              "      <th>1</th>\n",
              "      <td>12347.0</td>\n",
              "      <td>16008</td>\n",
              "      <td>SMALL FOLDING SCISSOR(POINTED EDGE)</td>\n",
              "      <td>1</td>\n",
              "      <td>1</td>\n",
              "      <td>25</td>\n",
              "    </tr>\n",
              "    <tr>\n",
              "      <th>2</th>\n",
              "      <td>12347.0</td>\n",
              "      <td>17021</td>\n",
              "      <td>NAMASTE SWAGAT INCENSE</td>\n",
              "      <td>1</td>\n",
              "      <td>1</td>\n",
              "      <td>87</td>\n",
              "    </tr>\n",
              "    <tr>\n",
              "      <th>3</th>\n",
              "      <td>12347.0</td>\n",
              "      <td>20665</td>\n",
              "      <td>RED RETROSPOT PURSE</td>\n",
              "      <td>1</td>\n",
              "      <td>1</td>\n",
              "      <td>130</td>\n",
              "    </tr>\n",
              "    <tr>\n",
              "      <th>4</th>\n",
              "      <td>12347.0</td>\n",
              "      <td>20719</td>\n",
              "      <td>WOODLAND CHARLOTTE BAG</td>\n",
              "      <td>4</td>\n",
              "      <td>1</td>\n",
              "      <td>167</td>\n",
              "    </tr>\n",
              "    <tr>\n",
              "      <th>...</th>\n",
              "      <td>...</td>\n",
              "      <td>...</td>\n",
              "      <td>...</td>\n",
              "      <td>...</td>\n",
              "      <td>...</td>\n",
              "      <td>...</td>\n",
              "    </tr>\n",
              "    <tr>\n",
              "      <th>268354</th>\n",
              "      <td>18287.0</td>\n",
              "      <td>84920</td>\n",
              "      <td>PINK FLOWER FABRIC PONY</td>\n",
              "      <td>1</td>\n",
              "      <td>4338</td>\n",
              "      <td>3077</td>\n",
              "    </tr>\n",
              "    <tr>\n",
              "      <th>268355</th>\n",
              "      <td>18287.0</td>\n",
              "      <td>85039A</td>\n",
              "      <td>SET/4 RED MINI ROSE CANDLE IN BOWL</td>\n",
              "      <td>2</td>\n",
              "      <td>4338</td>\n",
              "      <td>3179</td>\n",
              "    </tr>\n",
              "    <tr>\n",
              "      <th>268356</th>\n",
              "      <td>18287.0</td>\n",
              "      <td>85039B</td>\n",
              "      <td>S/4 IVORY MINI ROSE CANDLE IN BOWL</td>\n",
              "      <td>2</td>\n",
              "      <td>4338</td>\n",
              "      <td>3180</td>\n",
              "    </tr>\n",
              "    <tr>\n",
              "      <th>268357</th>\n",
              "      <td>18287.0</td>\n",
              "      <td>85040A</td>\n",
              "      <td>S/4 PINK FLOWER CANDLES IN BOWL</td>\n",
              "      <td>1</td>\n",
              "      <td>4338</td>\n",
              "      <td>3182</td>\n",
              "    </tr>\n",
              "    <tr>\n",
              "      <th>268358</th>\n",
              "      <td>18287.0</td>\n",
              "      <td>85173</td>\n",
              "      <td>SET/6 FROG PRINCE T-LIGHT CANDLES</td>\n",
              "      <td>1</td>\n",
              "      <td>4338</td>\n",
              "      <td>3281</td>\n",
              "    </tr>\n",
              "  </tbody>\n",
              "</table>\n",
              "<p>268359 rows × 6 columns</p>\n",
              "</div>"
            ],
            "text/plain": [
              "       CustomerID StockCode  ...  user  item_code\n",
              "0         12346.0     23166  ...     0       1997\n",
              "1         12347.0     16008  ...     1         25\n",
              "2         12347.0     17021  ...     1         87\n",
              "3         12347.0     20665  ...     1        130\n",
              "4         12347.0     20719  ...     1        167\n",
              "...           ...       ...  ...   ...        ...\n",
              "268354    18287.0     84920  ...  4338       3077\n",
              "268355    18287.0    85039A  ...  4338       3179\n",
              "268356    18287.0    85039B  ...  4338       3180\n",
              "268357    18287.0    85040A  ...  4338       3182\n",
              "268358    18287.0     85173  ...  4338       3281\n",
              "\n",
              "[268359 rows x 6 columns]"
            ]
          },
          "metadata": {
            "tags": []
          },
          "execution_count": 22
        }
      ]
    },
    {
      "cell_type": "code",
      "metadata": {
        "id": "OsADXE7fD_z9",
        "colab_type": "code",
        "colab": {}
      },
      "source": [
        "\n",
        "\n",
        "def getItemDescription(itemcode):\n",
        "    \"\"\"\n",
        "    returns a list of descriptions given a list of items\n",
        "    \n",
        "    items: list of item categorical code\n",
        "    \"\"\"\n",
        "    descriptions = []\n",
        "    for item_code in itemcode:\n",
        "        descriptions.extend(recData[recData['item_code'] == item_code ]['Description'].astype('str').unique())\n",
        "    return descriptions\n",
        "\n",
        "def getSimilarItems(item_code):\n",
        "    \"\"\"\n",
        "    returns a dictionary of item categorical code and score\n",
        "    \n",
        "    item: item categorical code\n",
        "    \"\"\"\n",
        "    similar = model_crosssell.similar_items(item_code, 11)\n",
        "    similar.pop(0)\n",
        "    similarItems = {}\n",
        "    for item_code in similar:\n",
        "        similarItems[item_code[0]] = item_code[1]\n",
        "    return similarItems"
      ],
      "execution_count": null,
      "outputs": []
    },
    {
      "cell_type": "code",
      "metadata": {
        "id": "7mns0ES8FOHi",
        "colab_type": "code",
        "colab": {
          "base_uri": "https://localhost:8080/",
          "height": 71
        },
        "outputId": "aedc5c10-22c2-469a-a514-4770b3c5abc2"
      },
      "source": [
        "print(\"Original item:\", getItemDescription([975]))\n",
        "print(\"recommended item:\", getItemDescription(getSimilarItems(975).keys()))"
      ],
      "execution_count": null,
      "outputs": [
        {
          "output_type": "stream",
          "text": [
            "Original item: ['6 RIBBONS EMPIRE']\n",
            "recommended item: ['6 RIBBONS SHIMMERING PINKS', '6 RIBBONS RUSTIC CHARM', 'SCANDINAVIAN REDS RIBBONS', 'CHOCOLATE BOX RIBBONS', 'ROMANTIC PINKS RIBBONS', 'URBAN BLACK RIBBONS', 'TRADITIONAL CHRISTMAS RIBBONS', 'RIBBON REEL LACE DESIGN', '6 RIBBONS ELEGANT CHRISTMAS', 'MEASURING TAPE BABUSHKA BLUE']\n"
          ],
          "name": "stdout"
        }
      ]
    },
    {
      "cell_type": "code",
      "metadata": {
        "id": "fICK173XXNXb",
        "colab_type": "code",
        "colab": {}
      },
      "source": [
        "def reccomend_user(i):\n",
        "  print(\"Original item:\", getItemDescription([i]))\n",
        "  print(\"recommended item for CROOSSELL:\", getItemDescription(getSimilarItems(i).keys()))"
      ],
      "execution_count": null,
      "outputs": []
    },
    {
      "cell_type": "code",
      "metadata": {
        "id": "fdHEkyrbXOlZ",
        "colab_type": "code",
        "colab": {
          "base_uri": "https://localhost:8080/",
          "height": 71
        },
        "outputId": "92b7ae3e-24d2-4ce8-f360-686cf7fc9e6d"
      },
      "source": [
        "reccomend_user(975)"
      ],
      "execution_count": null,
      "outputs": [
        {
          "output_type": "stream",
          "text": [
            "Original item: ['6 RIBBONS EMPIRE']\n",
            "recommended item for CROOSSELL: ['6 RIBBONS SHIMMERING PINKS', '6 RIBBONS RUSTIC CHARM', 'SCANDINAVIAN REDS RIBBONS', 'CHOCOLATE BOX RIBBONS', 'ROMANTIC PINKS RIBBONS', 'URBAN BLACK RIBBONS', 'TRADITIONAL CHRISTMAS RIBBONS', 'RIBBON REEL LACE DESIGN', '6 RIBBONS ELEGANT CHRISTMAS', 'MEASURING TAPE BABUSHKA BLUE']\n"
          ],
          "name": "stdout"
        }
      ]
    },
    {
      "cell_type": "markdown",
      "metadata": {
        "id": "L1xhPy3-9SEG",
        "colab_type": "text"
      },
      "source": [
        "# UPSELL"
      ]
    },
    {
      "cell_type": "code",
      "metadata": {
        "id": "rjz-YbCmGAx8",
        "colab_type": "code",
        "colab": {
          "base_uri": "https://localhost:8080/",
          "height": 360
        },
        "outputId": "0f27aab9-650f-4a62-b315-aa769b251d1a"
      },
      "source": [
        "!pip install gensim\n",
        "!pip install nltk"
      ],
      "execution_count": null,
      "outputs": [
        {
          "output_type": "stream",
          "text": [
            "Requirement already satisfied: gensim in /usr/local/lib/python3.6/dist-packages (3.6.0)\n",
            "Requirement already satisfied: numpy>=1.11.3 in /usr/local/lib/python3.6/dist-packages (from gensim) (1.18.5)\n",
            "Requirement already satisfied: scipy>=0.18.1 in /usr/local/lib/python3.6/dist-packages (from gensim) (1.4.1)\n",
            "Requirement already satisfied: six>=1.5.0 in /usr/local/lib/python3.6/dist-packages (from gensim) (1.12.0)\n",
            "Requirement already satisfied: smart-open>=1.2.1 in /usr/local/lib/python3.6/dist-packages (from gensim) (2.0.0)\n",
            "Requirement already satisfied: requests in /usr/local/lib/python3.6/dist-packages (from smart-open>=1.2.1->gensim) (2.23.0)\n",
            "Requirement already satisfied: boto in /usr/local/lib/python3.6/dist-packages (from smart-open>=1.2.1->gensim) (2.49.0)\n",
            "Requirement already satisfied: boto3 in /usr/local/lib/python3.6/dist-packages (from smart-open>=1.2.1->gensim) (1.14.9)\n",
            "Requirement already satisfied: idna<3,>=2.5 in /usr/local/lib/python3.6/dist-packages (from requests->smart-open>=1.2.1->gensim) (2.9)\n",
            "Requirement already satisfied: urllib3!=1.25.0,!=1.25.1,<1.26,>=1.21.1 in /usr/local/lib/python3.6/dist-packages (from requests->smart-open>=1.2.1->gensim) (1.24.3)\n",
            "Requirement already satisfied: chardet<4,>=3.0.2 in /usr/local/lib/python3.6/dist-packages (from requests->smart-open>=1.2.1->gensim) (3.0.4)\n",
            "Requirement already satisfied: certifi>=2017.4.17 in /usr/local/lib/python3.6/dist-packages (from requests->smart-open>=1.2.1->gensim) (2020.6.20)\n",
            "Requirement already satisfied: botocore<1.18.0,>=1.17.9 in /usr/local/lib/python3.6/dist-packages (from boto3->smart-open>=1.2.1->gensim) (1.17.9)\n",
            "Requirement already satisfied: jmespath<1.0.0,>=0.7.1 in /usr/local/lib/python3.6/dist-packages (from boto3->smart-open>=1.2.1->gensim) (0.10.0)\n",
            "Requirement already satisfied: s3transfer<0.4.0,>=0.3.0 in /usr/local/lib/python3.6/dist-packages (from boto3->smart-open>=1.2.1->gensim) (0.3.3)\n",
            "Requirement already satisfied: docutils<0.16,>=0.10 in /usr/local/lib/python3.6/dist-packages (from botocore<1.18.0,>=1.17.9->boto3->smart-open>=1.2.1->gensim) (0.15.2)\n",
            "Requirement already satisfied: python-dateutil<3.0.0,>=2.1 in /usr/local/lib/python3.6/dist-packages (from botocore<1.18.0,>=1.17.9->boto3->smart-open>=1.2.1->gensim) (2.8.1)\n",
            "Requirement already satisfied: nltk in /usr/local/lib/python3.6/dist-packages (3.2.5)\n",
            "Requirement already satisfied: six in /usr/local/lib/python3.6/dist-packages (from nltk) (1.12.0)\n"
          ],
          "name": "stdout"
        }
      ]
    },
    {
      "cell_type": "code",
      "metadata": {
        "id": "QmYU0cA0ZP-m",
        "colab_type": "code",
        "colab": {
          "base_uri": "https://localhost:8080/",
          "height": 51
        },
        "outputId": "353085f7-862f-4fbc-fb88-f012561eafa8"
      },
      "source": [
        "import pandas as pd\n",
        "import numpy as np\n",
        "import random\n",
        "from tqdm import tqdm\n",
        "from gensim.models import Word2Vec \n",
        "import nltk\n",
        "nltk.download('stopwords')\n",
        "from nltk.corpus import stopwords"
      ],
      "execution_count": null,
      "outputs": [
        {
          "output_type": "stream",
          "text": [
            "[nltk_data] Downloading package stopwords to /root/nltk_data...\n",
            "[nltk_data]   Unzipping corpora/stopwords.zip.\n"
          ],
          "name": "stdout"
        }
      ]
    },
    {
      "cell_type": "code",
      "metadata": {
        "id": "i_qT4X8HZST9",
        "colab_type": "code",
        "colab": {}
      },
      "source": [
        "df=dataset.copy()"
      ],
      "execution_count": null,
      "outputs": []
    },
    {
      "cell_type": "code",
      "metadata": {
        "id": "XJ8If9WUZjrR",
        "colab_type": "code",
        "colab": {
          "base_uri": "https://localhost:8080/",
          "height": 204
        },
        "outputId": "13466c4b-ca56-4117-c623-7dfa81fbdf9a"
      },
      "source": [
        "df.head()"
      ],
      "execution_count": null,
      "outputs": [
        {
          "output_type": "execute_result",
          "data": {
            "text/html": [
              "<div>\n",
              "<style scoped>\n",
              "    .dataframe tbody tr th:only-of-type {\n",
              "        vertical-align: middle;\n",
              "    }\n",
              "\n",
              "    .dataframe tbody tr th {\n",
              "        vertical-align: top;\n",
              "    }\n",
              "\n",
              "    .dataframe thead th {\n",
              "        text-align: right;\n",
              "    }\n",
              "</style>\n",
              "<table border=\"1\" class=\"dataframe\">\n",
              "  <thead>\n",
              "    <tr style=\"text-align: right;\">\n",
              "      <th></th>\n",
              "      <th>InvoiceNo</th>\n",
              "      <th>StockCode</th>\n",
              "      <th>Description</th>\n",
              "      <th>Quantity</th>\n",
              "      <th>InvoiceDate</th>\n",
              "      <th>UnitPrice</th>\n",
              "      <th>CustomerID</th>\n",
              "      <th>Country</th>\n",
              "    </tr>\n",
              "  </thead>\n",
              "  <tbody>\n",
              "    <tr>\n",
              "      <th>0</th>\n",
              "      <td>536365</td>\n",
              "      <td>85123A</td>\n",
              "      <td>WHITE HANGING HEART T-LIGHT HOLDER</td>\n",
              "      <td>6</td>\n",
              "      <td>2010-12-01 08:26:00</td>\n",
              "      <td>2.55</td>\n",
              "      <td>17850.0</td>\n",
              "      <td>United Kingdom</td>\n",
              "    </tr>\n",
              "    <tr>\n",
              "      <th>1</th>\n",
              "      <td>536365</td>\n",
              "      <td>71053</td>\n",
              "      <td>WHITE METAL LANTERN</td>\n",
              "      <td>6</td>\n",
              "      <td>2010-12-01 08:26:00</td>\n",
              "      <td>3.39</td>\n",
              "      <td>17850.0</td>\n",
              "      <td>United Kingdom</td>\n",
              "    </tr>\n",
              "    <tr>\n",
              "      <th>2</th>\n",
              "      <td>536365</td>\n",
              "      <td>84406B</td>\n",
              "      <td>CREAM CUPID HEARTS COAT HANGER</td>\n",
              "      <td>8</td>\n",
              "      <td>2010-12-01 08:26:00</td>\n",
              "      <td>2.75</td>\n",
              "      <td>17850.0</td>\n",
              "      <td>United Kingdom</td>\n",
              "    </tr>\n",
              "    <tr>\n",
              "      <th>3</th>\n",
              "      <td>536365</td>\n",
              "      <td>84029G</td>\n",
              "      <td>KNITTED UNION FLAG HOT WATER BOTTLE</td>\n",
              "      <td>6</td>\n",
              "      <td>2010-12-01 08:26:00</td>\n",
              "      <td>3.39</td>\n",
              "      <td>17850.0</td>\n",
              "      <td>United Kingdom</td>\n",
              "    </tr>\n",
              "    <tr>\n",
              "      <th>4</th>\n",
              "      <td>536365</td>\n",
              "      <td>84029E</td>\n",
              "      <td>RED WOOLLY HOTTIE WHITE HEART.</td>\n",
              "      <td>6</td>\n",
              "      <td>2010-12-01 08:26:00</td>\n",
              "      <td>3.39</td>\n",
              "      <td>17850.0</td>\n",
              "      <td>United Kingdom</td>\n",
              "    </tr>\n",
              "  </tbody>\n",
              "</table>\n",
              "</div>"
            ],
            "text/plain": [
              "  InvoiceNo StockCode  ... CustomerID         Country\n",
              "0    536365    85123A  ...    17850.0  United Kingdom\n",
              "1    536365     71053  ...    17850.0  United Kingdom\n",
              "2    536365    84406B  ...    17850.0  United Kingdom\n",
              "3    536365    84029G  ...    17850.0  United Kingdom\n",
              "4    536365    84029E  ...    17850.0  United Kingdom\n",
              "\n",
              "[5 rows x 8 columns]"
            ]
          },
          "metadata": {
            "tags": []
          },
          "execution_count": 28
        }
      ]
    },
    {
      "cell_type": "code",
      "metadata": {
        "id": "ixXDJ6WsZjxY",
        "colab_type": "code",
        "colab": {
          "base_uri": "https://localhost:8080/",
          "height": 34
        },
        "outputId": "aa35b8b7-6673-4d4f-861c-64fb3affb2ef"
      },
      "source": [
        "df.shape"
      ],
      "execution_count": null,
      "outputs": [
        {
          "output_type": "execute_result",
          "data": {
            "text/plain": [
              "(541909, 8)"
            ]
          },
          "metadata": {
            "tags": []
          },
          "execution_count": 29
        }
      ]
    },
    {
      "cell_type": "code",
      "metadata": {
        "id": "FISc0HFAZj0z",
        "colab_type": "code",
        "colab": {
          "base_uri": "https://localhost:8080/",
          "height": 589
        },
        "outputId": "4285087e-f26d-43f5-afe5-7b28aa780e28"
      },
      "source": [
        "# Preprocessing\n",
        "df['clean_products'] = df['Description'].str.replace(\"[^a-zA-Z#]\", \" \")\n",
        "df['clean_products'] = df['clean_products'].fillna('').apply(lambda x: ' '.join([w for w in x.split() if len(w)>2]))\n",
        "df['clean_products'] = df['clean_products'].fillna('').apply(lambda x: x.lower())\n",
        "df"
      ],
      "execution_count": null,
      "outputs": [
        {
          "output_type": "execute_result",
          "data": {
            "text/html": [
              "<div>\n",
              "<style scoped>\n",
              "    .dataframe tbody tr th:only-of-type {\n",
              "        vertical-align: middle;\n",
              "    }\n",
              "\n",
              "    .dataframe tbody tr th {\n",
              "        vertical-align: top;\n",
              "    }\n",
              "\n",
              "    .dataframe thead th {\n",
              "        text-align: right;\n",
              "    }\n",
              "</style>\n",
              "<table border=\"1\" class=\"dataframe\">\n",
              "  <thead>\n",
              "    <tr style=\"text-align: right;\">\n",
              "      <th></th>\n",
              "      <th>InvoiceNo</th>\n",
              "      <th>StockCode</th>\n",
              "      <th>Description</th>\n",
              "      <th>Quantity</th>\n",
              "      <th>InvoiceDate</th>\n",
              "      <th>UnitPrice</th>\n",
              "      <th>CustomerID</th>\n",
              "      <th>Country</th>\n",
              "      <th>clean_products</th>\n",
              "    </tr>\n",
              "  </thead>\n",
              "  <tbody>\n",
              "    <tr>\n",
              "      <th>0</th>\n",
              "      <td>536365</td>\n",
              "      <td>85123A</td>\n",
              "      <td>WHITE HANGING HEART T-LIGHT HOLDER</td>\n",
              "      <td>6</td>\n",
              "      <td>2010-12-01 08:26:00</td>\n",
              "      <td>2.55</td>\n",
              "      <td>17850.0</td>\n",
              "      <td>United Kingdom</td>\n",
              "      <td>white hanging heart light holder</td>\n",
              "    </tr>\n",
              "    <tr>\n",
              "      <th>1</th>\n",
              "      <td>536365</td>\n",
              "      <td>71053</td>\n",
              "      <td>WHITE METAL LANTERN</td>\n",
              "      <td>6</td>\n",
              "      <td>2010-12-01 08:26:00</td>\n",
              "      <td>3.39</td>\n",
              "      <td>17850.0</td>\n",
              "      <td>United Kingdom</td>\n",
              "      <td>white metal lantern</td>\n",
              "    </tr>\n",
              "    <tr>\n",
              "      <th>2</th>\n",
              "      <td>536365</td>\n",
              "      <td>84406B</td>\n",
              "      <td>CREAM CUPID HEARTS COAT HANGER</td>\n",
              "      <td>8</td>\n",
              "      <td>2010-12-01 08:26:00</td>\n",
              "      <td>2.75</td>\n",
              "      <td>17850.0</td>\n",
              "      <td>United Kingdom</td>\n",
              "      <td>cream cupid hearts coat hanger</td>\n",
              "    </tr>\n",
              "    <tr>\n",
              "      <th>3</th>\n",
              "      <td>536365</td>\n",
              "      <td>84029G</td>\n",
              "      <td>KNITTED UNION FLAG HOT WATER BOTTLE</td>\n",
              "      <td>6</td>\n",
              "      <td>2010-12-01 08:26:00</td>\n",
              "      <td>3.39</td>\n",
              "      <td>17850.0</td>\n",
              "      <td>United Kingdom</td>\n",
              "      <td>knitted union flag hot water bottle</td>\n",
              "    </tr>\n",
              "    <tr>\n",
              "      <th>4</th>\n",
              "      <td>536365</td>\n",
              "      <td>84029E</td>\n",
              "      <td>RED WOOLLY HOTTIE WHITE HEART.</td>\n",
              "      <td>6</td>\n",
              "      <td>2010-12-01 08:26:00</td>\n",
              "      <td>3.39</td>\n",
              "      <td>17850.0</td>\n",
              "      <td>United Kingdom</td>\n",
              "      <td>red woolly hottie white heart</td>\n",
              "    </tr>\n",
              "    <tr>\n",
              "      <th>...</th>\n",
              "      <td>...</td>\n",
              "      <td>...</td>\n",
              "      <td>...</td>\n",
              "      <td>...</td>\n",
              "      <td>...</td>\n",
              "      <td>...</td>\n",
              "      <td>...</td>\n",
              "      <td>...</td>\n",
              "      <td>...</td>\n",
              "    </tr>\n",
              "    <tr>\n",
              "      <th>541904</th>\n",
              "      <td>581587</td>\n",
              "      <td>22613</td>\n",
              "      <td>PACK OF 20 SPACEBOY NAPKINS</td>\n",
              "      <td>12</td>\n",
              "      <td>2011-12-09 12:50:00</td>\n",
              "      <td>0.85</td>\n",
              "      <td>12680.0</td>\n",
              "      <td>France</td>\n",
              "      <td>pack spaceboy napkins</td>\n",
              "    </tr>\n",
              "    <tr>\n",
              "      <th>541905</th>\n",
              "      <td>581587</td>\n",
              "      <td>22899</td>\n",
              "      <td>CHILDREN'S APRON DOLLY GIRL</td>\n",
              "      <td>6</td>\n",
              "      <td>2011-12-09 12:50:00</td>\n",
              "      <td>2.10</td>\n",
              "      <td>12680.0</td>\n",
              "      <td>France</td>\n",
              "      <td>children apron dolly girl</td>\n",
              "    </tr>\n",
              "    <tr>\n",
              "      <th>541906</th>\n",
              "      <td>581587</td>\n",
              "      <td>23254</td>\n",
              "      <td>CHILDRENS CUTLERY DOLLY GIRL</td>\n",
              "      <td>4</td>\n",
              "      <td>2011-12-09 12:50:00</td>\n",
              "      <td>4.15</td>\n",
              "      <td>12680.0</td>\n",
              "      <td>France</td>\n",
              "      <td>childrens cutlery dolly girl</td>\n",
              "    </tr>\n",
              "    <tr>\n",
              "      <th>541907</th>\n",
              "      <td>581587</td>\n",
              "      <td>23255</td>\n",
              "      <td>CHILDRENS CUTLERY CIRCUS PARADE</td>\n",
              "      <td>4</td>\n",
              "      <td>2011-12-09 12:50:00</td>\n",
              "      <td>4.15</td>\n",
              "      <td>12680.0</td>\n",
              "      <td>France</td>\n",
              "      <td>childrens cutlery circus parade</td>\n",
              "    </tr>\n",
              "    <tr>\n",
              "      <th>541908</th>\n",
              "      <td>581587</td>\n",
              "      <td>22138</td>\n",
              "      <td>BAKING SET 9 PIECE RETROSPOT</td>\n",
              "      <td>3</td>\n",
              "      <td>2011-12-09 12:50:00</td>\n",
              "      <td>4.95</td>\n",
              "      <td>12680.0</td>\n",
              "      <td>France</td>\n",
              "      <td>baking set piece retrospot</td>\n",
              "    </tr>\n",
              "  </tbody>\n",
              "</table>\n",
              "<p>541909 rows × 9 columns</p>\n",
              "</div>"
            ],
            "text/plain": [
              "       InvoiceNo StockCode  ...         Country                       clean_products\n",
              "0         536365    85123A  ...  United Kingdom     white hanging heart light holder\n",
              "1         536365     71053  ...  United Kingdom                  white metal lantern\n",
              "2         536365    84406B  ...  United Kingdom       cream cupid hearts coat hanger\n",
              "3         536365    84029G  ...  United Kingdom  knitted union flag hot water bottle\n",
              "4         536365    84029E  ...  United Kingdom        red woolly hottie white heart\n",
              "...          ...       ...  ...             ...                                  ...\n",
              "541904    581587     22613  ...          France                pack spaceboy napkins\n",
              "541905    581587     22899  ...          France            children apron dolly girl\n",
              "541906    581587     23254  ...          France         childrens cutlery dolly girl\n",
              "541907    581587     23255  ...          France      childrens cutlery circus parade\n",
              "541908    581587     22138  ...          France           baking set piece retrospot\n",
              "\n",
              "[541909 rows x 9 columns]"
            ]
          },
          "metadata": {
            "tags": []
          },
          "execution_count": 30
        }
      ]
    },
    {
      "cell_type": "code",
      "metadata": {
        "id": "jtOvwE4IZj4C",
        "colab_type": "code",
        "colab": {
          "base_uri": "https://localhost:8080/",
          "height": 589
        },
        "outputId": "2eaa5a41-c115-4925-8bf0-83b2a4728629"
      },
      "source": [
        "stop_words = stopwords.words('english')\n",
        "\n",
        "# tokenization\n",
        "tokenized_doc = df['clean_products'].fillna('').apply(lambda x: x.split())\n",
        "\n",
        "# remove stop-words\n",
        "tokenized_doc = tokenized_doc.apply(lambda x: [item for item in x if item not in stop_words])\n",
        "\n",
        "# de-tokenization\n",
        "detokenized_doc = []\n",
        "for i in range(len(df)):\n",
        "    t = ' '.join(tokenized_doc[i])\n",
        "    detokenized_doc.append(t)\n",
        "\n",
        "df['clean_products'] = detokenized_doc\n",
        "df"
      ],
      "execution_count": null,
      "outputs": [
        {
          "output_type": "execute_result",
          "data": {
            "text/html": [
              "<div>\n",
              "<style scoped>\n",
              "    .dataframe tbody tr th:only-of-type {\n",
              "        vertical-align: middle;\n",
              "    }\n",
              "\n",
              "    .dataframe tbody tr th {\n",
              "        vertical-align: top;\n",
              "    }\n",
              "\n",
              "    .dataframe thead th {\n",
              "        text-align: right;\n",
              "    }\n",
              "</style>\n",
              "<table border=\"1\" class=\"dataframe\">\n",
              "  <thead>\n",
              "    <tr style=\"text-align: right;\">\n",
              "      <th></th>\n",
              "      <th>InvoiceNo</th>\n",
              "      <th>StockCode</th>\n",
              "      <th>Description</th>\n",
              "      <th>Quantity</th>\n",
              "      <th>InvoiceDate</th>\n",
              "      <th>UnitPrice</th>\n",
              "      <th>CustomerID</th>\n",
              "      <th>Country</th>\n",
              "      <th>clean_products</th>\n",
              "    </tr>\n",
              "  </thead>\n",
              "  <tbody>\n",
              "    <tr>\n",
              "      <th>0</th>\n",
              "      <td>536365</td>\n",
              "      <td>85123A</td>\n",
              "      <td>WHITE HANGING HEART T-LIGHT HOLDER</td>\n",
              "      <td>6</td>\n",
              "      <td>2010-12-01 08:26:00</td>\n",
              "      <td>2.55</td>\n",
              "      <td>17850.0</td>\n",
              "      <td>United Kingdom</td>\n",
              "      <td>white hanging heart light holder</td>\n",
              "    </tr>\n",
              "    <tr>\n",
              "      <th>1</th>\n",
              "      <td>536365</td>\n",
              "      <td>71053</td>\n",
              "      <td>WHITE METAL LANTERN</td>\n",
              "      <td>6</td>\n",
              "      <td>2010-12-01 08:26:00</td>\n",
              "      <td>3.39</td>\n",
              "      <td>17850.0</td>\n",
              "      <td>United Kingdom</td>\n",
              "      <td>white metal lantern</td>\n",
              "    </tr>\n",
              "    <tr>\n",
              "      <th>2</th>\n",
              "      <td>536365</td>\n",
              "      <td>84406B</td>\n",
              "      <td>CREAM CUPID HEARTS COAT HANGER</td>\n",
              "      <td>8</td>\n",
              "      <td>2010-12-01 08:26:00</td>\n",
              "      <td>2.75</td>\n",
              "      <td>17850.0</td>\n",
              "      <td>United Kingdom</td>\n",
              "      <td>cream cupid hearts coat hanger</td>\n",
              "    </tr>\n",
              "    <tr>\n",
              "      <th>3</th>\n",
              "      <td>536365</td>\n",
              "      <td>84029G</td>\n",
              "      <td>KNITTED UNION FLAG HOT WATER BOTTLE</td>\n",
              "      <td>6</td>\n",
              "      <td>2010-12-01 08:26:00</td>\n",
              "      <td>3.39</td>\n",
              "      <td>17850.0</td>\n",
              "      <td>United Kingdom</td>\n",
              "      <td>knitted union flag hot water bottle</td>\n",
              "    </tr>\n",
              "    <tr>\n",
              "      <th>4</th>\n",
              "      <td>536365</td>\n",
              "      <td>84029E</td>\n",
              "      <td>RED WOOLLY HOTTIE WHITE HEART.</td>\n",
              "      <td>6</td>\n",
              "      <td>2010-12-01 08:26:00</td>\n",
              "      <td>3.39</td>\n",
              "      <td>17850.0</td>\n",
              "      <td>United Kingdom</td>\n",
              "      <td>red woolly hottie white heart</td>\n",
              "    </tr>\n",
              "    <tr>\n",
              "      <th>...</th>\n",
              "      <td>...</td>\n",
              "      <td>...</td>\n",
              "      <td>...</td>\n",
              "      <td>...</td>\n",
              "      <td>...</td>\n",
              "      <td>...</td>\n",
              "      <td>...</td>\n",
              "      <td>...</td>\n",
              "      <td>...</td>\n",
              "    </tr>\n",
              "    <tr>\n",
              "      <th>541904</th>\n",
              "      <td>581587</td>\n",
              "      <td>22613</td>\n",
              "      <td>PACK OF 20 SPACEBOY NAPKINS</td>\n",
              "      <td>12</td>\n",
              "      <td>2011-12-09 12:50:00</td>\n",
              "      <td>0.85</td>\n",
              "      <td>12680.0</td>\n",
              "      <td>France</td>\n",
              "      <td>pack spaceboy napkins</td>\n",
              "    </tr>\n",
              "    <tr>\n",
              "      <th>541905</th>\n",
              "      <td>581587</td>\n",
              "      <td>22899</td>\n",
              "      <td>CHILDREN'S APRON DOLLY GIRL</td>\n",
              "      <td>6</td>\n",
              "      <td>2011-12-09 12:50:00</td>\n",
              "      <td>2.10</td>\n",
              "      <td>12680.0</td>\n",
              "      <td>France</td>\n",
              "      <td>children apron dolly girl</td>\n",
              "    </tr>\n",
              "    <tr>\n",
              "      <th>541906</th>\n",
              "      <td>581587</td>\n",
              "      <td>23254</td>\n",
              "      <td>CHILDRENS CUTLERY DOLLY GIRL</td>\n",
              "      <td>4</td>\n",
              "      <td>2011-12-09 12:50:00</td>\n",
              "      <td>4.15</td>\n",
              "      <td>12680.0</td>\n",
              "      <td>France</td>\n",
              "      <td>childrens cutlery dolly girl</td>\n",
              "    </tr>\n",
              "    <tr>\n",
              "      <th>541907</th>\n",
              "      <td>581587</td>\n",
              "      <td>23255</td>\n",
              "      <td>CHILDRENS CUTLERY CIRCUS PARADE</td>\n",
              "      <td>4</td>\n",
              "      <td>2011-12-09 12:50:00</td>\n",
              "      <td>4.15</td>\n",
              "      <td>12680.0</td>\n",
              "      <td>France</td>\n",
              "      <td>childrens cutlery circus parade</td>\n",
              "    </tr>\n",
              "    <tr>\n",
              "      <th>541908</th>\n",
              "      <td>581587</td>\n",
              "      <td>22138</td>\n",
              "      <td>BAKING SET 9 PIECE RETROSPOT</td>\n",
              "      <td>3</td>\n",
              "      <td>2011-12-09 12:50:00</td>\n",
              "      <td>4.95</td>\n",
              "      <td>12680.0</td>\n",
              "      <td>France</td>\n",
              "      <td>baking set piece retrospot</td>\n",
              "    </tr>\n",
              "  </tbody>\n",
              "</table>\n",
              "<p>541909 rows × 9 columns</p>\n",
              "</div>"
            ],
            "text/plain": [
              "       InvoiceNo StockCode  ...         Country                       clean_products\n",
              "0         536365    85123A  ...  United Kingdom     white hanging heart light holder\n",
              "1         536365     71053  ...  United Kingdom                  white metal lantern\n",
              "2         536365    84406B  ...  United Kingdom       cream cupid hearts coat hanger\n",
              "3         536365    84029G  ...  United Kingdom  knitted union flag hot water bottle\n",
              "4         536365    84029E  ...  United Kingdom        red woolly hottie white heart\n",
              "...          ...       ...  ...             ...                                  ...\n",
              "541904    581587     22613  ...          France                pack spaceboy napkins\n",
              "541905    581587     22899  ...          France            children apron dolly girl\n",
              "541906    581587     23254  ...          France         childrens cutlery dolly girl\n",
              "541907    581587     23255  ...          France      childrens cutlery circus parade\n",
              "541908    581587     22138  ...          France           baking set piece retrospot\n",
              "\n",
              "[541909 rows x 9 columns]"
            ]
          },
          "metadata": {
            "tags": []
          },
          "execution_count": 31
        }
      ]
    },
    {
      "cell_type": "code",
      "metadata": {
        "id": "kuJRPGc2ZkAG",
        "colab_type": "code",
        "colab": {
          "base_uri": "https://localhost:8080/",
          "height": 187
        },
        "outputId": "24425f5e-f956-4c5f-818d-c7427ddb78de"
      },
      "source": [
        "df.isnull().sum()"
      ],
      "execution_count": null,
      "outputs": [
        {
          "output_type": "execute_result",
          "data": {
            "text/plain": [
              "InvoiceNo              0\n",
              "StockCode              0\n",
              "Description         1454\n",
              "Quantity               0\n",
              "InvoiceDate            0\n",
              "UnitPrice              0\n",
              "CustomerID        135080\n",
              "Country                0\n",
              "clean_products         0\n",
              "dtype: int64"
            ]
          },
          "metadata": {
            "tags": []
          },
          "execution_count": 32
        }
      ]
    },
    {
      "cell_type": "code",
      "metadata": {
        "id": "5kCYysrWbCd8",
        "colab_type": "code",
        "colab": {
          "base_uri": "https://localhost:8080/",
          "height": 187
        },
        "outputId": "d7a4240d-dff7-429f-d8fa-baa343d2ffdc"
      },
      "source": [
        "df.dropna(inplace=True)\n",
        "df.isnull().sum()"
      ],
      "execution_count": null,
      "outputs": [
        {
          "output_type": "execute_result",
          "data": {
            "text/plain": [
              "InvoiceNo         0\n",
              "StockCode         0\n",
              "Description       0\n",
              "Quantity          0\n",
              "InvoiceDate       0\n",
              "UnitPrice         0\n",
              "CustomerID        0\n",
              "Country           0\n",
              "clean_products    0\n",
              "dtype: int64"
            ]
          },
          "metadata": {
            "tags": []
          },
          "execution_count": 33
        }
      ]
    },
    {
      "cell_type": "code",
      "metadata": {
        "id": "bDP0DLGWbChH",
        "colab_type": "code",
        "colab": {}
      },
      "source": [
        "df['StockCode']= df['StockCode'].astype(str)"
      ],
      "execution_count": null,
      "outputs": []
    },
    {
      "cell_type": "code",
      "metadata": {
        "id": "t-jjNmmRbCkE",
        "colab_type": "code",
        "colab": {
          "base_uri": "https://localhost:8080/",
          "height": 34
        },
        "outputId": "94ca0fe8-5896-40c0-d824-ff1c17587385"
      },
      "source": [
        "customers = df[\"CustomerID\"].unique().tolist()\n",
        "len(customers)"
      ],
      "execution_count": null,
      "outputs": [
        {
          "output_type": "execute_result",
          "data": {
            "text/plain": [
              "4372"
            ]
          },
          "metadata": {
            "tags": []
          },
          "execution_count": 34
        }
      ]
    },
    {
      "cell_type": "code",
      "metadata": {
        "id": "zlq6WdZ9bCoF",
        "colab_type": "code",
        "colab": {}
      },
      "source": [
        "select=df[['StockCode','CustomerID','clean_products','UnitPrice','Description']]\n",
        "df=select.copy()\n",
        "df"
      ],
      "execution_count": null,
      "outputs": []
    },
    {
      "cell_type": "code",
      "metadata": {
        "id": "oCxEZAmNhEx-",
        "colab_type": "code",
        "colab": {}
      },
      "source": [
        "#swapnil\n",
        "recData = recData.dropna()\n",
        "df['item_code'] = recData['item_code']\n",
        "df['item_code'] = df['item_code']\n",
        "pd.options.display.float_format = '{:,.0f}'.format"
      ],
      "execution_count": null,
      "outputs": []
    },
    {
      "cell_type": "code",
      "metadata": {
        "id": "mTj1HzT0raVD",
        "colab_type": "code",
        "colab": {
          "base_uri": "https://localhost:8080/",
          "height": 289
        },
        "outputId": "d163523a-4177-466b-94eb-510f8b42dfff"
      },
      "source": [
        "#swapnil\n",
        "df.head()"
      ],
      "execution_count": null,
      "outputs": [
        {
          "output_type": "execute_result",
          "data": {
            "text/html": [
              "<div>\n",
              "<style scoped>\n",
              "    .dataframe tbody tr th:only-of-type {\n",
              "        vertical-align: middle;\n",
              "    }\n",
              "\n",
              "    .dataframe tbody tr th {\n",
              "        vertical-align: top;\n",
              "    }\n",
              "\n",
              "    .dataframe thead th {\n",
              "        text-align: right;\n",
              "    }\n",
              "</style>\n",
              "<table border=\"1\" class=\"dataframe\">\n",
              "  <thead>\n",
              "    <tr style=\"text-align: right;\">\n",
              "      <th></th>\n",
              "      <th>InvoiceNo</th>\n",
              "      <th>StockCode</th>\n",
              "      <th>Description</th>\n",
              "      <th>Quantity</th>\n",
              "      <th>InvoiceDate</th>\n",
              "      <th>UnitPrice</th>\n",
              "      <th>CustomerID</th>\n",
              "      <th>Country</th>\n",
              "      <th>clean_products</th>\n",
              "      <th>item_code</th>\n",
              "    </tr>\n",
              "  </thead>\n",
              "  <tbody>\n",
              "    <tr>\n",
              "      <th>0</th>\n",
              "      <td>536365</td>\n",
              "      <td>85123A</td>\n",
              "      <td>WHITE HANGING HEART T-LIGHT HOLDER</td>\n",
              "      <td>6</td>\n",
              "      <td>2010-12-01 08:26:00</td>\n",
              "      <td>3</td>\n",
              "      <td>17,850</td>\n",
              "      <td>United Kingdom</td>\n",
              "      <td>white hanging heart light holder</td>\n",
              "      <td>1,997</td>\n",
              "    </tr>\n",
              "    <tr>\n",
              "      <th>1</th>\n",
              "      <td>536365</td>\n",
              "      <td>71053</td>\n",
              "      <td>WHITE METAL LANTERN</td>\n",
              "      <td>6</td>\n",
              "      <td>2010-12-01 08:26:00</td>\n",
              "      <td>3</td>\n",
              "      <td>17,850</td>\n",
              "      <td>United Kingdom</td>\n",
              "      <td>white metal lantern</td>\n",
              "      <td>25</td>\n",
              "    </tr>\n",
              "    <tr>\n",
              "      <th>2</th>\n",
              "      <td>536365</td>\n",
              "      <td>84406B</td>\n",
              "      <td>CREAM CUPID HEARTS COAT HANGER</td>\n",
              "      <td>8</td>\n",
              "      <td>2010-12-01 08:26:00</td>\n",
              "      <td>3</td>\n",
              "      <td>17,850</td>\n",
              "      <td>United Kingdom</td>\n",
              "      <td>cream cupid hearts coat hanger</td>\n",
              "      <td>87</td>\n",
              "    </tr>\n",
              "    <tr>\n",
              "      <th>3</th>\n",
              "      <td>536365</td>\n",
              "      <td>84029G</td>\n",
              "      <td>KNITTED UNION FLAG HOT WATER BOTTLE</td>\n",
              "      <td>6</td>\n",
              "      <td>2010-12-01 08:26:00</td>\n",
              "      <td>3</td>\n",
              "      <td>17,850</td>\n",
              "      <td>United Kingdom</td>\n",
              "      <td>knitted union flag hot water bottle</td>\n",
              "      <td>130</td>\n",
              "    </tr>\n",
              "    <tr>\n",
              "      <th>4</th>\n",
              "      <td>536365</td>\n",
              "      <td>84029E</td>\n",
              "      <td>RED WOOLLY HOTTIE WHITE HEART.</td>\n",
              "      <td>6</td>\n",
              "      <td>2010-12-01 08:26:00</td>\n",
              "      <td>3</td>\n",
              "      <td>17,850</td>\n",
              "      <td>United Kingdom</td>\n",
              "      <td>red woolly hottie white heart</td>\n",
              "      <td>167</td>\n",
              "    </tr>\n",
              "  </tbody>\n",
              "</table>\n",
              "</div>"
            ],
            "text/plain": [
              "  InvoiceNo StockCode  ...                       clean_products  item_code\n",
              "0    536365    85123A  ...     white hanging heart light holder      1,997\n",
              "1    536365     71053  ...                  white metal lantern         25\n",
              "2    536365    84406B  ...       cream cupid hearts coat hanger         87\n",
              "3    536365    84029G  ...  knitted union flag hot water bottle        130\n",
              "4    536365    84029E  ...        red woolly hottie white heart        167\n",
              "\n",
              "[5 rows x 10 columns]"
            ]
          },
          "metadata": {
            "tags": []
          },
          "execution_count": 59
        }
      ]
    },
    {
      "cell_type": "code",
      "metadata": {
        "id": "Omt0G_X2bLB6",
        "colab_type": "code",
        "colab": {}
      },
      "source": [
        "#purchases= []\n",
        "\n",
        "# populate the list with the product codes\n",
        "#for i in tqdm(customers):\n",
        "#    temp = df[df[\"CustomerID\"] == i][\"StockCode\"].tolist()\n",
        "#    purchases.append(temp)"
      ],
      "execution_count": null,
      "outputs": []
    },
    {
      "cell_type": "code",
      "metadata": {
        "id": "8dHvPqBThX7q",
        "colab_type": "code",
        "colab": {
          "base_uri": "https://localhost:8080/",
          "height": 34
        },
        "outputId": "3790f46a-3f13-486d-e5e3-81f812a33738"
      },
      "source": [
        "#swapnil\n",
        "purchases= []\n",
        "\n",
        "# populate the list with the product codes\n",
        "for i in tqdm(customers):\n",
        "    temp = df[df[\"CustomerID\"] == i][\"item_code\"].tolist()\n",
        "    purchases.append(temp)"
      ],
      "execution_count": null,
      "outputs": [
        {
          "output_type": "stream",
          "text": [
            "100%|██████████| 4372/4372 [00:06<00:00, 721.44it/s]\n"
          ],
          "name": "stderr"
        }
      ]
    },
    {
      "cell_type": "code",
      "metadata": {
        "id": "vAkvP6Q3bLG9",
        "colab_type": "code",
        "colab": {
          "base_uri": "https://localhost:8080/",
          "height": 54
        },
        "outputId": "bfdc328f-ecc2-4130-9be3-93bec6e4f0cb"
      },
      "source": [
        "print(purchases[0:2])\n"
      ],
      "execution_count": null,
      "outputs": [
        {
          "output_type": "stream",
          "text": [
            "[[1997.0, 25.0, 87.0, 130.0, 167.0, 206.0, 208.0, 274.0, 315.0, 1576.0, 1577.0, 1578.0, 1620.0, 1621.0, 1622.0, 1623.0, 1624.0, 1651.0, 1667.0, 1787.0, 1833.0, 1911.0, 1919.0, 1977.0, 1978.0, 1993.0, 2001.0, 2003.0, 2004.0, 2005.0, 2006.0, 2008.0, 2093.0, 2115.0, 2126.0, 2134.0, 2229.0, 2230.0, 2231.0, 2287.0, 2303.0, 2309.0, 2312.0, 2591.0, 2595.0, 2504.0, 138.0, 139.0, 140.0, 170.0, 178.0, 179.0, 341.0, 382.0, 427.0, 438.0, 439.0, 440.0, 441.0, 442.0, 443.0, 445.0, 531.0, 1482.0, 1483.0, 436.0, 437.0, 553.0, 602.0, 613.0, 614.0, 615.0, 634.0, 824.0, 825.0, 841.0, 926.0, 927.0, 928.0, 929.0, 930.0, 931.0, 932.0, 956.0, 615.0, 641.0, 784.0, 880.0, 930.0, 1350.0, 1482.0, 1483.0, 1484.0, 1564.0, 1666.0, 1802.0, 1954.0, 1999.0, 2070.0, 2082.0, 2084.0, 2089.0, 2098.0, 2099.0, 2100.0, 2107.0, 2108.0, 2109.0, 2110.0, 2110.0, 2115.0, 2137.0, 910.0, 1025.0, 1407.0, 1411.0, 1412.0, 2593.0, 2594.0, 2605.0, 2606.0, 2613.0, 3664.0, 12.0, 46.0, 138.0, 139.0, 140.0, 146.0, 161.0, 347.0, 348.0, 361.0, 364.0, 376.0, 389.0, 398.0, 404.0, 405.0, 407.0, 408.0, 409.0, 410.0, 411.0, 418.0, 625.0, 629.0, 1585.0, 1587.0, 1588.0, 1598.0, 1599.0, 1600.0, 1653.0, 1664.0, 1681.0, 1683.0, 1684.0, 1685.0, 1686.0, 1687.0, 1688.0, 1691.0, 1693.0, 1694.0, 1701.0, 1702.0, 1703.0, 1704.0, 1735.0, 1749.0, 1750.0, 1751.0, 1752.0, 1753.0, 1755.0, 1756.0, 1758.0, 1759.0, 1760.0, 1761.0, 1762.0, 1763.0, 3340.0, 3342.0, 3364.0, 3365.0, 3371.0, 3397.0, 3474.0, 3514.0, 3543.0, 3664.0, 621.0, 788.0, 845.0, 852.0, 932.0, 947.0, 1035.0, 1305.0, 1388.0, 1391.0, 1394.0, 1396.0, 1400.0, 1403.0, 1405.0, 1461.0, 1470.0, 1487.0, 1488.0, 1489.0, 1519.0, 1541.0, 1542.0, 1757.0, 1812.0, 1829.0, 2015.0, 2026.0, 2070.0, 2116.0, 2166.0, 2198.0, 2919.0, 3664.0, 21.0, 22.0, 43.0, 46.0, 146.0, 162.0, 179.0, 181.0, 182.0, 215.0, 285.0, 296.0, 299.0, 315.0, 317.0, 340.0, 341.0, 343.0, 344.0, 345.0, 348.0, 349.0, 350.0, 361.0, 364.0, 365.0, 367.0, 380.0, 389.0, 411.0, 421.0, 423.0, 426.0, 427.0, 445.0, 447.0, 1475.0, 1805.0, 1953.0, 1975.0, 1976.0, 2287.0, 2374.0, 2843.0, 3664.0, 18.0, 51.0, 138.0, 140.0, 162.0, 167.0, 169.0, 170.0, 171.0, 297.0, 298.0, 341.0, 348.0, 361.0, 389.0, 427.0, 439.0, 440.0, 441.0, 442.0, 443.0, 444.0, 567.0, 600.0, 614.0, 1054.0, 1058.0, 1060.0, 1066.0, 1077.0, 1082.0, 1083.0, 1084.0, 1088.0, 1088.0, 1097.0, 1100.0, 1101.0, 1104.0, 1107.0], [319.0, 332.0, 380.0, 394.0, 459.0, 645.0, 679.0, 752.0, 788.0, 819.0, 908.0, 909.0, 1028.0, 1031.0, 1086.0, 1087.0, 1101.0, 1749.0, 2795.0, 2842.0, 2843.0, 2852.0, 2853.0, 2867.0, 2872.0, 2876.0, 2877.0, 2883.0, 2884.0, 2885.0, 2886.0, 2911.0, 2912.0, 2913.0, 2914.0, 2915.0, 2916.0, 2987.0, 3030.0, 3032.0, 3036.0, 3038.0, 3086.0, 3089.0, 494.0, 606.0, 608.0, 612.0, 632.0, 824.0, 932.0, 939.0, 947.0, 1070.0, 1288.0, 1301.0, 1302.0, 1423.0, 1424.0, 1425.0, 1567.0, 1594.0, 1597.0, 2060.0, 2940.0, 2941.0, 2942.0, 2125.0, 2129.0, 2130.0, 2131.0, 2146.0, 2172.0, 2179.0, 2245.0, 2246.0, 2294.0, 2299.0, 2336.0, 2337.0, 2340.0, 2341.0, 2351.0, 2352.0, 2378.0, 2393.0, 1569.0, 1570.0, 1870.0, 1873.0, 1995.0, 2001.0, 2002.0, 2003.0, 2102.0, 2593.0, 139.0, 140.0, 169.0, 170.0, 172.0, 173.0, 262.0, 314.0, 341.0, 343.0, 348.0, 423.0, 424.0, 437.0, 885.0, 887.0, 888.0, 918.0, 919.0, 920.0, 960.0, 1070.0, 1254.0, 1255.0, 1811.0, 1812.0, 1813.0, 1815.0, 1837.0, 1959.0, 2062.0, 2063.0, 2126.0, 2127.0, 2136.0, nan, nan, nan, nan, nan, nan, nan, nan, nan, nan, nan, nan, nan, nan, nan, nan, nan, nan, nan, nan, nan, nan, nan, nan, nan, nan, nan, nan, nan, nan, nan, nan, nan, nan, nan, nan, nan, nan, nan, nan, nan, nan, nan, nan, nan, nan, nan, nan, nan, nan, nan, nan, nan, nan, nan, nan, nan, nan, nan, nan, nan, nan, nan, nan, nan]]\n"
          ],
          "name": "stdout"
        }
      ]
    },
    {
      "cell_type": "code",
      "metadata": {
        "id": "eyC-D0pzbLL7",
        "colab_type": "code",
        "colab": {
          "base_uri": "https://localhost:8080/",
          "height": 34
        },
        "outputId": "dfe63283-8fac-49d5-c991-749a4249c765"
      },
      "source": [
        "model = Word2Vec(window = 10, sg = 1,negative = 10) # for negative sampling\n",
        "\n",
        "model.build_vocab(purchases, progress_per=200)\n",
        "\n",
        "model.train(purchases, total_examples = model.corpus_count, epochs=10)"
      ],
      "execution_count": null,
      "outputs": [
        {
          "output_type": "execute_result",
          "data": {
            "text/plain": [
              "(2002699, 4068290)"
            ]
          },
          "metadata": {
            "tags": []
          },
          "execution_count": 43
        }
      ]
    },
    {
      "cell_type": "code",
      "metadata": {
        "id": "PQ38m51MbU4c",
        "colab_type": "code",
        "colab": {
          "base_uri": "https://localhost:8080/",
          "height": 34
        },
        "outputId": "d33b1ef4-06d7-490f-f694-eca4b03e5aa2"
      },
      "source": [
        "model.init_sims(replace=True)\n",
        "print(model)"
      ],
      "execution_count": null,
      "outputs": [
        {
          "output_type": "stream",
          "text": [
            "Word2Vec(vocab=2995, size=100, alpha=0.025)\n"
          ],
          "name": "stdout"
        }
      ]
    },
    {
      "cell_type": "code",
      "metadata": {
        "id": "1f2cBhBebU7r",
        "colab_type": "code",
        "colab": {
          "base_uri": "https://localhost:8080/",
          "height": 88
        },
        "outputId": "58601bbc-2aa5-4684-bf5b-5e3a2dc9c9bc"
      },
      "source": [
        "# extract all vectors\n",
        "X = model[model.wv.vocab]\n",
        "X.shape"
      ],
      "execution_count": null,
      "outputs": [
        {
          "output_type": "stream",
          "text": [
            "/usr/local/lib/python3.6/dist-packages/ipykernel_launcher.py:2: DeprecationWarning: Call to deprecated `__getitem__` (Method will be removed in 4.0.0, use self.wv.__getitem__() instead).\n",
            "  \n"
          ],
          "name": "stderr"
        },
        {
          "output_type": "execute_result",
          "data": {
            "text/plain": [
              "(2995, 100)"
            ]
          },
          "metadata": {
            "tags": []
          },
          "execution_count": 45
        }
      ]
    },
    {
      "cell_type": "code",
      "metadata": {
        "id": "fKIKWgBWbU-x",
        "colab_type": "code",
        "colab": {}
      },
      "source": [
        "#products = df[[\"StockCode\", \"Description\",\"UnitPrice\"]].copy()\n",
        "#products"
      ],
      "execution_count": null,
      "outputs": []
    },
    {
      "cell_type": "code",
      "metadata": {
        "id": "NqNlR_Byhl_R",
        "colab_type": "code",
        "colab": {
          "base_uri": "https://localhost:8080/",
          "height": 419
        },
        "outputId": "868102c0-d500-441c-cc56-1d895fa77257"
      },
      "source": [
        "#swapnil\n",
        "products = df[[\"item_code\", \"Description\",\"UnitPrice\"]].copy()\n",
        "products =products.dropna()\n",
        "products"
      ],
      "execution_count": null,
      "outputs": [
        {
          "output_type": "execute_result",
          "data": {
            "text/html": [
              "<div>\n",
              "<style scoped>\n",
              "    .dataframe tbody tr th:only-of-type {\n",
              "        vertical-align: middle;\n",
              "    }\n",
              "\n",
              "    .dataframe tbody tr th {\n",
              "        vertical-align: top;\n",
              "    }\n",
              "\n",
              "    .dataframe thead th {\n",
              "        text-align: right;\n",
              "    }\n",
              "</style>\n",
              "<table border=\"1\" class=\"dataframe\">\n",
              "  <thead>\n",
              "    <tr style=\"text-align: right;\">\n",
              "      <th></th>\n",
              "      <th>item_code</th>\n",
              "      <th>Description</th>\n",
              "      <th>UnitPrice</th>\n",
              "    </tr>\n",
              "  </thead>\n",
              "  <tbody>\n",
              "    <tr>\n",
              "      <th>0</th>\n",
              "      <td>1997.0</td>\n",
              "      <td>WHITE HANGING HEART T-LIGHT HOLDER</td>\n",
              "      <td>2.55</td>\n",
              "    </tr>\n",
              "    <tr>\n",
              "      <th>1</th>\n",
              "      <td>25.0</td>\n",
              "      <td>WHITE METAL LANTERN</td>\n",
              "      <td>3.39</td>\n",
              "    </tr>\n",
              "    <tr>\n",
              "      <th>2</th>\n",
              "      <td>87.0</td>\n",
              "      <td>CREAM CUPID HEARTS COAT HANGER</td>\n",
              "      <td>2.75</td>\n",
              "    </tr>\n",
              "    <tr>\n",
              "      <th>3</th>\n",
              "      <td>130.0</td>\n",
              "      <td>KNITTED UNION FLAG HOT WATER BOTTLE</td>\n",
              "      <td>3.39</td>\n",
              "    </tr>\n",
              "    <tr>\n",
              "      <th>4</th>\n",
              "      <td>167.0</td>\n",
              "      <td>RED WOOLLY HOTTIE WHITE HEART.</td>\n",
              "      <td>3.39</td>\n",
              "    </tr>\n",
              "    <tr>\n",
              "      <th>...</th>\n",
              "      <td>...</td>\n",
              "      <td>...</td>\n",
              "      <td>...</td>\n",
              "    </tr>\n",
              "    <tr>\n",
              "      <th>541904</th>\n",
              "      <td>nan</td>\n",
              "      <td>PACK OF 20 SPACEBOY NAPKINS</td>\n",
              "      <td>0.85</td>\n",
              "    </tr>\n",
              "    <tr>\n",
              "      <th>541905</th>\n",
              "      <td>nan</td>\n",
              "      <td>CHILDREN'S APRON DOLLY GIRL</td>\n",
              "      <td>2.10</td>\n",
              "    </tr>\n",
              "    <tr>\n",
              "      <th>541906</th>\n",
              "      <td>nan</td>\n",
              "      <td>CHILDRENS CUTLERY DOLLY GIRL</td>\n",
              "      <td>4.15</td>\n",
              "    </tr>\n",
              "    <tr>\n",
              "      <th>541907</th>\n",
              "      <td>nan</td>\n",
              "      <td>CHILDRENS CUTLERY CIRCUS PARADE</td>\n",
              "      <td>4.15</td>\n",
              "    </tr>\n",
              "    <tr>\n",
              "      <th>541908</th>\n",
              "      <td>nan</td>\n",
              "      <td>BAKING SET 9 PIECE RETROSPOT</td>\n",
              "      <td>4.95</td>\n",
              "    </tr>\n",
              "  </tbody>\n",
              "</table>\n",
              "<p>406829 rows × 3 columns</p>\n",
              "</div>"
            ],
            "text/plain": [
              "       item_code                          Description  UnitPrice\n",
              "0         1997.0   WHITE HANGING HEART T-LIGHT HOLDER       2.55\n",
              "1           25.0                  WHITE METAL LANTERN       3.39\n",
              "2           87.0       CREAM CUPID HEARTS COAT HANGER       2.75\n",
              "3          130.0  KNITTED UNION FLAG HOT WATER BOTTLE       3.39\n",
              "4          167.0       RED WOOLLY HOTTIE WHITE HEART.       3.39\n",
              "...          ...                                  ...        ...\n",
              "541904       nan          PACK OF 20 SPACEBOY NAPKINS       0.85\n",
              "541905       nan         CHILDREN'S APRON DOLLY GIRL        2.10\n",
              "541906       nan        CHILDRENS CUTLERY DOLLY GIRL        4.15\n",
              "541907       nan      CHILDRENS CUTLERY CIRCUS PARADE       4.15\n",
              "541908       nan        BAKING SET 9 PIECE RETROSPOT        4.95\n",
              "\n",
              "[406829 rows x 3 columns]"
            ]
          },
          "metadata": {
            "tags": []
          },
          "execution_count": 54
        }
      ]
    },
    {
      "cell_type": "code",
      "metadata": {
        "id": "rsDxEj0OkZeq",
        "colab_type": "code",
        "colab": {}
      },
      "source": [
        "#products.drop_duplicates(inplace=True, subset='StockCode', keep=\"last\")\n",
        "#products_dict = products.groupby('StockCode')[\"Description\"].apply(list).to_dict()\n",
        "#products_dict"
      ],
      "execution_count": null,
      "outputs": []
    },
    {
      "cell_type": "code",
      "metadata": {
        "id": "fLwhM7mKhvn2",
        "colab_type": "code",
        "colab": {
          "base_uri": "https://localhost:8080/",
          "height": 1000
        },
        "outputId": "c02c2bce-a048-4a93-9eda-3be0260ca650"
      },
      "source": [
        "#swapnil\n",
        "products.drop_duplicates(inplace=True, subset='item_code', keep=\"last\")\n",
        "products_dict = products.groupby('item_code')[\"Description\"].apply(list).to_dict()\n",
        "products_dict"
      ],
      "execution_count": null,
      "outputs": [
        {
          "output_type": "execute_result",
          "data": {
            "text/plain": [
              "{'0.0': ['CARD WEDDING DAY'],\n",
              " '1.0': ['SMALL DECO JEWELLERY STAND'],\n",
              " '10.0': ['SPOTTY BUNTING'],\n",
              " '100.0': ['CHEST OF DRAWERS GINGHAM HEART '],\n",
              " '1000.0': ['SET OF 60 PANTRY DESIGN CAKE CASES '],\n",
              " '1001.0': ['PACK OF 12 TRADITIONAL CRAYONS'],\n",
              " '1002.0': ['MINT KITCHEN SCALES'],\n",
              " '1003.0': ['CHARLOTTE BAG SUKI DESIGN'],\n",
              " '1004.0': ['36 FOIL HEART CAKE CASES'],\n",
              " '1005.0': ['SET 20 NAPKINS FAIRY CAKES DESIGN '],\n",
              " '1006.0': ['WOODLAND CHARLOTTE BAG'],\n",
              " '1007.0': ['CHILDRENS CUTLERY CIRCUS PARADE'],\n",
              " '1008.0': ['SET OF 3 REGENCY CAKE TINS'],\n",
              " '1009.0': ['MINT KITCHEN SCALES'],\n",
              " '101.0': ['LOVE BUILDING BLOCK WORD'],\n",
              " '1010.0': ['ZINC T-LIGHT HOLDER STARS SMALL'],\n",
              " '1011.0': ['RECYCLED ACAPULCO MAT TURQUOISE'],\n",
              " '1012.0': ['SET/5 RED RETROSPOT LID GLASS BOWLS'],\n",
              " '1013.0': ['WOODEN FRAME ANTIQUE WHITE '],\n",
              " '1014.0': ['GREEN BIRDHOUSE DECORATION'],\n",
              " '1015.0': ['RED GINGHAM ROSE JEWELLERY BOX'],\n",
              " '1016.0': ['PACK OF 12 RED RETROSPOT TISSUES '],\n",
              " '1017.0': ['GINGHAM HEART DECORATION'],\n",
              " '1018.0': [\"I'M ON HOLIDAY METAL SIGN\"],\n",
              " '1019.0': ['SPACEBOY LUNCH BOX '],\n",
              " '102.0': ['HAND OVER THE CHOCOLATE   SIGN '],\n",
              " '1020.0': [\"GIANT 50'S CHRISTMAS CRACKER\"],\n",
              " '1021.0': ['TEA TIME OVEN GLOVE'],\n",
              " '1022.0': ['CHILDRENS CUTLERY DOLLY GIRL '],\n",
              " '1023.0': ['WHITE METAL LANTERN'],\n",
              " '1024.0': ['CHOCOLATE THIS WAY METAL SIGN'],\n",
              " '1025.0': ['HEART OF WICKER SMALL'],\n",
              " '1026.0': ['VICTORIAN GLASS HANGING T-LIGHT'],\n",
              " '1027.0': ['S/4 GROOVY CAT MAGNETS'],\n",
              " '1028.0': ['KNEELING MAT HOUSEWORK  DESIGN'],\n",
              " '1029.0': ['CLASSIC FRENCH STYLE BASKET GREEN '],\n",
              " '103.0': ['SPACEBOY CHILDRENS CUP'],\n",
              " '1030.0': ['STRAWBERRY CHARLOTTE BAG'],\n",
              " '1031.0': ['FELTCRAFT CUSHION RABBIT'],\n",
              " '1032.0': ['FELTCRAFT DOLL ROSIE'],\n",
              " '1033.0': ['LUNCH BAG DOILEY PATTERN '],\n",
              " '1034.0': ['36 FOIL STAR CAKE CASES '],\n",
              " '1035.0': ['LUNCH BAG CARS BLUE'],\n",
              " '1036.0': ['SCANDINAVIAN PAISLEY PICNIC BAG'],\n",
              " '1037.0': ['MINT DINER WALL CLOCK'],\n",
              " '1038.0': ['LA PALMIERA TILE HOOK'],\n",
              " '1039.0': ['WOOD S/3 CABINET ANT WHITE FINISH'],\n",
              " '104.0': ['VINTAGE RED ENAMEL TRIM PLATE'],\n",
              " '1041.0': ['DOLLY GIRL BABY GIFT SET'],\n",
              " '1042.0': ['TOY TIDY PINK POLKADOT'],\n",
              " '1043.0': ['6 ROCKET BALLOONS '],\n",
              " '1044.0': ['ENGLISH ROSE GARDEN SECATEURS'],\n",
              " '1045.0': ['PACK OF 60 DINOSAUR CAKE CASES'],\n",
              " '1046.0': ['PACK OF 72 SKULL CAKE CASES'],\n",
              " '1047.0': ['PANTRY WASHING UP BRUSH'],\n",
              " '1048.0': ['RED RETROSPOT OVEN GLOVE '],\n",
              " '1049.0': ['TREASURE TIN GYMKHANA DESIGN'],\n",
              " '105.0': ['ALARM CLOCK BAKELIKE PINK'],\n",
              " '1050.0': ['FRENCH LAUNDRY SIGN BLUE METAL'],\n",
              " '1051.0': ['GREEN REGENCY TEACUP AND SAUCER'],\n",
              " '1052.0': ['200 BENDY SKULL STRAWS'],\n",
              " '1053.0': ['LUNCH BAG SPACEBOY DESIGN '],\n",
              " '1054.0': ['60 CAKE CASES DOLLY GIRL DESIGN'],\n",
              " '1055.0': ['PACK OF 60 SPACEBOY CAKE CASES'],\n",
              " '1056.0': ['OPEN CLOSED METAL SIGN'],\n",
              " '1057.0': ['SKETCHBOOK MAGNETIC SHOPPING LIST'],\n",
              " '1058.0': ['WHITE WOOD GARDEN PLANT LADDER'],\n",
              " '1059.0': ['RECYCLED ACAPULCO MAT LAVENDER'],\n",
              " '106.0': ['SET/5 RED RETROSPOT LID GLASS BOWLS'],\n",
              " '1060.0': ['KITTY PENCIL ERASERS'],\n",
              " '1061.0': ['LUNCH BAG CARS BLUE'],\n",
              " '1062.0': ['VINTAGE RED ENAMEL TRIM MUG '],\n",
              " '1063.0': ['VINTAGE RED ENAMEL TRIM PLATE'],\n",
              " '1064.0': ['CLOTHES PEGS RETROSPOT PACK 24 '],\n",
              " '1065.0': ['RED STRIPE CERAMIC DRAWER KNOB'],\n",
              " '1066.0': ['BOX OF 24 COCKTAIL PARASOLS'],\n",
              " '1067.0': ['STRAWBERRIES  DESIGN FLANNEL '],\n",
              " '1068.0': ['PARTY TIME DESIGN FLANNEL'],\n",
              " '1069.0': ['LARGE RED RETROSPOT WINDMILL'],\n",
              " '1070.0': ['PACK OF 60 MUSHROOM CAKE CASES'],\n",
              " '1071.0': ['CLEAR DRAWER KNOB ACRYLIC EDWARDIAN'],\n",
              " '1072.0': ['DOORMAT MERRY CHRISTMAS RED '],\n",
              " '1073.0': ['SET OF TEA COFFEE SUGAR TINS PANTRY'],\n",
              " '1074.0': ['SET 2 PANTRY DESIGN TEA TOWELS'],\n",
              " '1075.0': ['LAUNDRY 15C METAL SIGN'],\n",
              " '1076.0': ['WHITE WOOD GARDEN PLANT LADDER'],\n",
              " '1077.0': ['GREY HEART HOT WATER BOTTLE'],\n",
              " '1078.0': ['REX CASH+CARRY JUMBO SHOPPER'],\n",
              " '1079.0': ['MODERN FLORAL STATIONERY SET'],\n",
              " '108.0': ['TEA COSY BLUE STRIPE'],\n",
              " '1080.0': ['TRAVEL CARD WALLET FLOWER MEADOW'],\n",
              " '1081.0': ['HANGING JAM JAR T-LIGHT HOLDER'],\n",
              " '1082.0': ['GIRAFFE WOODEN RULER'],\n",
              " '1083.0': ['60 CAKE CASES VINTAGE CHRISTMAS'],\n",
              " '1084.0': ['REVOLVER WOODEN RULER '],\n",
              " '1085.0': ['DOORMAT KEEP CALM AND COME IN'],\n",
              " '1086.0': ['LUNCH BAG CARS BLUE'],\n",
              " '1087.0': ['LUNCH BAG VINTAGE LEAF DESIGN'],\n",
              " '1088.0': ['RETRO PLASTIC POLKA TRAY'],\n",
              " '1089.0': ['WOODLAND CHARLOTTE BAG'],\n",
              " '109.0': ['SINGLE HEART ZINC T-LIGHT HOLDER'],\n",
              " '1090.0': ['PLASTERS IN TIN WOODLAND ANIMALS'],\n",
              " '1091.0': ['PACK OF 72 SKULL CAKE CASES'],\n",
              " '1092.0': ['WHITE METAL LANTERN'],\n",
              " '1093.0': ['POSTAGE'],\n",
              " '1094.0': ['SILVER HANGING T-LIGHT HOLDER'],\n",
              " '1095.0': ['HANGING HEART JAR T-LIGHT HOLDER'],\n",
              " '1096.0': ['JUMBO BAG DOILEY PATTERNS'],\n",
              " '1097.0': ['BAG 125g SWIRLY MARBLES'],\n",
              " '1098.0': ['BINGO SET'],\n",
              " '1099.0': ['RECYCLING BAG RETROSPOT '],\n",
              " '11.0': ['20 DOLLY PEGS RETROSPOT'],\n",
              " '110.0': ['BLUE/CREAM STRIPE CUSHION COVER '],\n",
              " '1100.0': ['JUMBO BAG VINTAGE CHRISTMAS '],\n",
              " '1101.0': ['DOLLY GIRL CHILDRENS CUP'],\n",
              " '1102.0': ['BULL DOG BOTTLE OPENER'],\n",
              " '1103.0': ['BUNDLE OF 3 ALPHABET EXERCISE BOOKS'],\n",
              " '1104.0': [\"CHILDREN'S APRON DOLLY GIRL \"],\n",
              " '1105.0': ['CANDY SPOT EGG WARMER RABBIT'],\n",
              " '1106.0': ['HEART OF WICKER LARGE'],\n",
              " '1107.0': ['HAPPY STENCIL CRAFT'],\n",
              " '1108.0': ['FELTCRAFT BUTTERFLY HEARTS'],\n",
              " '1109.0': ['FOUR HOOK  WHITE LOVEBIRDS'],\n",
              " '111.0': ['SET 20 NAPKINS FAIRY CAKES DESIGN '],\n",
              " '1110.0': ['SMALL POLKADOT CHOCOLATE GIFT BAG '],\n",
              " '1111.0': ['SET OF 4 PANTRY JELLY MOULDS'],\n",
              " '1112.0': ['RETROSPOT PARTY BAG + STICKER SET'],\n",
              " '1113.0': ['DRAWER KNOB CRACKLE GLAZE IVORY'],\n",
              " '1114.0': ['36 FOIL HEART CAKE CASES'],\n",
              " '1115.0': ['SET OF 3 REGENCY CAKE TINS'],\n",
              " '1116.0': ['LARGE CAKE STAND  HANGING STRAWBERY'],\n",
              " '1117.0': ['GLASS APOTHECARY BOTTLE ELIXIR'],\n",
              " '1118.0': ['RELAX LARGE WOOD LETTERS'],\n",
              " '1119.0': ['DOORMAT RED RETROSPOT'],\n",
              " '112.0': ['COLOUR GLASS T-LIGHT HOLDER HANGING'],\n",
              " '1120.0': ['HEART CALCULATOR'],\n",
              " '1121.0': ['WHITE SPOT RED CERAMIC DRAWER KNOB'],\n",
              " '1122.0': ['SET OF 4 KNICK KNACK TINS DOILEY '],\n",
              " '1123.0': ['FILIGREE HEART DAISY WHITE'],\n",
              " '1124.0': ['SET OF 3 WOODEN HEART DECORATIONS'],\n",
              " '1125.0': ['PSYCHEDELIC WALL THERMOMETER'],\n",
              " '1126.0': ['COLOUR GLASS T-LIGHT HOLDER HANGING'],\n",
              " '1127.0': ['DAISY GARDEN MARKER'],\n",
              " '1128.0': ['SET OF 36 PAISLEY FLOWER DOILIES'],\n",
              " '1129.0': ['GLASS APOTHECARY BOTTLE PERFUME'],\n",
              " '113.0': ['CHRISTMAS STAR WISH LIST CHALKBOARD'],\n",
              " '1130.0': ['DRAWER KNOB CERAMIC IVORY'],\n",
              " '1131.0': ['PACK OF 20 NAPKINS PANTRY DESIGN'],\n",
              " '1132.0': ['LUNCH BAG RED RETROSPOT'],\n",
              " '1133.0': ['ALARM CLOCK BAKELIKE RED '],\n",
              " '1134.0': ['4 TRADITIONAL SPINNING TOPS'],\n",
              " '1135.0': ['SET OF 4 PANTRY JELLY MOULDS'],\n",
              " '1136.0': ['EDWARDIAN PARASOL RED'],\n",
              " '1137.0': ['EDWARDIAN PARASOL NATURAL'],\n",
              " '1138.0': ['12 PENCILS SMALL TUBE SKULL'],\n",
              " '1139.0': ['FAMILY ALBUM WHITE PICTURE FRAME'],\n",
              " '114.0': ['CLOTHES PEGS RETROSPOT PACK 24 '],\n",
              " '1140.0': ['HAND OVER THE CHOCOLATE   SIGN '],\n",
              " '1141.0': ['SET/20 RED RETROSPOT PAPER NAPKINS '],\n",
              " '1142.0': ['BABUSHKA LIGHTS STRING OF 10'],\n",
              " '1143.0': ['PINK  POLKADOT CUP'],\n",
              " '1144.0': ['PANTRY WASHING UP BRUSH'],\n",
              " '1145.0': ['CITRONELLA CANDLE GARDEN POT'],\n",
              " '1146.0': ['GLASS APOTHECARY BOTTLE TONIC'],\n",
              " '1147.0': ['DRAWER KNOB CRACKLE GLAZE BLUE'],\n",
              " '1148.0': ['SAVE THE PLANET COTTON TOTE BAG'],\n",
              " '1149.0': ['MOODY GIRL DOOR HANGER '],\n",
              " '115.0': ['EDWARDIAN PARASOL BLACK'],\n",
              " '1150.0': ['SET OF 4 ENGLISH ROSE COASTERS'],\n",
              " '1151.0': ['SPOTTY BUNTING'],\n",
              " '1152.0': ['BLOSSOM IMAGES GIFT WRAP SET'],\n",
              " '1153.0': ['ROUND CONTAINER SET OF 5 RETROSPOT'],\n",
              " '1154.0': ['WHITE HANGING HEART T-LIGHT HOLDER'],\n",
              " '1155.0': ['FRENCH KITCHEN SIGN BLUE METAL'],\n",
              " '1156.0': ['HOME BUILDING BLOCK WORD'],\n",
              " '1157.0': ['DOORMAT KEEP CALM AND COME IN'],\n",
              " '1158.0': ['4 TRADITIONAL SPINNING TOPS'],\n",
              " '1159.0': ['ASSORTED MINI MADRAS NOTEBOOK'],\n",
              " '116.0': ['BLACK/BLUE POLKADOT UMBRELLA'],\n",
              " '1160.0': ['MAN FLU METAL SIGN'],\n",
              " '1161.0': ['COFFEE MUG BLUE PAISLEY DESIGN'],\n",
              " '1162.0': ['LUNCH BAG APPLE DESIGN'],\n",
              " '1163.0': ['PINK REGENCY TEACUP AND SAUCER'],\n",
              " '1164.0': ['ROSES REGENCY TEACUP AND SAUCER '],\n",
              " '1165.0': ['BLUE HARMONICA IN BOX '],\n",
              " '1166.0': ['DRAWER KNOB CERAMIC IVORY'],\n",
              " '1167.0': ['LUNCH BAG RED RETROSPOT'],\n",
              " '1168.0': ['WHITE HANGING HEART T-LIGHT HOLDER'],\n",
              " '1169.0': ['KEY FOB , FRONT  DOOR '],\n",
              " '117.0': ['EDWARDIAN PARASOL RED'],\n",
              " '1170.0': ['LAUNDRY 15C METAL SIGN'],\n",
              " '1171.0': ['FRENCH LAUNDRY SIGN BLUE METAL'],\n",
              " '1172.0': ['TRAVEL CARD WALLET VINTAGE TICKET'],\n",
              " '1173.0': ['DRAWER KNOB CRACKLE GLAZE IVORY'],\n",
              " '1174.0': ['GINGERBREAD MAN COOKIE CUTTER'],\n",
              " '1175.0': ['ENGLISH ROSE HOT WATER BOTTLE'],\n",
              " '1176.0': [\"MUM'S KITCHEN CLOCK\"],\n",
              " '1177.0': ['36 FOIL HEART CAKE CASES'],\n",
              " '1178.0': ['PARTY METAL SIGN '],\n",
              " '1179.0': ['CHARLOTTE BAG SUKI DESIGN'],\n",
              " '118.0': ['3 STRIPEY MICE FELTCRAFT'],\n",
              " '1180.0': ['PHOTO CUBE'],\n",
              " '1181.0': ['METAL DECORATION NAUGHTY CHILDREN '],\n",
              " '1182.0': ['CHOCOLATE THIS WAY METAL SIGN'],\n",
              " '1183.0': ['WOOD 2 DRAWER CABINET WHITE FINISH'],\n",
              " '1184.0': ['MAGNETS PACK OF 4 VINTAGE LABELS '],\n",
              " '1185.0': ['SPACEBOY BIRTHDAY CARD'],\n",
              " '1186.0': ['BUNDLE OF 3 RETRO NOTE BOOKS'],\n",
              " '1187.0': [\"POPPY'S PLAYHOUSE KITCHEN\"],\n",
              " '1188.0': ['CHARLOTTE BAG VINTAGE ALPHABET '],\n",
              " '1189.0': ['VINTAGE EMBOSSED HEART'],\n",
              " '119.0': ['RED RETROSPOT CUP'],\n",
              " '1190.0': ['BLUE HARMONICA IN BOX '],\n",
              " '1191.0': ['PARTY BUNTING'],\n",
              " '1192.0': ['LUNCH BAG WOODLAND'],\n",
              " '1193.0': ['CARD PSYCHEDELIC APPLES'],\n",
              " '1194.0': ['BATHROOM METAL SIGN'],\n",
              " '1195.0': ['PANTRY MAGNETIC  SHOPPING LIST'],\n",
              " '1196.0': ['BOX OF VINTAGE ALPHABET BLOCKS'],\n",
              " '1197.0': ['BOUDOIR SQUARE TISSUE BOX'],\n",
              " '1198.0': ['12 MESSAGE CARDS WITH ENVELOPES'],\n",
              " '1199.0': ['BOYS VINTAGE TIN SEASIDE BUCKET'],\n",
              " '12.0': ['SMALL FOLDING SCISSOR(POINTED EDGE)'],\n",
              " '120.0': ['BOTTLE BAG RETROSPOT '],\n",
              " '1201.0': ['NO JUNK MAIL METAL SIGN'],\n",
              " '1202.0': ['PEARL CRYSTAL PUMPKIN T-LIGHT HLDR'],\n",
              " '1203.0': ['SET/6 FRUIT SALAD PAPER CUPS'],\n",
              " '1204.0': ['DINOSAUR LUNCH BOX WITH CUTLERY'],\n",
              " '1205.0': ['PICNIC BOXES SET OF 3 RETROSPOT '],\n",
              " '1206.0': ['PARTY BUNTING'],\n",
              " '1207.0': ['ETCHED GLASS COASTER'],\n",
              " '1208.0': ['FRENCH STYLE STORAGE JAR BONBONS'],\n",
              " '1209.0': ['ASSORTED COLOUR MINI CASES'],\n",
              " '121.0': ['PINK  POLKADOT CUP'],\n",
              " '1210.0': ['DRAWER KNOB CRACKLE GLAZE PINK'],\n",
              " '1211.0': ['SMALL GLASS HEART TRINKET POT'],\n",
              " '1212.0': ['TOILET SIGN OCCUPIED OR VACANT'],\n",
              " '1213.0': ['BLUE PARTY BAGS '],\n",
              " '1214.0': ['BIG DOUGHNUT FRIDGE MAGNETS'],\n",
              " '1215.0': ['FRENCH TOILET SIGN BLUE METAL'],\n",
              " '1216.0': ['LIGHT GARLAND BUTTERFILES PINK'],\n",
              " '1217.0': ['VINTAGE CREAM DOG FOOD CONTAINER'],\n",
              " '1218.0': ['RED SPOT CERAMIC DRAWER KNOB'],\n",
              " '1219.0': ['GARDENERS KNEELING PAD KEEP CALM '],\n",
              " '122.0': ['RIDGED GLASS FINGER BOWL'],\n",
              " '1220.0': ['LUNCH BAG RED RETROSPOT'],\n",
              " '1221.0': ['NATURAL SLATE RECTANGLE CHALKBOARD'],\n",
              " '1222.0': ['PARTY BUNTING'],\n",
              " '1223.0': ['TRAVEL CARD WALLET KEEP CALM'],\n",
              " '1224.0': ['SET 6 PAPER TABLE LANTERN HEARTS '],\n",
              " '1225.0': ['BLUE SPOT CERAMIC DRAWER KNOB'],\n",
              " '1226.0': ['RATTLE SNAKE EGGS'],\n",
              " '1227.0': ['CLASSIC FRENCH STYLE BASKET GREEN '],\n",
              " '1228.0': ['SPOTTY BUNTING'],\n",
              " '1229.0': ['JUMBO BAG STRAWBERRY'],\n",
              " '123.0': ['FAIRY CAKE DESIGN UMBRELLA'],\n",
              " '1230.0': ['SET/2 RED RETROSPOT TEA TOWELS '],\n",
              " '1231.0': ['SET/6 FRUIT SALAD  PAPER PLATES'],\n",
              " '1232.0': ['TRAVEL CARD WALLET VINTAGE LEAF'],\n",
              " '1233.0': ['GREEN DRAWER KNOB ACRYLIC EDWARDIAN'],\n",
              " '1234.0': ['PACK OF 20 SKULL PAPER NAPKINS'],\n",
              " '1235.0': ['PACK OF 60 DINOSAUR CAKE CASES'],\n",
              " '1236.0': ['PACK OF 6 SKULL PAPER PLATES'],\n",
              " '1237.0': ['PANTRY WASHING UP BRUSH'],\n",
              " '1238.0': ['REGENCY TEA PLATE GREEN '],\n",
              " '1239.0': ['WOOD BLACK BOARD ANT WHITE FINISH'],\n",
              " '124.0': ['TRIPLE PHOTO FRAME CORNICE '],\n",
              " '1240.0': ['CHILDRENS APRON APPLES DESIGN'],\n",
              " '1241.0': ['PAPER BUNTING VINTAGE PAISLEY'],\n",
              " '1242.0': ['SET 3 RETROSPOT TEA,COFFEE,SUGAR'],\n",
              " '1243.0': ['ANTIQUE ALL GLASS CANDLESTICK'],\n",
              " '1244.0': ['BLUE POLKADOT GARDEN PARASOL'],\n",
              " '1245.0': ['JUMBO BAG RED RETROSPOT'],\n",
              " '1246.0': ['S/2 ZINC HEART DESIGN PLANTERS'],\n",
              " '1247.0': ['WOODEN PICTURE FRAME WHITE FINISH'],\n",
              " '1248.0': ['SET OF 4 ENGLISH ROSE COASTERS'],\n",
              " '1249.0': ['BLACK RECORD COVER FRAME'],\n",
              " '125.0': ['WOOD STAMP SET FLOWERS'],\n",
              " '1250.0': ['SMALL DOLLY MIX DESIGN ORANGE BOWL'],\n",
              " '1251.0': ['RED RETROSPOT PICNIC BAG'],\n",
              " '1252.0': ['SMALL GLASS HEART TRINKET POT'],\n",
              " '1253.0': ['VINTAGE CREAM 3 BASKET CAKE STAND'],\n",
              " '1254.0': ['RED SPOTTY BISCUIT TIN'],\n",
              " '1255.0': ['SWALLOWS GREETING CARD'],\n",
              " '1256.0': ['WHITE BROCANTE SOAP DISH'],\n",
              " '1257.0': ['BUNDLE OF 3 ALPHABET EXERCISE BOOKS'],\n",
              " '1258.0': ['VINTAGE RED TEATIME MUG'],\n",
              " '1259.0': ['KIDS RAIN MAC PINK'],\n",
              " '126.0': ['RED SPOT CERAMIC DRAWER KNOB'],\n",
              " '1260.0': ['MAKE YOUR OWN FLOWERPOWER CARD KIT'],\n",
              " '1261.0': ['SET OF 6 SNACK LOAF BAKING CASES'],\n",
              " '1262.0': ['TRADITIONAL KNITTING NANCY'],\n",
              " '1263.0': ['LED TEA LIGHTS'],\n",
              " '1264.0': ['GLITTER CHRISTMAS STAR '],\n",
              " '1265.0': ['WOODEN FRAME ANTIQUE WHITE '],\n",
              " '1266.0': ['BULL DOG BOTTLE TOP WALL CLOCK'],\n",
              " '1267.0': ['CHARLOTTE BAG APPLES DESIGN'],\n",
              " '1268.0': ['VICTORIAN SEWING BOX MEDIUM'],\n",
              " '1269.0': ['MINI PAINT SET VINTAGE '],\n",
              " '127.0': ['EDWARDIAN PARASOL NATURAL'],\n",
              " '1270.0': ['CHARLOTTE BAG APPLES DESIGN'],\n",
              " '1271.0': ['FELTCRAFT GIRL AMELIE KIT'],\n",
              " '1272.0': ['CERAMIC CAKE DESIGN SPOTTED PLATE'],\n",
              " '1273.0': ['BALLOON PUMP WITH 10 BALLOONS'],\n",
              " '1274.0': ['TRAVEL CARD WALLET VINTAGE TICKET'],\n",
              " '1275.0': ['GARDENERS KNEELING PAD KEEP CALM '],\n",
              " '1276.0': ['HOME BUILDING BLOCK WORD'],\n",
              " '1277.0': ['SET OF 6 TEA TIME BAKING CASES'],\n",
              " '1278.0': ['ASSORTED COLOUR BIRD ORNAMENT'],\n",
              " '1279.0': ['SET OF 6 SNACK LOAF BAKING CASES'],\n",
              " '128.0': ['ASSORTED COLOURS SILK FAN'],\n",
              " '1280.0': ['METAL 4 HOOK HANGER FRENCH CHATEAU'],\n",
              " '1281.0': ['12 PENCILS TALL TUBE POSY'],\n",
              " '1282.0': ['GARDENERS KNEELING PAD KEEP CALM '],\n",
              " '1283.0': ['GARDENERS KNEELING PAD CUP OF TEA '],\n",
              " '1284.0': ['WOODEN PICTURE FRAME WHITE FINISH'],\n",
              " '1285.0': ['REGENCY MILK JUG PINK '],\n",
              " '1286.0': ['HANGING JAM JAR T-LIGHT HOLDER'],\n",
              " '1287.0': ['SET OF 6 TEA TIME BAKING CASES'],\n",
              " '1288.0': ['SMALL YELLOW BABUSHKA NOTEBOOK '],\n",
              " '1289.0': ['SET OF 6 TEA TIME BAKING CASES'],\n",
              " '129.0': ['3 TIER CAKE TIN GREEN AND CREAM'],\n",
              " '1290.0': ['COLOUR GLASS T-LIGHT HOLDER HANGING'],\n",
              " '1291.0': ['BLUE SAVANNAH PICNIC HAMPER FOR 2'],\n",
              " '1292.0': ['BLUE VINTAGE SPOT BEAKER'],\n",
              " '1293.0': ['LOVE HEART TRINKET POT'],\n",
              " '1294.0': ['SET OF 4 KNICK KNACK TINS LONDON '],\n",
              " '1295.0': ['PINK VINTAGE SPOT BEAKER'],\n",
              " '1296.0': ['JUMBO BAG CHARLIE AND LOLA TOYS'],\n",
              " '1297.0': ['GARDENERS KNEELING PAD CUP OF TEA '],\n",
              " '1298.0': ['WHITE WICKER STAR '],\n",
              " '1299.0': ['ZINC T-LIGHT HOLDER STARS SMALL'],\n",
              " '13.0': ['TREASURE TIN GYMKHANA DESIGN'],\n",
              " '130.0': ['BLACK/BLUE POLKADOT UMBRELLA'],\n",
              " '1300.0': ['EMPIRE TISSUE BOX'],\n",
              " '1301.0': ['GLITTER HANGING BUTTERFLY STRING'],\n",
              " '1302.0': ['PIGGY BANK RETROSPOT '],\n",
              " '1303.0': ['DOILEY STORAGE TIN'],\n",
              " '1304.0': ['BLACK LOVE BIRD CANDLE'],\n",
              " '1305.0': ['HANGING HEART ZINC T-LIGHT HOLDER'],\n",
              " '1306.0': ['LETTER \"C\" BLING KEY RING'],\n",
              " '1307.0': ['AIRLINE BAG VINTAGE TOKYO 78'],\n",
              " '1308.0': ['AIRLINE BAG VINTAGE JET SET BROWN'],\n",
              " '1309.0': ['PARTY BUNTING'],\n",
              " '131.0': ['SMALL DOLLY MIX DESIGN ORANGE BOWL'],\n",
              " '1310.0': ['WHITE HANGING HEART T-LIGHT HOLDER'],\n",
              " '1311.0': ['GIN + TONIC DIET METAL SIGN'],\n",
              " '1312.0': ['KNICKERBOCKERGLORY MAGNET ASSORTED '],\n",
              " '1313.0': ['SET/4 BUTTERFLY MIRROR MAGNETS'],\n",
              " '1314.0': ['POSTAGE'],\n",
              " '1315.0': ['PARTY BUNTING'],\n",
              " '1316.0': ['CHILDRENS CUTLERY POLKADOT PINK'],\n",
              " '1317.0': ['TRAVEL CARD WALLET PANTRY'],\n",
              " '1318.0': ['FOLK ART METAL HEART T-LIGHT HOLDER'],\n",
              " '1319.0': ['GAOLERS KEYS DECORATIVE GARDEN '],\n",
              " '132.0': ['RED RETROSPOT SHOPPER BAG'],\n",
              " '1320.0': ['SKULL LUNCH BOX WITH CUTLERY '],\n",
              " '1321.0': ['ROMANTIC PINKS RIBBONS '],\n",
              " '1322.0': ['VINTAGE RED ENAMEL TRIM JUG '],\n",
              " '1323.0': ['SET/6 RED SPOTTY PAPER PLATES'],\n",
              " '1324.0': ['GINGHAM HEART DECORATION'],\n",
              " '1325.0': ['WRAP CAROUSEL'],\n",
              " '1326.0': ['STAR WOODEN CHRISTMAS DECORATION'],\n",
              " '1327.0': ['NUMBER TILE VINTAGE FONT 7'],\n",
              " '1328.0': ['SPOTTY BUNTING'],\n",
              " '1329.0': ['SUKI  SHOULDER BAG'],\n",
              " '133.0': ['BULL DOG BOTTLE OPENER'],\n",
              " '1330.0': ['PARTY BUNTING'],\n",
              " '1331.0': ['CHILDRENS CUTLERY POLKADOT PINK'],\n",
              " '1332.0': ['GREEN GIANT GARDEN THERMOMETER'],\n",
              " '1333.0': ['36 PENCILS TUBE RED RETROSPOT'],\n",
              " '1334.0': ['GROW YOUR OWN BASIL IN ENAMEL MUG'],\n",
              " '1335.0': ['NO JUNK MAIL METAL SIGN'],\n",
              " '1336.0': ['CHARLIE & LOLA WASTEPAPER BIN FLORA'],\n",
              " '1337.0': ['PINK GOOSE FEATHER TREE 60CM'],\n",
              " '1338.0': ['BATHROOM METAL SIGN'],\n",
              " '1339.0': ['RIBBON REEL STRIPES DESIGN '],\n",
              " '134.0': ['POPCORN HOLDER'],\n",
              " '1340.0': ['FILIGREE HEART DAISY WHITE'],\n",
              " '1341.0': ['REGENCY CAKESTAND 3 TIER'],\n",
              " '1342.0': ['CHRISTMAS CRAFT LITTLE FRIENDS'],\n",
              " '1343.0': ['METAL SIGN EMPIRE TEA'],\n",
              " '1344.0': ['SCOTTIE DOGS BABY BIB'],\n",
              " '1345.0': ['PACK OF 72 SKULL CAKE CASES'],\n",
              " '1346.0': [\"CHILDREN'S SPACEBOY MUG\"],\n",
              " '1347.0': ['GEORGIAN TRINKET BOX'],\n",
              " '1348.0': ['TRADITIONAL CHRISTMAS RIBBONS'],\n",
              " '1349.0': ['SPACEBOY LUNCH BOX '],\n",
              " '135.0': ['CHILDS GARDEN TROWEL BLUE '],\n",
              " '1350.0': ['MAN FLU METAL SIGN'],\n",
              " '1351.0': [\"YOU'RE CONFUSING ME METAL SIGN \"],\n",
              " '1352.0': ['72 SWEETHEART FAIRY CAKE CASES'],\n",
              " '1353.0': ['BUNDLE OF 3 RETRO NOTE BOOKS'],\n",
              " '1354.0': ['PINK FAIRY CAKE CHILDRENS APRON'],\n",
              " '1355.0': ['HEART OF WICKER LARGE'],\n",
              " '1356.0': ['MIDNIGHT GLAMOUR SCARF KNITTING KIT'],\n",
              " '1357.0': ['BALLOON PUMP WITH 10 BALLOONS'],\n",
              " '1358.0': ['PAPER CHAIN KIT RETROSPOT'],\n",
              " '1359.0': ['RECIPE BOX PANTRY YELLOW DESIGN'],\n",
              " '136.0': ['WATERING CAN PINK BUNNY'],\n",
              " '1360.0': ['SPOTTY BUNTING'],\n",
              " '1361.0': ['SET OF 9 BLACK SKULL BALLOONS'],\n",
              " '1362.0': ['SET OF 9 HEART SHAPED BALLOONS'],\n",
              " '1363.0': ['CHARLOTTE BAG SUKI DESIGN'],\n",
              " '1364.0': ['JAZZ HEARTS ADDRESS BOOK'],\n",
              " '1365.0': ['PACK OF 6 SMALL FRUIT STRAWS'],\n",
              " '1366.0': ['LUNCH BAG CARS BLUE'],\n",
              " '1367.0': ['MISTLETOE HEART WREATH CREAM'],\n",
              " '1368.0': ['STRAWBERRY CHARLOTTE BAG'],\n",
              " '1369.0': ['BOX OF 24 COCKTAIL PARASOLS'],\n",
              " '137.0': ['RED RETROSPOT SHOPPER BAG'],\n",
              " '1370.0': ['SET OF 4 KNICK KNACK TINS LONDON '],\n",
              " '1371.0': ['COLOUR GLASS. STAR T-LIGHT HOLDER'],\n",
              " '1372.0': ['JUMBO BAG WOODLAND ANIMALS'],\n",
              " '1373.0': ['FAN BLACK FRAME '],\n",
              " '1374.0': ['12 PENCILS TALL TUBE POSY'],\n",
              " '1375.0': ['CHILDRENS CUTLERY CIRCUS PARADE'],\n",
              " '1376.0': ['CHILDRENS CUTLERY DOLLY GIRL '],\n",
              " '1377.0': ['CLASSIC FRENCH STYLE BASKET BROWN'],\n",
              " '1378.0': ['FOLDING UMBRELLA BLACKBLUE POLKADOT'],\n",
              " '1379.0': ['PIGGY BANK RETROSPOT '],\n",
              " '138.0': ['RED RETROSPOT ROUND CAKE TINS'],\n",
              " '1380.0': ['FOLDING UMBRELLA WHITE/RED POLKADOT'],\n",
              " '1381.0': ['FOLDING UMBRELLA PINKWHITE POLKADOT'],\n",
              " '1382.0': ['PLASTERS IN TIN SKULLS'],\n",
              " '1383.0': ['WHITE HANGING HEART T-LIGHT HOLDER'],\n",
              " '1384.0': ['RED HANGING HEART T-LIGHT HOLDER'],\n",
              " '1385.0': ['COLOUR GLASS T-LIGHT HOLDER HANGING'],\n",
              " '1386.0': ['DOORMAT RED RETROSPOT'],\n",
              " '1387.0': ['JAM MAKING SET WITH JARS'],\n",
              " '1388.0': ['KITCHEN METAL SIGN'],\n",
              " '1389.0': ['BLUE HAPPY BIRTHDAY BUNTING'],\n",
              " '139.0': ['RED RETROSPOT MUG'],\n",
              " '1390.0': ['DO NOT TOUCH MY STUFF DOOR HANGER '],\n",
              " '1391.0': ['MOODY GIRL DOOR HANGER '],\n",
              " '1392.0': ['SMALL POLKADOT CHOCOLATE GIFT BAG '],\n",
              " '1393.0': ['PAPER BUNTING RETROSPOT'],\n",
              " '1394.0': ['MAGNETS PACK OF 4 SWALLOWS'],\n",
              " '1395.0': ['SET 2 PANTRY DESIGN TEA TOWELS'],\n",
              " '1396.0': ['KITCHEN METAL SIGN'],\n",
              " '1397.0': ['SKULL AND CROSSBONES  GARLAND '],\n",
              " '1398.0': ['TRAVEL CARD WALLET KEEP CALM'],\n",
              " '1399.0': ['RED RETROSPOT CUP'],\n",
              " '14.0': ['CHERRY BLOSSOM  DECORATIVE FLASK'],\n",
              " '140.0': ['PIGGY BANK RETROSPOT '],\n",
              " '1400.0': ['JUMBO BAG PINK POLKADOT'],\n",
              " '1401.0': ['BLOSSOM IMAGES GIFT WRAP SET'],\n",
              " '1402.0': ['SET OF 4 PANTRY JELLY MOULDS'],\n",
              " '1403.0': ['TRADITIONAL WOODEN CATCH CUP GAME '],\n",
              " '1404.0': ['CHRISTMAS TREE PAINTED ZINC '],\n",
              " '1405.0': ['BRIGHT BLUES RIBBONS '],\n",
              " '1406.0': ['LUNCH BAG DOILEY PATTERN '],\n",
              " '1407.0': ['UNION JACK FLAG LUGGAGE TAG'],\n",
              " '1408.0': ['REX CASH+CARRY JUMBO SHOPPER'],\n",
              " '1409.0': ['DOORMAT KEEP CALM AND COME IN'],\n",
              " '141.0': ['FIVE CATS HANGING DECORATION'],\n",
              " '1410.0': ['PACK OF 12 SKULL TISSUES'],\n",
              " '1411.0': ['SMALL HEART FLOWERS HOOK '],\n",
              " '1412.0': ['T-LIGHT GLASS FLUTED ANTIQUE'],\n",
              " '1413.0': ['LUNCH BOX WITH CUTLERY RETROSPOT '],\n",
              " '1414.0': ['BEWARE OF THE CAT METAL SIGN '],\n",
              " '1415.0': ['HANGING HEART WITH BELL'],\n",
              " '1416.0': ['BLACK SWEETHEART BRACELET'],\n",
              " '1417.0': ['MINIATURE ANTIQUE ROSE HOOK IVORY'],\n",
              " '1418.0': ['KEY FOB , FRONT  DOOR '],\n",
              " '1419.0': ['GREEN FERN JOURNAL '],\n",
              " '142.0': ['FRENCH BATHROOM SIGN BLUE METAL'],\n",
              " '1420.0': ['PACK OF 72 SKULL CAKE CASES'],\n",
              " '1421.0': ['BOUDOIR SQUARE TISSUE BOX'],\n",
              " '1422.0': ['ROUND SNACK BOXES SET OF 4 SKULLS'],\n",
              " '1423.0': ['DISCO BALL CHRISTMAS DECORATION'],\n",
              " '1424.0': ['RED FLOCK LOVE HEART PHOTO FRAME'],\n",
              " '1425.0': ['MIRRORED WALL ART GENTS'],\n",
              " '1426.0': ['PINK SWEETHEART BRACELET'],\n",
              " '1427.0': ['GARDENERS KNEELING PAD CUP OF TEA '],\n",
              " '1428.0': ['MISTLETOE HEART WREATH GREEN'],\n",
              " '1429.0': ['PINK REGENCY TEACUP AND SAUCER'],\n",
              " '143.0': ['SET OF 5 PANCAKE DAY MAGNETS'],\n",
              " '1430.0': ['BEACH HUT DESIGN BLACKBOARD'],\n",
              " '1431.0': ['PINK REGENCY TEACUP AND SAUCER'],\n",
              " '1432.0': ['NAMASTE SWAGAT INCENSE'],\n",
              " '1433.0': ['TRAVEL CARD WALLET SUKI'],\n",
              " '1434.0': ['WRAP SUKI AND FRIENDS'],\n",
              " '1435.0': ['CHARLIE+LOLA MY ROOM DOOR SIGN'],\n",
              " '1436.0': ['CHARLOTTE BAG SUKI DESIGN'],\n",
              " '1437.0': ['DOORMAT ENGLISH ROSE '],\n",
              " '1438.0': ['DOORMAT UNION FLAG'],\n",
              " '1439.0': ['ROUND SNACK BOXES SET OF 4 FRUITS '],\n",
              " '144.0': ['SAVE THE PLANET MUG'],\n",
              " '1440.0': ['BRIGHT BLUES RIBBONS '],\n",
              " '1441.0': ['PACK OF 12 SUKI TISSUES '],\n",
              " '1442.0': ['LUNCH BAG SUKI DESIGN '],\n",
              " '1443.0': ['LUNCH BAG CARS BLUE'],\n",
              " '1444.0': ['MAGNETS PACK OF 4 VINTAGE COLLAGE'],\n",
              " '1445.0': ['PANTRY MAGNETIC  SHOPPING LIST'],\n",
              " '1446.0': ['SET OF 60 VINTAGE LEAF CAKE CASES '],\n",
              " '1447.0': ['JAM MAKING SET PRINTED'],\n",
              " '1448.0': ['CHILLI LIGHTS'],\n",
              " '1449.0': ['GINGHAM HEART DECORATION'],\n",
              " '145.0': ['SET/4 BADGES BEETLES'],\n",
              " '1450.0': ['KITCHEN FLOWER POTS WALL PLAQUE'],\n",
              " '1451.0': ['FOLK ART METAL STAR T-LIGHT HOLDER'],\n",
              " '1452.0': ['GARDEN PATH SKETCHBOOK'],\n",
              " '1453.0': ['ABSTRACT CIRCLES SKETCHBOOK '],\n",
              " '1454.0': ['WRAP POPPIES  DESIGN'],\n",
              " '1455.0': ['DOORMAT FANCY FONT HOME SWEET HOME'],\n",
              " '1456.0': ['HANGING JAM JAR T-LIGHT HOLDER'],\n",
              " '1457.0': ['WRAP VINTAGE LEAF DESIGN'],\n",
              " '1458.0': ['WHITE HANGING HEART T-LIGHT HOLDER'],\n",
              " '1459.0': ['PINK FLOWER CROCHET FOOD COVER'],\n",
              " '146.0': ['VINTAGE DONKEY TAIL GAME '],\n",
              " '1460.0': ['ASSORTED COLOUR T-LIGHT HOLDER'],\n",
              " '1461.0': ['12 COLOURED PARTY BALLOONS'],\n",
              " '1462.0': ['LAUREL STAR ANTIQUE GOLD'],\n",
              " '1463.0': ['SKULLS  WATER TRANSFER TATTOOS '],\n",
              " '1464.0': ['CARD CAT AND TREE '],\n",
              " '1465.0': ['RECIPE BOX BLUE SKETCHBOOK DESIGN'],\n",
              " '1466.0': ['SWEETHEART CREAM STEEL TABLE RECT'],\n",
              " '1467.0': ['PAPER POCKET TRAVELING FAN '],\n",
              " '1468.0': ['CHERUB HEART DECORATION SILVER '],\n",
              " '1469.0': ['ASSORTED COLOURS SILK FAN'],\n",
              " '147.0': ['SET OF SALT AND PEPPER TOADSTOOLS'],\n",
              " '1470.0': ['CHILDRENS CUTLERY POLKADOT BLUE'],\n",
              " '1471.0': ['BALLOON WATER BOMB PACK OF 35'],\n",
              " '1472.0': ['4 SKY BLUE DINNER CANDLES'],\n",
              " '1473.0': ['JUMBO BAG DOLLY GIRL DESIGN'],\n",
              " '1474.0': ['WOODEN STAR CHRISTMAS SCANDINAVIAN'],\n",
              " '1475.0': ['RED HANGING HEART T-LIGHT HOLDER'],\n",
              " '1476.0': ['6 ROCKET BALLOONS '],\n",
              " '1477.0': ['BUBBLEGUM RING ASSORTED'],\n",
              " '1478.0': ['STRAWBERRY CHARLOTTE BAG'],\n",
              " '1479.0': ['TV DINNER TRAY VINTAGE PAISLEY'],\n",
              " '148.0': ['12 MESSAGE CARDS WITH ENVELOPES'],\n",
              " '1480.0': ['ALARM CLOCK BAKELIKE IVORY'],\n",
              " '1481.0': ['SET OF 4 NAPKIN CHARMS HEARTS'],\n",
              " '1482.0': ['HEART OF WICKER SMALL'],\n",
              " '1483.0': ['VINTAGE RED ENAMEL TRIM MUG '],\n",
              " '1484.0': ['BLUE HAPPY BIRTHDAY BUNTING'],\n",
              " '1485.0': ['GLASS STAR FROSTED T-LIGHT HOLDER'],\n",
              " '1486.0': ['RETROSPOT TEA SET CERAMIC 11 PC '],\n",
              " '1487.0': ['DOUGHNUT LIP GLOSS '],\n",
              " '1488.0': ['TRADITIONAL CHRISTMAS RIBBONS'],\n",
              " '1489.0': ['WASHROOM METAL SIGN'],\n",
              " '149.0': ['MAGIC DRAWING SLATE SPACEBOY '],\n",
              " '1490.0': ['JUMBO BAG VINTAGE CHRISTMAS '],\n",
              " '1491.0': ['LARGE DECO JEWELLERY STAND'],\n",
              " '1492.0': ['LOVE BUILDING BLOCK WORD'],\n",
              " '1493.0': ['3 TRADITIONAl BISCUIT CUTTERS  SET'],\n",
              " '1494.0': ['METAL SIGN NEIGHBOURHOOD WITCH '],\n",
              " '1495.0': ['SET OF 4 KNICK KNACK TINS LEAVES '],\n",
              " '1496.0': ['FELTCRAFT CUSHION RABBIT'],\n",
              " '1497.0': ['PARLOUR CERAMIC WALL HOOK'],\n",
              " '1498.0': ['CHARLOTTE BAG DOLLY GIRL DESIGN'],\n",
              " '1499.0': ['STRIPES DESIGN TEDDY'],\n",
              " '15.0': ['20 DOLLY PEGS RETROSPOT'],\n",
              " '150.0': ['PACK OF 6 COCKTAIL PARASOL STRAWS'],\n",
              " '1500.0': ['PINK DRAWER KNOB ACRYLIC EDWARDIAN'],\n",
              " '1501.0': ['DINOSAUR HEIGHT CHART STICKER SET'],\n",
              " '1502.0': ['WOODEN BOX OF DOMINOES'],\n",
              " '1503.0': [\"BISCUIT TIN 50'S CHRISTMAS\"],\n",
              " '1504.0': ['PURPLE/BLUE CERAMIC CANDLE HOLDER'],\n",
              " '1505.0': ['BLUE/YELLOW CERAMIC CANDLE HOLDER'],\n",
              " '1506.0': ['GREEN/BLUE CERAMIC CANDLE HOLDER'],\n",
              " '1507.0': ['RED SPOTTY BISCUIT TIN'],\n",
              " '1508.0': ['SET/6 RED SPOTTY PAPER PLATES'],\n",
              " '1509.0': ['KEY FOB , BACK DOOR '],\n",
              " '151.0': ['FELTCRAFT PRINCESS LOLA DOLL'],\n",
              " '1510.0': ['LAUNDRY 15C METAL SIGN'],\n",
              " '1511.0': ['GIRLS VINTAGE TIN SEASIDE BUCKET'],\n",
              " '1512.0': ['BOYS VINTAGE TIN SEASIDE BUCKET'],\n",
              " '1513.0': ['BUBBLEGUM RING ASSORTED'],\n",
              " '1514.0': ['FOLDING BUTTERFLY MIRROR HOT PINK '],\n",
              " '1515.0': ['PACK OF 6 LARGE FRUIT STRAWS '],\n",
              " '1516.0': ['MINI PAINT SET VINTAGE '],\n",
              " '1517.0': ['ZINC  STAR T-LIGHT HOLDER '],\n",
              " '1518.0': ['RETROSPOT TEA SET CERAMIC 11 PC '],\n",
              " '1519.0': ['MINT DINER WALL CLOCK'],\n",
              " '152.0': ['FELTCRAFT PRINCESS OLIVIA DOLL'],\n",
              " '1520.0': ['LETTER SHAPE PENCIL SHARPENER'],\n",
              " '1521.0': ['SET OF 36 DOILIES PANTRY DESIGN'],\n",
              " '1522.0': ['SPOTTY BUNTING'],\n",
              " '1523.0': ['FOOD COVER WITH BEADS SET 2 '],\n",
              " '1524.0': ['TABLECLOTH RED APPLES DESIGN '],\n",
              " '1525.0': ['STRAWBERRY HONEYCOMB  GARLAND '],\n",
              " '1526.0': ['RED RETROSPOT PURSE '],\n",
              " '1527.0': ['ASSORTED COLOURS SILK FAN'],\n",
              " '1528.0': ['I LOVE LONDON BABY GIFT SET'],\n",
              " '1529.0': ['PAPER BUNTING RETROSPOT'],\n",
              " '153.0': ['ICE CREAM PEN LIP GLOSS '],\n",
              " '1530.0': ['SET 3 WICKER STORAGE BASKETS '],\n",
              " '1531.0': ['CHOCOLATE 1 WICK MORRIS BOX CANDLE'],\n",
              " '1532.0': ['WOODEN ROUNDERS GARDEN SET '],\n",
              " '1533.0': ['WOODEN CROQUET GARDEN SET'],\n",
              " '1534.0': ['WOODEN SKITTLES GARDEN SET'],\n",
              " '1535.0': ['ZINC HERB GARDEN CONTAINER'],\n",
              " '1536.0': ['SET 40 HEART SHAPE PETIT FOUR CASES'],\n",
              " '1537.0': ['ROUND PURPLE CLOCK WITH SUCKER'],\n",
              " '1538.0': ['TRADITIONAL KNITTING NANCY'],\n",
              " '1539.0': ['BLOSSOM IMAGES GIFT WRAP SET'],\n",
              " '154.0': ['VINTAGE CREAM CAT FOOD CONTAINER'],\n",
              " '1540.0': ['CHILDS GARDEN SPADE PINK'],\n",
              " '1541.0': ['DOORMAT FAIRY CAKE'],\n",
              " '1542.0': ['RETROSPOT LARGE MILK JUG'],\n",
              " '1543.0': ['CHILDS GARDEN FORK BLUE '],\n",
              " '1544.0': ['PACK OF 12 LONDON TISSUES '],\n",
              " '1545.0': ['EDWARDIAN PARASOL NATURAL'],\n",
              " '1546.0': ['LUNCH BAG  BLACK SKULL.'],\n",
              " '1547.0': ['ROUND SNACK BOXES SET OF4 WOODLAND '],\n",
              " '1548.0': ['JINGLE BELL HEART DECORATION'],\n",
              " '1549.0': ['SET OF 6 SNACK LOAF BAKING CASES'],\n",
              " '155.0': ['CHILDRENS APRON SPACEBOY DESIGN'],\n",
              " '1550.0': ['MAGNETS PACK OF 4 VINTAGE LABELS '],\n",
              " '1551.0': ['CHILDRENS CUTLERY DOLLY GIRL '],\n",
              " '1552.0': ['DOORMAT NEW ENGLAND'],\n",
              " '1553.0': ['JUMBO BAG APPLES'],\n",
              " '1554.0': ['SET/5 RED RETROSPOT LID GLASS BOWLS'],\n",
              " '1555.0': ['CHILDS GARDEN FORK PINK'],\n",
              " '1556.0': ['PLACE SETTING WHITE HEART'],\n",
              " '1557.0': ['HANGING HEART JAR T-LIGHT HOLDER'],\n",
              " '1558.0': ['PACK OF SIX LED TEA LIGHTS'],\n",
              " '1559.0': ['EMBOSSED GLASS TEALIGHT HOLDER'],\n",
              " '156.0': ['PACK OF 6 LARGE FRUIT STRAWS '],\n",
              " '1560.0': ['WHITE HANGING HEART T-LIGHT HOLDER'],\n",
              " '1561.0': ['DOORMAT KEEP CALM AND COME IN'],\n",
              " '1562.0': ['BREAD BIN DINER STYLE IVORY'],\n",
              " '1563.0': ['COFFEE MUG PEARS  DESIGN'],\n",
              " '1564.0': ['PACK OF 12 WOODLAND TISSUES '],\n",
              " '1565.0': ['JAM MAKING SET WITH JARS'],\n",
              " '1566.0': ['CHARLOTTE BAG SUKI DESIGN'],\n",
              " '1567.0': ['PLASTERS IN TIN WOODLAND ANIMALS'],\n",
              " '1568.0': ['6 RIBBONS RUSTIC CHARM'],\n",
              " '1569.0': ['TOILET SIGN OCCUPIED OR VACANT'],\n",
              " '1570.0': ['SPACEBOY LUNCH BOX '],\n",
              " '1571.0': ['REGENCY TEA SPOON'],\n",
              " '1572.0': ['CHILDS BREAKFAST SET SPACEBOY '],\n",
              " '1573.0': ['SET OF 6 TEA TIME BAKING CASES'],\n",
              " '1574.0': ['SKULLS AND CROSSBONES WRAP'],\n",
              " '1575.0': ['BLUE STRIPE CERAMIC DRAWER KNOB'],\n",
              " '1576.0': ['QUEEN OF THE SKIES PASSPORT COVER '],\n",
              " '1577.0': ['SET OF 2 CERAMIC PAINTED HEARTS '],\n",
              " '1578.0': ['EMPIRE GIFT WRAP'],\n",
              " '1579.0': ['EMPIRE BIRTHDAY CARD'],\n",
              " '158.0': ['KNEELING MAT HOUSEWORK  DESIGN'],\n",
              " '1580.0': ['CHILDS BREAKFAST SET DOLLY GIRL '],\n",
              " '1581.0': ['SET 7 BABUSHKA NESTING BOXES'],\n",
              " '1582.0': ['MEASURING TAPE BABUSHKA RED'],\n",
              " '1583.0': ['ROUND ARTICULATED PINK CLOCK W/SUCK'],\n",
              " '1584.0': ['JIGSAW RABBIT AND BIRDHOUSE'],\n",
              " '1585.0': [' SPACEBOY BABY GIFT SET'],\n",
              " '1586.0': ['DOLLY GIRL BABY GIFT SET'],\n",
              " '1587.0': ['BLUE CIRCLES DESIGN TEDDY'],\n",
              " '1588.0': ['BALLOON PUMP WITH 10 BALLOONS'],\n",
              " '1589.0': ['FIVE HEART HANGING DECORATION'],\n",
              " '159.0': ['SET OF 60 I LOVE LONDON CAKE CASES '],\n",
              " '1590.0': ['AIRLINE BAG VINTAGE TOKYO 78'],\n",
              " '1591.0': ['WOODLAND CHARLOTTE BAG'],\n",
              " '1592.0': ['CHARLOTTE BAG PINK POLKADOT'],\n",
              " '1593.0': ['JUMBO BAG PINK VINTAGE PAISLEY'],\n",
              " '1594.0': ['LARGE RED RETROSPOT WINDMILL'],\n",
              " '1595.0': ['PACK OF 12 COLOURED PENCILS'],\n",
              " '1596.0': ['RED TOADSTOOL LED NIGHT LIGHT'],\n",
              " '1597.0': ['EGG FRYING PAN IVORY '],\n",
              " '1598.0': ['EGG FRYING PAN BLUE '],\n",
              " '1599.0': ['EGG FRYING PAN RED '],\n",
              " '16.0': ['12 PENCILS TALL TUBE SKULLS'],\n",
              " '160.0': ['BLUE POLKADOT BEAKER '],\n",
              " '1600.0': ['ROUND BLUE CLOCK WITH SUCKER'],\n",
              " '1601.0': ['WRAP GINGHAM ROSE '],\n",
              " '1602.0': ['OVEN MITT APPLES DESIGN'],\n",
              " '1603.0': ['ANTIQUE GLASS DRESSING TABLE POT'],\n",
              " '1604.0': ['SWEETHEART WIRE MAGAZINE RACK'],\n",
              " '1605.0': ['LANTERN CREAM GAZEBO '],\n",
              " '1606.0': ['SWEETHEART CAKESTAND 3 TIER'],\n",
              " '1607.0': ['WRAP RED APPLES '],\n",
              " '1608.0': ['DOORMAT FANCY FONT HOME SWEET HOME'],\n",
              " '1609.0': ['LUNCH BAG VINTAGE LEAF DESIGN'],\n",
              " '161.0': ['LARGE WHITE HEART OF WICKER'],\n",
              " '1610.0': ['ROUND SNACK BOXES SET OF 4 FRUITS '],\n",
              " '1611.0': ['POSTAGE'],\n",
              " '1612.0': ['DOORMAT TOPIARY'],\n",
              " '1614.0': ['CIRCUS PARADE BABY GIFT SET'],\n",
              " '1615.0': ['REGENCY CAKE FORK'],\n",
              " '1616.0': ['REGENCY SUGAR TONGS'],\n",
              " '1617.0': ['DOORMAT NEW ENGLAND'],\n",
              " '1618.0': ['ANTIQUE SILVER T-LIGHT GLASS'],\n",
              " '1619.0': ['CHRISTMAS CRAFT LITTLE FRIENDS'],\n",
              " '162.0': ['BLACK STITCHED WALL CLOCK'],\n",
              " '1620.0': ['COLOUR GLASS T-LIGHT HOLDER HANGING'],\n",
              " '1621.0': ['SMALL CERAMIC TOP STORAGE JAR '],\n",
              " '1622.0': ['SET OF 6 SNACK LOAF BAKING CASES'],\n",
              " '1623.0': ['SET OF 12 FAIRY CAKE BAKING CASES'],\n",
              " '1624.0': ['SET OF 12 MINI LOAF BAKING CASES'],\n",
              " '1625.0': ['BAG 125g SWIRLY MARBLES'],\n",
              " '1626.0': ['TREASURE TIN BUFFALO BILL '],\n",
              " '1627.0': ['SET OF 60 PANTRY DESIGN CAKE CASES '],\n",
              " '1628.0': ['BLACK PIRATE TREASURE CHEST'],\n",
              " '1629.0': ['LANTERN CREAM GAZEBO '],\n",
              " '163.0': [\"I'M ON HOLIDAY METAL SIGN\"],\n",
              " '1630.0': ['JAZZ HEARTS ADDRESS BOOK'],\n",
              " '1631.0': ['AIRLINE BAG VINTAGE WORLD CHAMPION '],\n",
              " '1632.0': ['ABC TREASURE BOOK BOX '],\n",
              " '1633.0': ['BLUE PAISLEY TISSUE BOX'],\n",
              " '1634.0': ['GARDENERS KNEELING PAD CUP OF TEA '],\n",
              " '1635.0': ['BAG 125g SWIRLY MARBLES'],\n",
              " '1636.0': ['SET/6 COLLAGE PAPER PLATES'],\n",
              " '1637.0': ['JUMBO BAG VINTAGE LEAF'],\n",
              " '1638.0': ['DOORMAT RED RETROSPOT'],\n",
              " '1639.0': ['BLUE HARMONICA IN BOX '],\n",
              " '164.0': ['SET/20 RED RETROSPOT PAPER NAPKINS '],\n",
              " '1640.0': ['CORDIAL GLASS JUG'],\n",
              " '1641.0': ['DRAWER KNOB CRACKLE GLAZE IVORY'],\n",
              " '1642.0': ['COSY SLIPPER SHOES SMALL GREEN'],\n",
              " '1643.0': ['WATERING CAN GREEN DINOSAUR'],\n",
              " '1644.0': ['ALPHABET STENCIL CRAFT'],\n",
              " '1645.0': ['RECYCLED ACAPULCO MAT TURQUOISE'],\n",
              " '1646.0': ['LUNCH BAG VINTAGE LEAF DESIGN'],\n",
              " '1647.0': ['IVORY KNITTED MUG COSY '],\n",
              " '1648.0': ['BOTANICAL LILY GREETING CARD'],\n",
              " '1649.0': ['TREASURE TIN BUFFALO BILL '],\n",
              " '165.0': ['WHITE STITCHED WALL CLOCK'],\n",
              " '1650.0': ['PARTY CONE CHRISTMAS DECORATION '],\n",
              " '1651.0': ['ALARM CLOCK BAKELIKE GREEN'],\n",
              " '1652.0': ['WRAP ALPHABET DESIGN'],\n",
              " '1653.0': ['FRENCH KITCHEN SIGN BLUE METAL'],\n",
              " '1654.0': ['JAZZ HEARTS PURSE NOTEBOOK'],\n",
              " '1655.0': ['MULTI COLOUR SILVER T-LIGHT HOLDER'],\n",
              " '1656.0': ['ANTIQUE SILVER T-LIGHT GLASS'],\n",
              " '1657.0': ['S/4 PINK FLOWER CANDLES IN BOWL'],\n",
              " '1658.0': ['MINI JIGSAW SPACEBOY'],\n",
              " '1659.0': ['CHARLIE+LOLA\"EXTREMELY BUSY\" SIGN'],\n",
              " '166.0': ['SAVOY ART DECO CLOCK'],\n",
              " '1660.0': ['AIRLINE BAG VINTAGE JET SET BROWN'],\n",
              " '1661.0': ['MINIATURE ANTIQUE ROSE HOOK IVORY'],\n",
              " '1662.0': [\"CHILDREN'S SPACEBOY MUG\"],\n",
              " '1663.0': ['12 RED ROSE PEG PLACE SETTINGS'],\n",
              " '1664.0': ['RED SPOTTY BISCUIT TIN'],\n",
              " '1665.0': ['SILVER STARS TABLE DECORATION'],\n",
              " '1666.0': ['PINK VINTAGE PAISLEY PICNIC BAG'],\n",
              " '1667.0': ['FRENCH WC SIGN BLUE METAL'],\n",
              " '1668.0': ['VINTAGE SNAP CARDS'],\n",
              " '1669.0': ['CREAM CUPID HEARTS COAT HANGER'],\n",
              " '167.0': ['SPOTTY BUNTING'],\n",
              " '1670.0': ['SET OF 5 LUCKY CAT MAGNETS '],\n",
              " '1671.0': ['IVORY HANGING DECORATION  HEART'],\n",
              " '1672.0': ['ROUND CONTAINER SET OF 5 RETROSPOT'],\n",
              " '1673.0': ['SET/10 PINK POLKADOT PARTY CANDLES'],\n",
              " '1674.0': ['COLOUR GLASS T-LIGHT HOLDER HANGING'],\n",
              " '1675.0': ['REX CASH+CARRY JUMBO SHOPPER'],\n",
              " '1676.0': ['SET/6 COLLAGE PAPER CUPS'],\n",
              " '1677.0': ['60 TEATIME FAIRY CAKE CASES'],\n",
              " '1678.0': ['SMALL WHITE HEART OF WICKER'],\n",
              " '1679.0': ['MADRAS NOTEBOOK LARGE '],\n",
              " '168.0': ['WOODEN UNION JACK BUNTING'],\n",
              " '1680.0': ['AIRLINE BAG VINTAGE JET SET RED'],\n",
              " '1681.0': ['SET/6 PINK  BUTTERFLY T-LIGHTS'],\n",
              " '1682.0': ['CHILDRENS CUTLERY RETROSPOT RED '],\n",
              " '1683.0': ['RED HANGING HEART T-LIGHT HOLDER'],\n",
              " '1684.0': ['CHILDRENS APRON APPLES DESIGN'],\n",
              " '1685.0': ['TRADITIONAL WOODEN CATCH CUP GAME '],\n",
              " '1686.0': ['PINK BLUE FELT CRAFT TRINKET BOX'],\n",
              " '1687.0': ['CHILDS GARDEN RAKE PINK'],\n",
              " '1688.0': ['SMALL MARSHMALLOWS PINK BOWL'],\n",
              " '1689.0': ['CERAMIC CHERRY CAKE MONEY BANK'],\n",
              " '169.0': ['PARTY BUNTING'],\n",
              " '1690.0': ['FELTCRAFT 6 FLOWER FRIENDS'],\n",
              " '1691.0': ['FELTCRAFT GIRL AMELIE KIT'],\n",
              " '1692.0': ['BAG 250g SWIRLY MARBLES'],\n",
              " '1693.0': ['HOLIDAY FUN LUDO'],\n",
              " '1694.0': ['RAINBOW PEGS PHOTO CLIP STRING'],\n",
              " '1695.0': ['LUNCH BOX I LOVE LONDON'],\n",
              " '1696.0': ['HANGING HEART JAR T-LIGHT HOLDER'],\n",
              " '1697.0': ['SET OF TEA COFFEE SUGAR TINS PANTRY'],\n",
              " '1698.0': ['SET OF 6 SNACK LOAF BAKING CASES'],\n",
              " '1699.0': ['CHOCOLATE CALCULATOR'],\n",
              " '17.0': ['ANTIQUE SILVER T-LIGHT GLASS'],\n",
              " '170.0': ['HANGING HEART JAR T-LIGHT HOLDER'],\n",
              " '1700.0': ['ASSORTED COLOURS SILK FAN'],\n",
              " '1701.0': ['SLEEPING CAT ERASERS'],\n",
              " '1702.0': ['ALARM CLOCK BAKELIKE PINK'],\n",
              " '1703.0': ['PINK VINTAGE SPOT BEAKER'],\n",
              " '1704.0': ['ANTIQUE SILVER T-LIGHT GLASS'],\n",
              " '1705.0': ['BLUE VINTAGE SPOT BEAKER'],\n",
              " '1706.0': ['LUNCH BAG VINTAGE LEAF DESIGN'],\n",
              " '1707.0': ['NATURAL SLATE HEART CHALKBOARD '],\n",
              " '1708.0': ['FRENCH BATHROOM SIGN BLUE METAL'],\n",
              " '1709.0': ['SET OF 2 WOODEN MARKET CRATES'],\n",
              " '171.0': ['COLOUR GLASS. STAR T-LIGHT HOLDER'],\n",
              " '1710.0': ['SPOTTY BUNTING'],\n",
              " '1711.0': ['JUMBO BAG STRAWBERRY'],\n",
              " '1712.0': ['ANTIQUE SILVER T-LIGHT GLASS'],\n",
              " '1713.0': ['ENCHANTED BIRD COATHANGER 5 HOOK'],\n",
              " '1714.0': ['SET OF 3 BLACK FLYING DUCKS'],\n",
              " '1715.0': ['SMALL HANGING IVORY/RED WOOD BIRD'],\n",
              " '1716.0': ['ASSORTED COLOUR BIRD ORNAMENT'],\n",
              " '1717.0': ['HEART OF WICKER SMALL'],\n",
              " '1718.0': ['LARGE WHITE HEART OF WICKER'],\n",
              " '1719.0': ['PAINTED METAL PEARS ASSORTED'],\n",
              " '172.0': ['GINGHAM HEART DECORATION'],\n",
              " '1720.0': ['VICTORIAN  METAL POSTCARD SPRING'],\n",
              " '1721.0': ['PARTY BUNTING'],\n",
              " '1722.0': ['KEY FOB , BACK DOOR '],\n",
              " '1723.0': ['GARDENERS KNEELING PAD KEEP CALM '],\n",
              " '1724.0': ['NATURAL SLATE RECTANGLE CHALKBOARD'],\n",
              " '1725.0': ['RING OF ROSES BIRTHDAY CARD'],\n",
              " '1726.0': ['KEY FOB , GARAGE DESIGN'],\n",
              " '1727.0': ['SILVER HEARTS TABLE DECORATION'],\n",
              " '1728.0': ['ZINC T-LIGHT HOLDER STAR LARGE'],\n",
              " '1729.0': ['RETROSPOT GIANT TUBE MATCHES'],\n",
              " '173.0': ['RED RETROSPOT CAKE STAND'],\n",
              " '1730.0': ['TOILET SIGN OCCUPIED OR VACANT'],\n",
              " '1731.0': ['KEY FOB , FRONT  DOOR '],\n",
              " '1732.0': ['KEY FOB , BACK DOOR '],\n",
              " '1733.0': ['TRIPLE PHOTO FRAME CORNICE '],\n",
              " '1734.0': ['EIGHT PIECE SNAKE  SET'],\n",
              " '1735.0': ['PACK 3 BOXES BIRD PANNETONE '],\n",
              " '1736.0': ['RED RETROSPOT PICNIC BAG'],\n",
              " '1737.0': ['COLOUR GLASS T-LIGHT HOLDER HANGING'],\n",
              " '1738.0': ['PENS ASSORTED FUNNY FACE'],\n",
              " '1739.0': ['JIGSAW TREE WITH BIRDHOUSE'],\n",
              " '174.0': ['EDWARDIAN PARASOL RED'],\n",
              " '1740.0': ['JIGSAW RABBIT AND BIRDHOUSE'],\n",
              " '1741.0': ['SPACEBOY LUNCH BOX '],\n",
              " '1742.0': ['RETROSPOT TEA SET CERAMIC 11 PC '],\n",
              " '1743.0': ['JUMBO BAG APPLES'],\n",
              " '1744.0': ['JUMBO BAG DOILEY PATTERNS'],\n",
              " '1745.0': ['PANTRY SCRUBBING BRUSH'],\n",
              " '1746.0': ['WOOD 2 DRAWER CABINET WHITE FINISH'],\n",
              " '1747.0': ['CHILDRENS CUTLERY POLKADOT BLUE'],\n",
              " '1748.0': ['CHILDS GARDEN SPADE BLUE'],\n",
              " '1749.0': ['SET/3 VANILLA SCENTED CANDLE IN BOX'],\n",
              " '175.0': ['DOLLY GIRL LUNCH BOX'],\n",
              " '1750.0': ['SET OF 6 SNACK LOAF BAKING CASES'],\n",
              " '1751.0': ['CHILDRENS APRON SPACEBOY DESIGN'],\n",
              " '1752.0': ['RETRO PLASTIC POLKA TRAY'],\n",
              " '1753.0': ['TOTE BAG I LOVE LONDON'],\n",
              " '1754.0': ['HOMEMADE JAM SCENTED CANDLES'],\n",
              " '1755.0': ['GRAND CHOCOLATECANDLE'],\n",
              " '1756.0': ['PINK BABY BUNTING'],\n",
              " '1757.0': ['SET OF 3 REGENCY CAKE TINS'],\n",
              " '1758.0': ['DOORMAT NEIGHBOURHOOD WITCH '],\n",
              " '1759.0': ['DOORMAT WELCOME SUNRISE'],\n",
              " '176.0': ['CHOCOLATE THIS WAY METAL SIGN'],\n",
              " '1760.0': ['DOORMAT KEEP CALM AND COME IN'],\n",
              " '1761.0': ['AIRLINE BAG VINTAGE TOKYO 78'],\n",
              " '1762.0': ['PINK HAWAIIAN PICNIC HAMPER FOR 2'],\n",
              " '1763.0': ['3 HOOK HANGER MAGIC GARDEN'],\n",
              " '1764.0': ['TREASURE TIN BUFFALO BILL '],\n",
              " '1765.0': ['TREASURE TIN GYMKHANA DESIGN'],\n",
              " '1766.0': ['SET OF 3 REGENCY CAKE TINS'],\n",
              " '1767.0': ['PHOTO FRAME CORNICE'],\n",
              " '1768.0': ['PICTURE FRAME WOOD TRIPLE PORTRAIT'],\n",
              " '1769.0': ['FRENCH ENAMEL POT W LID'],\n",
              " '177.0': ['BOX OF VINTAGE ALPHABET BLOCKS'],\n",
              " '1770.0': ['JUMBO  BAG BAROQUE BLACK WHITE'],\n",
              " '1771.0': ['PACK OF 60 DINOSAUR CAKE CASES'],\n",
              " '1772.0': ['RETRO PLASTIC DAISY TRAY'],\n",
              " '1773.0': ['DRAWER KNOB CRACKLE GLAZE IVORY'],\n",
              " '1774.0': ['SET OF 4 PANTRY JELLY MOULDS'],\n",
              " '1775.0': ['PINK FAIRY CAKE CHILDRENS APRON'],\n",
              " '1776.0': ['PINK BABY BUNTING'],\n",
              " '1777.0': ['DOLLY GIRL LUNCH BOX'],\n",
              " '1778.0': ['72 SWEETHEART FAIRY CAKE CASES'],\n",
              " '1779.0': ['SILVER HEARTS TABLE DECORATION'],\n",
              " '178.0': ['COSY SLIPPER SHOES LARGE GREEN'],\n",
              " '1780.0': ['ENAMEL FLOWER JUG CREAM'],\n",
              " '1781.0': ['SKULLS GREETING CARD'],\n",
              " '1782.0': ['ROUND PURPLE CLOCK WITH SUCKER'],\n",
              " '1783.0': ['BROWN KUKUI COCONUT SEED NECKLACE'],\n",
              " '1784.0': ['RECYCLED ACAPULCO MAT PINK'],\n",
              " '1785.0': ['GARDENERS KNEELING PAD KEEP CALM '],\n",
              " '1786.0': ['JUMBO BAG DOILEY PATTERNS'],\n",
              " '1787.0': ['WATERING CAN BLUE ELEPHANT'],\n",
              " '1788.0': ['CHRISTMAS CRAFT TREE TOP ANGEL'],\n",
              " '1789.0': ['REGENCY SUGAR TONGS'],\n",
              " '179.0': ['SET OF 4 PANTRY JELLY MOULDS'],\n",
              " '1790.0': ['EDWARDIAN PARASOL NATURAL'],\n",
              " '1791.0': ['RED RETROSPOT PICNIC BAG'],\n",
              " '1792.0': ['SET OF 3 REGENCY CAKE TINS'],\n",
              " '1793.0': ['HAPPY STENCIL CRAFT'],\n",
              " '1794.0': ['MONSTERS STENCIL CRAFT'],\n",
              " '1795.0': ['LUNCH BAG APPLE DESIGN'],\n",
              " '1796.0': ['JUMBO  BAG BAROQUE BLACK WHITE'],\n",
              " '1797.0': ['TOILET METAL SIGN'],\n",
              " '1798.0': ['JUMBO BAG PINK POLKADOT'],\n",
              " '1799.0': ['RED KUKUI COCONUT SEED NECKLACE'],\n",
              " '18.0': ['FLAMES SUNGLASSES PINK LENSES'],\n",
              " '180.0': ['PACK OF 20 NAPKINS RED APPLES'],\n",
              " '1800.0': ['JUMBO  BAG BAROQUE BLACK WHITE'],\n",
              " '1801.0': ['PARTY INVITES SPACEMAN'],\n",
              " '1802.0': ['CINDERELLA CHANDELIER '],\n",
              " '1803.0': ['PARTY INVITES JAZZ HEARTS'],\n",
              " '1804.0': ['FANCY FONT BIRTHDAY CARD, '],\n",
              " '1805.0': ['HEART OF WICKER LARGE'],\n",
              " '1806.0': ['WOOD BLACK BOARD ANT WHITE FINISH'],\n",
              " '1807.0': ['LARGE WHITE HEART OF WICKER'],\n",
              " '1808.0': ['PINK DINER WALL CLOCK'],\n",
              " '1809.0': ['BAKING SET 9 PIECE RETROSPOT '],\n",
              " '181.0': ['RECYCLED ACAPULCO MAT LAVENDER'],\n",
              " '1810.0': ['FELTCRAFT 6 FLOWER FRIENDS'],\n",
              " '1811.0': ['MAGIC DRAWING SLATE SPACEBOY '],\n",
              " '1812.0': ['HOMEMADE JAM SCENTED CANDLES'],\n",
              " '1813.0': ['SMALL DECO JEWELLERY STAND'],\n",
              " '1814.0': ['JUMBO BAG PEARS'],\n",
              " '1815.0': ['KNEELING MAT HOUSEWORK  DESIGN'],\n",
              " '1816.0': ['PHOTO FRAME 3 CLASSIC HANGING'],\n",
              " '1817.0': ['SCANDINAVIAN PAISLEY PICNIC BAG'],\n",
              " '1818.0': ['ASSORTED COLOUR BIRD ORNAMENT'],\n",
              " '1819.0': ['BUBBLEGUM RING ASSORTED'],\n",
              " '182.0': ['RECYCLED ACAPULCO MAT TURQUOISE'],\n",
              " '1820.0': ['LED TEA LIGHTS'],\n",
              " '1821.0': ['12 PENCILS SMALL TUBE SKULL'],\n",
              " '1822.0': ['BLUE POLKADOT PLATE '],\n",
              " '1823.0': ['DINOSAUR KEYRINGS ASSORTED'],\n",
              " '1824.0': ['WHITE HANGING HEART T-LIGHT HOLDER'],\n",
              " '1825.0': ['LUNCH BAG VINTAGE LEAF DESIGN'],\n",
              " '1826.0': ['SMALL SKULL WINDMILL'],\n",
              " '1827.0': ['WRAP ALPHABET DESIGN'],\n",
              " '1828.0': ['EASTER TIN KEEPSAKE'],\n",
              " '1829.0': ['VICTORIAN GLASS HANGING T-LIGHT'],\n",
              " '183.0': ['DOORMAT WELCOME TO OUR HOME'],\n",
              " '1830.0': ['LARGE IVORY HEART WALL ORGANISER'],\n",
              " '1831.0': ['IVORY KITCHEN SCALES'],\n",
              " '1832.0': ['VINTAGE LEAF MAGNETIC NOTEPAD'],\n",
              " '1833.0': ['PANTRY MAGNETIC  SHOPPING LIST'],\n",
              " '1834.0': ['RED RETROSPOT WRAP '],\n",
              " '1835.0': ['LUNCH BAG  BLACK SKULL.'],\n",
              " '1836.0': ['HOT WATER BOTTLE I AM SO POORLY'],\n",
              " '1837.0': ['LUNCH BAG RED RETROSPOT'],\n",
              " '1838.0': ['PACK OF 60 PINK PAISLEY CAKE CASES'],\n",
              " '1839.0': ['RED HANGING HEART T-LIGHT HOLDER'],\n",
              " '184.0': ['ENAMEL PINK COFFEE CONTAINER'],\n",
              " '1840.0': ['RETRO PLASTIC ELEPHANT TRAY'],\n",
              " '1841.0': ['LUNCH BAG DOLLY GIRL DESIGN'],\n",
              " '1842.0': ['WOODEN UNION JACK BUNTING'],\n",
              " '1843.0': ['SMALL MARSHMALLOWS PINK BOWL'],\n",
              " '1844.0': ['RED SPOT CERAMIC DRAWER KNOB'],\n",
              " '1845.0': ['FANCY FONT BIRTHDAY CARD, '],\n",
              " '1846.0': ['LUNCH BAG DOILEY PATTERN '],\n",
              " '1847.0': ['STRAWBERRY CHARLOTTE BAG'],\n",
              " '1848.0': ['RED RETROSPOT CHARLOTTE BAG'],\n",
              " '1849.0': ['STRAWBERRY RAFFIA FOOD COVER'],\n",
              " '185.0': ['TRIANGULAR POUFFE VINTAGE '],\n",
              " '1850.0': ['DANISH ROSE DELUXE COASTER'],\n",
              " '1851.0': ['RETROSPOT TEA SET CERAMIC 11 PC '],\n",
              " '1852.0': ['BREAD BIN DINER STYLE RED '],\n",
              " '1853.0': ['3 TIER CAKE TIN RED AND CREAM'],\n",
              " '1854.0': ['ROUND BLUE CLOCK WITH SUCKER'],\n",
              " '1855.0': ['SMALL WHITE HEART OF WICKER'],\n",
              " '1856.0': ['FLOWER PURPLE CLOCK WITH SUCKER'],\n",
              " '1857.0': ['CARAVAN SQUARE TISSUE BOX'],\n",
              " '1858.0': ['POLKADOT COFFEE CUP & SAUCER PINK'],\n",
              " '1859.0': ['ROSE PENDANT TRIPLE SHELL NECKLACE'],\n",
              " '186.0': ['Manual'],\n",
              " '1860.0': ['RECIPE BOX BLUE SKETCHBOOK DESIGN'],\n",
              " '1861.0': ['PINK VINTAGE SPOT BEAKER'],\n",
              " '1862.0': ['BREAD BIN DINER STYLE IVORY'],\n",
              " '1863.0': ['POPCORN HOLDER'],\n",
              " '1864.0': ['REGENCY TEA PLATE PINK'],\n",
              " '1865.0': ['GINGHAM HEART DECORATION'],\n",
              " '1866.0': ['DRAWER KNOB CRACKLE GLAZE BLUE'],\n",
              " '1867.0': ['72 SWEETHEART FAIRY CAKE CASES'],\n",
              " '1868.0': ['WHITE HANGING HEART T-LIGHT HOLDER'],\n",
              " '1869.0': ['HEARTS  STICKERS'],\n",
              " '187.0': ['BISCUIT TIN VINTAGE GREEN'],\n",
              " '1870.0': ['HEARTS GIFT TAPE'],\n",
              " '1871.0': ['SET OF 36 MUSHROOM PAPER DOILIES'],\n",
              " '1872.0': ['RED RETROSPOT SMALL MILK JUG'],\n",
              " '1873.0': ['ENAMEL FIRE BUCKET CREAM'],\n",
              " '1874.0': ['PINK FAIRY CAKE CHILDRENS APRON'],\n",
              " '1875.0': ['HANGING HEART ZINC T-LIGHT HOLDER'],\n",
              " '1876.0': ['CANDY SPOT EGG WARMER RABBIT'],\n",
              " '1877.0': ['ENAMEL FLOWER JUG CREAM'],\n",
              " '1878.0': ['20 DOLLY PEGS RETROSPOT'],\n",
              " '1879.0': ['RED RETROSPOT SMALL MILK JUG'],\n",
              " '188.0': ['BISCUIT TIN VINTAGE RED'],\n",
              " '1880.0': ['JAM MAKING SET WITH JARS'],\n",
              " '1881.0': ['WRAP VINTAGE PETALS  DESIGN'],\n",
              " '1882.0': ['POPCORN HOLDER'],\n",
              " '1883.0': ['SET OF 4 PANTRY JELLY MOULDS'],\n",
              " '1884.0': ['ASSORTED COLOUR BIRD ORNAMENT'],\n",
              " '1885.0': ['CLASSIC GLASS COOKIE JAR'],\n",
              " '1886.0': ['WHITE HANGING HEART T-LIGHT HOLDER'],\n",
              " '1887.0': ['METAL SIGN,CUPCAKE SINGLE HOOK'],\n",
              " '1888.0': ['3 HOOK HANGER MAGIC GARDEN'],\n",
              " '1889.0': ['BLUE POLKADOT PLATE '],\n",
              " '189.0': ['WRAP VINTAGE LEAF DESIGN'],\n",
              " '1890.0': ['VINTAGE SNAP CARDS'],\n",
              " '1891.0': ['BLUE POLKADOT BOWL'],\n",
              " '1892.0': ['DOLLY GIRL CHILDRENS BOWL'],\n",
              " '1893.0': ['RECORD FRAME 7\" SINGLE SIZE '],\n",
              " '1894.0': ['PICTURE FRAME WOOD TRIPLE PORTRAIT'],\n",
              " '1895.0': ['IVORY PENDANT TRIPLE SHELL NECKLACE'],\n",
              " '1896.0': ['ROUND SNACK BOXES SET OF 4 FRUITS '],\n",
              " '1897.0': ['PETIT TRAY CHIC'],\n",
              " '1898.0': ['WOODEN PICTURE FRAME WHITE FINISH'],\n",
              " '1899.0': ['ROSES REGENCY TEACUP AND SAUCER '],\n",
              " '19.0': ['PINK PARTY SUNGLASSES'],\n",
              " '190.0': ['WRAP RED APPLES '],\n",
              " '1900.0': ['MINI JIGSAW DOLLY GIRL'],\n",
              " '1901.0': ['MINI JIGSAW GO TO THE FAIR'],\n",
              " ...}"
            ]
          },
          "metadata": {
            "tags": []
          },
          "execution_count": 47
        }
      ]
    },
    {
      "cell_type": "code",
      "metadata": {
        "id": "qkrE6B1ybhvR",
        "colab_type": "code",
        "colab": {}
      },
      "source": [
        "#def similar_products(no, n = 10):\n",
        " #   v=model[no]\n",
        "    # extract most similar products for the input vector\n",
        "#    ms = model.similar_by_vector(v, topn= n+1)[1:]\n",
        "    \n",
        "    # extract name and similarity score of the similar products\n",
        "#    new_ms = []\n",
        "#    for j in ms:\n",
        "#        k=products.loc[products['StockCode'] == j[0],'UnitPrice'].tolist()\n",
        "#        pair = (j[0], products_dict[ j[0]][0], k[0], j[1])\n",
        " #       new_ms.append(pair)\n",
        "    \n",
        " #   return pd.DataFrame(new_ms,columns=['StockCode','Product','Price','Weightage']).sort_values(by=['Price'],ascending=False).\\\n",
        " #                   set_index('StockCode')"
      ],
      "execution_count": null,
      "outputs": []
    },
    {
      "cell_type": "code",
      "metadata": {
        "id": "sBHQ-ux5h7o1",
        "colab_type": "code",
        "colab": {}
      },
      "source": [
        "#swapnil\n",
        "def similar_products(no, n = 10):\n",
        "    v=model[no]\n",
        "    # extract most similar products for the input vector\n",
        "    ms = model.similar_by_vector(v, topn= n+1)[1:]\n",
        "    \n",
        "    # extract name and similarity score of the similar products\n",
        "    new_ms = []\n",
        "    for j in ms:\n",
        "        k=products.loc[products['item_code'] == j[0],'UnitPrice'].tolist()\n",
        "        pair = (j[0], products_dict[ j[0]][0], k[0], j[1])\n",
        "        new_ms.append(pair)\n",
        "    \n",
        "    return pd.DataFrame(new_ms,columns=['item_code','Product','Price','Weightage']).sort_values(by=['Price'],ascending=False).\\\n",
        "                    set_index('item_code')"
      ],
      "execution_count": null,
      "outputs": []
    },
    {
      "cell_type": "code",
      "metadata": {
        "id": "_zBRNQlPkj4J",
        "colab_type": "code",
        "colab": {}
      },
      "source": [
        "#def product_detail(var): \n",
        "#    prod_name=products_dict[var]\n",
        " #   prod_value=products.loc[products['StockCode'] == var,'UnitPrice'].tolist()\n",
        " #   list_of_tuples = [(var,prod_name[0],prod_value[0])]\n",
        " #   return pd.DataFrame(list_of_tuples,columns=['StockCode','Description','Price']).set_index('StockCode') "
      ],
      "execution_count": null,
      "outputs": []
    },
    {
      "cell_type": "code",
      "metadata": {
        "id": "AFTfPB1siayQ",
        "colab_type": "code",
        "colab": {}
      },
      "source": [
        "#swapnil\n",
        "def product_detail(var): \n",
        "    prod_name=products_dict[var]\n",
        "    prod_value=products.loc[products['item_code'] == var,'UnitPrice'].tolist()\n",
        "    list_of_tuples = [(var,prod_name[0],prod_value[0])]\n",
        "    return pd.DataFrame(list_of_tuples,columns=['item_code','Description','Price']).set_index('item_code') "
      ],
      "execution_count": null,
      "outputs": []
    },
    {
      "cell_type": "code",
      "metadata": {
        "id": "-gg4z5xtkzCw",
        "colab_type": "code",
        "colab": {}
      },
      "source": [
        "#product_detail('85123A') "
      ],
      "execution_count": null,
      "outputs": []
    },
    {
      "cell_type": "code",
      "metadata": {
        "id": "XMHkNnVubimj",
        "colab_type": "code",
        "colab": {}
      },
      "source": [
        "#similar_products('85123A')"
      ],
      "execution_count": null,
      "outputs": []
    },
    {
      "cell_type": "code",
      "metadata": {
        "id": "tayFW0kTbmG5",
        "colab_type": "code",
        "colab": {}
      },
      "source": [
        "#product_detail('16218')\n",
        "#similar_products('16218')"
      ],
      "execution_count": null,
      "outputs": []
    },
    {
      "cell_type": "code",
      "metadata": {
        "id": "BOYdQRmck-b4",
        "colab_type": "code",
        "colab": {}
      },
      "source": [
        "#product_detail('22464')\n",
        "#similar_products('22464')"
      ],
      "execution_count": null,
      "outputs": []
    },
    {
      "cell_type": "code",
      "metadata": {
        "id": "GY9l799Dr4RM",
        "colab_type": "code",
        "colab": {
          "base_uri": "https://localhost:8080/",
          "height": 512
        },
        "outputId": "9a8523e7-21ce-452b-fac6-e7248bae8987"
      },
      "source": [
        "#swapnil\n",
        "#product_detail('167.0')\n",
        "similar_products('379.0')"
      ],
      "execution_count": null,
      "outputs": [
        {
          "output_type": "stream",
          "text": [
            "/usr/local/lib/python3.6/dist-packages/ipykernel_launcher.py:3: DeprecationWarning: Call to deprecated `__getitem__` (Method will be removed in 4.0.0, use self.wv.__getitem__() instead).\n",
            "  This is separate from the ipykernel package so we can avoid doing imports until\n",
            "/usr/local/lib/python3.6/dist-packages/ipykernel_launcher.py:5: DeprecationWarning: Call to deprecated `similar_by_vector` (Method will be removed in 4.0.0, use self.wv.similar_by_vector() instead).\n",
            "  \"\"\"\n",
            "/usr/local/lib/python3.6/dist-packages/gensim/matutils.py:737: FutureWarning: Conversion of the second argument of issubdtype from `int` to `np.signedinteger` is deprecated. In future, it will be treated as `np.int64 == np.dtype(int).type`.\n",
            "  if np.issubdtype(vec.dtype, np.int):\n"
          ],
          "name": "stderr"
        },
        {
          "output_type": "execute_result",
          "data": {
            "text/html": [
              "<div>\n",
              "<style scoped>\n",
              "    .dataframe tbody tr th:only-of-type {\n",
              "        vertical-align: middle;\n",
              "    }\n",
              "\n",
              "    .dataframe tbody tr th {\n",
              "        vertical-align: top;\n",
              "    }\n",
              "\n",
              "    .dataframe thead th {\n",
              "        text-align: right;\n",
              "    }\n",
              "</style>\n",
              "<table border=\"1\" class=\"dataframe\">\n",
              "  <thead>\n",
              "    <tr style=\"text-align: right;\">\n",
              "      <th></th>\n",
              "      <th>Product</th>\n",
              "      <th>Price</th>\n",
              "      <th>Weightage</th>\n",
              "    </tr>\n",
              "    <tr>\n",
              "      <th>item_code</th>\n",
              "      <th></th>\n",
              "      <th></th>\n",
              "      <th></th>\n",
              "    </tr>\n",
              "  </thead>\n",
              "  <tbody>\n",
              "    <tr>\n",
              "      <th>318.0</th>\n",
              "      <td>RED CHARLIE+LOLA PERSONAL DOORSIGN</td>\n",
              "      <td>4</td>\n",
              "      <td>1</td>\n",
              "    </tr>\n",
              "    <tr>\n",
              "      <th>316.0</th>\n",
              "      <td>SMALL PARISIENNE HEART PHOTO FRAME</td>\n",
              "      <td>4</td>\n",
              "      <td>1</td>\n",
              "    </tr>\n",
              "    <tr>\n",
              "      <th>352.0</th>\n",
              "      <td>EDWARDIAN PARASOL PINK</td>\n",
              "      <td>4</td>\n",
              "      <td>1</td>\n",
              "    </tr>\n",
              "    <tr>\n",
              "      <th>408.0</th>\n",
              "      <td>PARTY BUNTING</td>\n",
              "      <td>3</td>\n",
              "      <td>1</td>\n",
              "    </tr>\n",
              "    <tr>\n",
              "      <th>407.0</th>\n",
              "      <td>JAM JAR WITH PINK LID</td>\n",
              "      <td>2</td>\n",
              "      <td>1</td>\n",
              "    </tr>\n",
              "    <tr>\n",
              "      <th>370.0</th>\n",
              "      <td>FAIRY TALE COTTAGE NIGHTLIGHT</td>\n",
              "      <td>2</td>\n",
              "      <td>1</td>\n",
              "    </tr>\n",
              "    <tr>\n",
              "      <th>383.0</th>\n",
              "      <td>PLASTERS IN TIN CIRCUS PARADE</td>\n",
              "      <td>2</td>\n",
              "      <td>1</td>\n",
              "    </tr>\n",
              "    <tr>\n",
              "      <th>349.0</th>\n",
              "      <td>GARDENERS KNEELING PAD CUP OF TEA</td>\n",
              "      <td>1</td>\n",
              "      <td>1</td>\n",
              "    </tr>\n",
              "    <tr>\n",
              "      <th>372.0</th>\n",
              "      <td>DINOSAUR KEYRINGS ASSORTED</td>\n",
              "      <td>1</td>\n",
              "      <td>1</td>\n",
              "    </tr>\n",
              "    <tr>\n",
              "      <th>363.0</th>\n",
              "      <td>LUNCH BAG  BLACK SKULL.</td>\n",
              "      <td>1</td>\n",
              "      <td>1</td>\n",
              "    </tr>\n",
              "  </tbody>\n",
              "</table>\n",
              "</div>"
            ],
            "text/plain": [
              "                                       Product  Price  Weightage\n",
              "item_code                                                       \n",
              "318.0       RED CHARLIE+LOLA PERSONAL DOORSIGN      4          1\n",
              "316.0      SMALL PARISIENNE HEART PHOTO FRAME       4          1\n",
              "352.0                   EDWARDIAN PARASOL PINK      4          1\n",
              "408.0                            PARTY BUNTING      3          1\n",
              "407.0                    JAM JAR WITH PINK LID      2          1\n",
              "370.0            FAIRY TALE COTTAGE NIGHTLIGHT      2          1\n",
              "383.0           PLASTERS IN TIN CIRCUS PARADE       2          1\n",
              "349.0       GARDENERS KNEELING PAD CUP OF TEA       1          1\n",
              "372.0               DINOSAUR KEYRINGS ASSORTED      1          1\n",
              "363.0                  LUNCH BAG  BLACK SKULL.      1          1"
            ]
          },
          "metadata": {
            "tags": []
          },
          "execution_count": 74
        }
      ]
    },
    {
      "cell_type": "markdown",
      "metadata": {
        "id": "RPZE0E23VF6w",
        "colab_type": "text"
      },
      "source": [
        "## FINAL MODEL"
      ]
    },
    {
      "cell_type": "markdown",
      "metadata": {
        "id": "Y0ujUEobZBEN",
        "colab_type": "text"
      },
      "source": [
        ""
      ]
    },
    {
      "cell_type": "code",
      "metadata": {
        "id": "v6g7JXigyHKv",
        "colab_type": "code",
        "colab": {}
      },
      "source": [
        "def reccomend(i):\n",
        "  print(\"Original item:\", getItemDescription([i]))\n",
        "  print(\"....................................\")\n",
        "  print(\"recommended item for CROOSSELL:\", getItemDescription(getSimilarItems(i).keys()))\n",
        "  print(\"....................................\")\n",
        "  print(\".\")\n",
        "  print(\".\")\n",
        "  print(\".\")\n",
        "  print(\".\")\n",
        "  print(\"recommended item for UP SELL:\")\n",
        "  a=float(i)\n",
        "  a=str(a)\n",
        "  b = a\n",
        "  v=model[b]\n",
        "  n=5\n",
        "    # extract most similar products for the input vector\n",
        "  ms = model.similar_by_vector(v, topn= n+1)[1:]\n",
        "    \n",
        "    # extract name and similarity score of the similar products\n",
        "  new_ms = []\n",
        "  for j in ms:\n",
        "    k=products.loc[products['item_code'] == j[0],'UnitPrice'].tolist()\n",
        "    pair = (j[0], products_dict[ j[0]][0], k[0], j[1])\n",
        "    new_ms.append(pair)\n",
        "    \n",
        "  return pd.DataFrame(new_ms,columns=['item_code','Product','Price','Weightage']).sort_values(by=['Price'],ascending=False).\\\n",
        "                    set_index('item_code')\n",
        "  "
      ],
      "execution_count": 146,
      "outputs": []
    },
    {
      "cell_type": "code",
      "metadata": {
        "id": "OCdFEVxCe-Wu",
        "colab_type": "code",
        "colab": {
          "base_uri": "https://localhost:8080/",
          "height": 493
        },
        "outputId": "d36cb1f2-4b14-484b-e26a-40788e3f39e9"
      },
      "source": [
        "reccomend(194)"
      ],
      "execution_count": 151,
      "outputs": [
        {
          "output_type": "stream",
          "text": [
            "Original item: ['GARDEN PATH SKETCHBOOK']\n",
            "....................................\n",
            "recommended item for CROOSSELL: ['BLUE PAISLEY SKETCHBOOK', 'GREEN FERN SKETCHBOOK', 'ABSTRACT CIRCLES SKETCHBOOK', 'CHRYSANTHEMUM SKETCHBOOK', 'CHRYSANTHEMUM NOTEBOOK', 'BLUE PAISLEY POCKET BOOK', 'ABSTRACT CIRCLE JOURNAL', 'CHRYSANTHEMUM  JOURNAL', 'BLUE PAISLEY JOURNAL', 'GREEN FERN JOURNAL']\n",
            "....................................\n",
            ".\n",
            ".\n",
            ".\n",
            ".\n",
            "recommended item for UP SELL:\n"
          ],
          "name": "stdout"
        },
        {
          "output_type": "stream",
          "text": [
            "/usr/local/lib/python3.6/dist-packages/ipykernel_launcher.py:14: DeprecationWarning: Call to deprecated `__getitem__` (Method will be removed in 4.0.0, use self.wv.__getitem__() instead).\n",
            "  \n",
            "/usr/local/lib/python3.6/dist-packages/ipykernel_launcher.py:17: DeprecationWarning: Call to deprecated `similar_by_vector` (Method will be removed in 4.0.0, use self.wv.similar_by_vector() instead).\n",
            "/usr/local/lib/python3.6/dist-packages/gensim/matutils.py:737: FutureWarning: Conversion of the second argument of issubdtype from `int` to `np.signedinteger` is deprecated. In future, it will be treated as `np.int64 == np.dtype(int).type`.\n",
            "  if np.issubdtype(vec.dtype, np.int):\n"
          ],
          "name": "stderr"
        },
        {
          "output_type": "execute_result",
          "data": {
            "text/html": [
              "<div>\n",
              "<style scoped>\n",
              "    .dataframe tbody tr th:only-of-type {\n",
              "        vertical-align: middle;\n",
              "    }\n",
              "\n",
              "    .dataframe tbody tr th {\n",
              "        vertical-align: top;\n",
              "    }\n",
              "\n",
              "    .dataframe thead th {\n",
              "        text-align: right;\n",
              "    }\n",
              "</style>\n",
              "<table border=\"1\" class=\"dataframe\">\n",
              "  <thead>\n",
              "    <tr style=\"text-align: right;\">\n",
              "      <th></th>\n",
              "      <th>Product</th>\n",
              "      <th>Price</th>\n",
              "      <th>Weightage</th>\n",
              "    </tr>\n",
              "    <tr>\n",
              "      <th>item_code</th>\n",
              "      <th></th>\n",
              "      <th></th>\n",
              "      <th></th>\n",
              "    </tr>\n",
              "  </thead>\n",
              "  <tbody>\n",
              "    <tr>\n",
              "      <th>196.0</th>\n",
              "      <td>YULETIDE IMAGES GIFT WRAP SET</td>\n",
              "      <td>10</td>\n",
              "      <td>1</td>\n",
              "    </tr>\n",
              "    <tr>\n",
              "      <th>197.0</th>\n",
              "      <td>TEA BAG PLATE RED RETROSPOT</td>\n",
              "      <td>8</td>\n",
              "      <td>1</td>\n",
              "    </tr>\n",
              "    <tr>\n",
              "      <th>199.0</th>\n",
              "      <td>PACK OF 12 TRADITIONAL CRAYONS</td>\n",
              "      <td>4</td>\n",
              "      <td>1</td>\n",
              "    </tr>\n",
              "    <tr>\n",
              "      <th>193.0</th>\n",
              "      <td>WRAP ENGLISH ROSE</td>\n",
              "      <td>2</td>\n",
              "      <td>1</td>\n",
              "    </tr>\n",
              "    <tr>\n",
              "      <th>192.0</th>\n",
              "      <td>MAGNETS PACK OF 4 SWALLOWS</td>\n",
              "      <td>0</td>\n",
              "      <td>1</td>\n",
              "    </tr>\n",
              "  </tbody>\n",
              "</table>\n",
              "</div>"
            ],
            "text/plain": [
              "                                  Product  Price  Weightage\n",
              "item_code                                                  \n",
              "196.0       YULETIDE IMAGES GIFT WRAP SET     10          1\n",
              "197.0         TEA BAG PLATE RED RETROSPOT      8          1\n",
              "199.0      PACK OF 12 TRADITIONAL CRAYONS      4          1\n",
              "193.0                  WRAP ENGLISH ROSE       2          1\n",
              "192.0          MAGNETS PACK OF 4 SWALLOWS      0          1"
            ]
          },
          "metadata": {
            "tags": []
          },
          "execution_count": 151
        }
      ]
    },
    {
      "cell_type": "code",
      "metadata": {
        "id": "vqzsPsBefQRT",
        "colab_type": "code",
        "colab": {}
      },
      "source": [
        ""
      ],
      "execution_count": null,
      "outputs": []
    }
  ]
}